{
    "cells": [
        {
            "metadata": {},
            "cell_type": "code",
            "source": "\nimport types\nimport pandas as pd\nfrom botocore.client import Config\nimport ibm_boto3\n\ndef __iter__(self): return 0\n\n# @hidden_cell\n# The following code accesses a file in your IBM Cloud Object Storage. It includes your credentials.\n# You might want to remove those credentials before you share the notebook.\nclient_e62b6c1bb76c4710b1d1cc5aeab9a929 = ibm_boto3.client(service_name='s3',\n    ibm_api_key_id='9ZymKSD_6E0Aw3YRO1fn1RBF95BmxW_zKvIslTE4CC4g',\n    ibm_auth_endpoint=\"https://iam.cloud.ibm.com/oidc/token\",\n    config=Config(signature_version='oauth'),\n    endpoint_url='https://s3-api.us-geo.objectstorage.service.networklayer.com')\n\nbody = client_e62b6c1bb76c4710b1d1cc5aeab9a929.get_object(Bucket='databel-donotdelete-pr-d4qsbyzwywn9lq',Key='diamonds.csv')['Body']\n# add missing __iter__ method, so pandas accepts body as file-like object\nif not hasattr(body, \"__iter__\"): body.__iter__ = types.MethodType( __iter__, body )\n\ndf_data_1 = pd.read_csv(body)\ndf_data_1.head()\n",
            "execution_count": 1,
            "outputs": [
                {
                    "output_type": "execute_result",
                    "execution_count": 1,
                    "data": {
                        "text/plain": "   carat      cut color clarity  depth  table  price     x     y     z\n0   0.23    Ideal     E     SI2   61.5   55.0    326  3.95  3.98  2.43\n1   0.21  Premium     E     SI1   59.8   61.0    326  3.89  3.84  2.31\n2   0.23     Good     E     VS1   56.9   65.0    327  4.05  4.07  2.31\n3   0.29  Premium     I     VS2   62.4   58.0    334  4.20  4.23  2.63\n4   0.31     Good     J     SI2   63.3   58.0    335  4.34  4.35  2.75",
                        "text/html": "<div>\n<style scoped>\n    .dataframe tbody tr th:only-of-type {\n        vertical-align: middle;\n    }\n\n    .dataframe tbody tr th {\n        vertical-align: top;\n    }\n\n    .dataframe thead th {\n        text-align: right;\n    }\n</style>\n<table border=\"1\" class=\"dataframe\">\n  <thead>\n    <tr style=\"text-align: right;\">\n      <th></th>\n      <th>carat</th>\n      <th>cut</th>\n      <th>color</th>\n      <th>clarity</th>\n      <th>depth</th>\n      <th>table</th>\n      <th>price</th>\n      <th>x</th>\n      <th>y</th>\n      <th>z</th>\n    </tr>\n  </thead>\n  <tbody>\n    <tr>\n      <th>0</th>\n      <td>0.23</td>\n      <td>Ideal</td>\n      <td>E</td>\n      <td>SI2</td>\n      <td>61.5</td>\n      <td>55.0</td>\n      <td>326</td>\n      <td>3.95</td>\n      <td>3.98</td>\n      <td>2.43</td>\n    </tr>\n    <tr>\n      <th>1</th>\n      <td>0.21</td>\n      <td>Premium</td>\n      <td>E</td>\n      <td>SI1</td>\n      <td>59.8</td>\n      <td>61.0</td>\n      <td>326</td>\n      <td>3.89</td>\n      <td>3.84</td>\n      <td>2.31</td>\n    </tr>\n    <tr>\n      <th>2</th>\n      <td>0.23</td>\n      <td>Good</td>\n      <td>E</td>\n      <td>VS1</td>\n      <td>56.9</td>\n      <td>65.0</td>\n      <td>327</td>\n      <td>4.05</td>\n      <td>4.07</td>\n      <td>2.31</td>\n    </tr>\n    <tr>\n      <th>3</th>\n      <td>0.29</td>\n      <td>Premium</td>\n      <td>I</td>\n      <td>VS2</td>\n      <td>62.4</td>\n      <td>58.0</td>\n      <td>334</td>\n      <td>4.20</td>\n      <td>4.23</td>\n      <td>2.63</td>\n    </tr>\n    <tr>\n      <th>4</th>\n      <td>0.31</td>\n      <td>Good</td>\n      <td>J</td>\n      <td>SI2</td>\n      <td>63.3</td>\n      <td>58.0</td>\n      <td>335</td>\n      <td>4.34</td>\n      <td>4.35</td>\n      <td>2.75</td>\n    </tr>\n  </tbody>\n</table>\n</div>"
                    },
                    "metadata": {}
                }
            ]
        },
        {
            "metadata": {},
            "cell_type": "code",
            "source": "diamond = df_data_1.copy()",
            "execution_count": 2,
            "outputs": []
        },
        {
            "metadata": {},
            "cell_type": "code",
            "source": "import pandas as pd \nimport numpy as np \nimport matplotlib.pyplot as plt\nimport seaborn as sns\nfrom sklearn.ensemble import RandomForestRegressor\nfrom sklearn.pipeline import Pipeline\nfrom sklearn.model_selection import train_test_split\nfrom sklearn.feature_selection import RFECV\nfrom sklearn.linear_model import Lasso\nfrom sklearn.preprocessing import OrdinalEncoder\nfrom sklearn.compose import ColumnTransformer\nfrom sklearn.preprocessing import StandardScaler\nfrom sklearn.linear_model import Ridge\nfrom sklearn.pipeline import make_pipeline",
            "execution_count": 3,
            "outputs": []
        },
        {
            "metadata": {},
            "cell_type": "code",
            "source": "! pip install streamlit",
            "execution_count": 4,
            "outputs": [
                {
                    "output_type": "stream",
                    "text": "Requirement already satisfied: streamlit in /opt/conda/envs/Python-3.7-main/lib/python3.7/site-packages (0.75.0)\nRequirement already satisfied: requests in /opt/conda/envs/Python-3.7-main/lib/python3.7/site-packages (from streamlit) (2.24.0)\nRequirement already satisfied: pyarrow; python_version < \"3.9\" in /opt/conda/envs/Python-3.7-main/lib/python3.7/site-packages (from streamlit) (3.0.0)\nRequirement already satisfied: validators in /opt/conda/envs/Python-3.7-main/lib/python3.7/site-packages (from streamlit) (0.18.2)\nRequirement already satisfied: gitpython in /opt/conda/envs/Python-3.7-main/lib/python3.7/site-packages (from streamlit) (3.1.12)\nRequirement already satisfied: altair>=3.2.0 in /opt/conda/envs/Python-3.7-main/lib/python3.7/site-packages (from streamlit) (4.1.0)\nRequirement already satisfied: tzlocal in /opt/conda/envs/Python-3.7-main/lib/python3.7/site-packages (from streamlit) (2.1)\nRequirement already satisfied: pydeck>=0.1.dev5 in /opt/conda/envs/Python-3.7-main/lib/python3.7/site-packages (from streamlit) (0.5.0)\nRequirement already satisfied: click>=7.0 in /opt/conda/envs/Python-3.7-main/lib/python3.7/site-packages (from streamlit) (7.1.2)\nRequirement already satisfied: protobuf!=3.11,>=3.6.0 in /opt/conda/envs/Python-3.7-main/lib/python3.7/site-packages (from streamlit) (3.12.3)\nRequirement already satisfied: base58 in /opt/conda/envs/Python-3.7-main/lib/python3.7/site-packages (from streamlit) (2.1.0)\nRequirement already satisfied: tornado>=5.0 in /opt/conda/envs/Python-3.7-main/lib/python3.7/site-packages (from streamlit) (6.0.4)\nRequirement already satisfied: watchdog; platform_system != \"Darwin\" in /opt/conda/envs/Python-3.7-main/lib/python3.7/site-packages (from streamlit) (1.0.2)\nRequirement already satisfied: toml in /opt/conda/envs/Python-3.7-main/lib/python3.7/site-packages (from streamlit) (0.10.2)\nRequirement already satisfied: pillow>=6.2.0 in /opt/conda/envs/Python-3.7-main/lib/python3.7/site-packages (from streamlit) (7.2.0)\nRequirement already satisfied: numpy in /opt/conda/envs/Python-3.7-main/lib/python3.7/site-packages (from streamlit) (1.18.5)\nRequirement already satisfied: python-dateutil in /opt/conda/envs/Python-3.7-main/lib/python3.7/site-packages (from streamlit) (2.8.1)\nRequirement already satisfied: packaging in /opt/conda/envs/Python-3.7-main/lib/python3.7/site-packages (from streamlit) (20.4)\nRequirement already satisfied: pandas>=0.21.0 in /opt/conda/envs/Python-3.7-main/lib/python3.7/site-packages (from streamlit) (1.0.5)\nRequirement already satisfied: cachetools>=4.0 in /opt/conda/envs/Python-3.7-main/lib/python3.7/site-packages (from streamlit) (4.1.1)\nRequirement already satisfied: blinker in /opt/conda/envs/Python-3.7-main/lib/python3.7/site-packages (from streamlit) (1.4)\nRequirement already satisfied: astor in /opt/conda/envs/Python-3.7-main/lib/python3.7/site-packages (from streamlit) (0.8.0)\nRequirement already satisfied: chardet<4,>=3.0.2 in /opt/conda/envs/Python-3.7-main/lib/python3.7/site-packages (from requests->streamlit) (3.0.4)\nRequirement already satisfied: certifi>=2017.4.17 in /opt/conda/envs/Python-3.7-main/lib/python3.7/site-packages (from requests->streamlit) (2020.12.5)\nRequirement already satisfied: idna<3,>=2.5 in /opt/conda/envs/Python-3.7-main/lib/python3.7/site-packages (from requests->streamlit) (2.9)\nRequirement already satisfied: urllib3!=1.25.0,!=1.25.1,<1.26,>=1.21.1 in /opt/conda/envs/Python-3.7-main/lib/python3.7/site-packages (from requests->streamlit) (1.25.9)\nRequirement already satisfied: six>=1.4.0 in /opt/conda/envs/Python-3.7-main/lib/python3.7/site-packages (from validators->streamlit) (1.15.0)\nRequirement already satisfied: decorator>=3.4.0 in /opt/conda/envs/Python-3.7-main/lib/python3.7/site-packages (from validators->streamlit) (4.4.2)\nRequirement already satisfied: gitdb<5,>=4.0.1 in /opt/conda/envs/Python-3.7-main/lib/python3.7/site-packages (from gitpython->streamlit) (4.0.5)\nRequirement already satisfied: jsonschema in /opt/conda/envs/Python-3.7-main/lib/python3.7/site-packages (from altair>=3.2.0->streamlit) (3.2.0)\nRequirement already satisfied: entrypoints in /opt/conda/envs/Python-3.7-main/lib/python3.7/site-packages (from altair>=3.2.0->streamlit) (0.3)\nRequirement already satisfied: jinja2 in /opt/conda/envs/Python-3.7-main/lib/python3.7/site-packages (from altair>=3.2.0->streamlit) (2.11.2)\nRequirement already satisfied: toolz in /opt/conda/envs/Python-3.7-main/lib/python3.7/site-packages (from altair>=3.2.0->streamlit) (0.10.0)\nRequirement already satisfied: pytz in /opt/conda/envs/Python-3.7-main/lib/python3.7/site-packages (from tzlocal->streamlit) (2020.1)\nRequirement already satisfied: traitlets>=4.3.2 in /opt/conda/envs/Python-3.7-main/lib/python3.7/site-packages (from pydeck>=0.1.dev5->streamlit) (4.3.3)\nRequirement already satisfied: ipywidgets>=7.0.0 in /opt/conda/envs/Python-3.7-main/lib/python3.7/site-packages (from pydeck>=0.1.dev5->streamlit) (7.5.1)\nRequirement already satisfied: ipykernel>=5.1.2; python_version >= \"3.4\" in /opt/conda/envs/Python-3.7-main/lib/python3.7/site-packages (from pydeck>=0.1.dev5->streamlit) (5.3.0)\nRequirement already satisfied: setuptools in /opt/conda/envs/Python-3.7-main/lib/python3.7/site-packages (from protobuf!=3.11,>=3.6.0->streamlit) (47.3.1.post20200622)\nRequirement already satisfied: pyparsing>=2.0.2 in /opt/conda/envs/Python-3.7-main/lib/python3.7/site-packages (from packaging->streamlit) (2.4.7)\nRequirement already satisfied: smmap<4,>=3.0.1 in /opt/conda/envs/Python-3.7-main/lib/python3.7/site-packages (from gitdb<5,>=4.0.1->gitpython->streamlit) (3.0.5)\nRequirement already satisfied: pyrsistent>=0.14.0 in /opt/conda/envs/Python-3.7-main/lib/python3.7/site-packages (from jsonschema->altair>=3.2.0->streamlit) (0.16.0)\nRequirement already satisfied: attrs>=17.4.0 in /opt/conda/envs/Python-3.7-main/lib/python3.7/site-packages (from jsonschema->altair>=3.2.0->streamlit) (19.3.0)\nRequirement already satisfied: importlib-metadata; python_version < \"3.8\" in /opt/conda/envs/Python-3.7-main/lib/python3.7/site-packages (from jsonschema->altair>=3.2.0->streamlit) (1.6.1)\nRequirement already satisfied: MarkupSafe>=0.23 in /opt/conda/envs/Python-3.7-main/lib/python3.7/site-packages (from jinja2->altair>=3.2.0->streamlit) (1.1.1)\nRequirement already satisfied: ipython-genutils in /opt/conda/envs/Python-3.7-main/lib/python3.7/site-packages (from traitlets>=4.3.2->pydeck>=0.1.dev5->streamlit) (0.2.0)\nRequirement already satisfied: ipython>=4.0.0; python_version >= \"3.3\" in /opt/conda/envs/Python-3.7-main/lib/python3.7/site-packages (from ipywidgets>=7.0.0->pydeck>=0.1.dev5->streamlit) (7.15.0)\nRequirement already satisfied: widgetsnbextension~=3.5.0 in /opt/conda/envs/Python-3.7-main/lib/python3.7/site-packages (from ipywidgets>=7.0.0->pydeck>=0.1.dev5->streamlit) (3.5.1)\nRequirement already satisfied: nbformat>=4.2.0 in /opt/conda/envs/Python-3.7-main/lib/python3.7/site-packages (from ipywidgets>=7.0.0->pydeck>=0.1.dev5->streamlit) (5.0.7)\nRequirement already satisfied: jupyter-client in /opt/conda/envs/Python-3.7-main/lib/python3.7/site-packages (from ipykernel>=5.1.2; python_version >= \"3.4\"->pydeck>=0.1.dev5->streamlit) (6.1.3)\nRequirement already satisfied: zipp>=0.5 in /opt/conda/envs/Python-3.7-main/lib/python3.7/site-packages (from importlib-metadata; python_version < \"3.8\"->jsonschema->altair>=3.2.0->streamlit) (3.1.0)\nRequirement already satisfied: jedi>=0.10 in /opt/conda/envs/Python-3.7-main/lib/python3.7/site-packages (from ipython>=4.0.0; python_version >= \"3.3\"->ipywidgets>=7.0.0->pydeck>=0.1.dev5->streamlit) (0.17.1)\nRequirement already satisfied: prompt-toolkit!=3.0.0,!=3.0.1,<3.1.0,>=2.0.0 in /opt/conda/envs/Python-3.7-main/lib/python3.7/site-packages (from ipython>=4.0.0; python_version >= \"3.3\"->ipywidgets>=7.0.0->pydeck>=0.1.dev5->streamlit) (3.0.5)\nRequirement already satisfied: pygments in /opt/conda/envs/Python-3.7-main/lib/python3.7/site-packages (from ipython>=4.0.0; python_version >= \"3.3\"->ipywidgets>=7.0.0->pydeck>=0.1.dev5->streamlit) (2.6.1)\nRequirement already satisfied: pickleshare in /opt/conda/envs/Python-3.7-main/lib/python3.7/site-packages (from ipython>=4.0.0; python_version >= \"3.3\"->ipywidgets>=7.0.0->pydeck>=0.1.dev5->streamlit) (0.7.5)\nRequirement already satisfied: backcall in /opt/conda/envs/Python-3.7-main/lib/python3.7/site-packages (from ipython>=4.0.0; python_version >= \"3.3\"->ipywidgets>=7.0.0->pydeck>=0.1.dev5->streamlit) (0.2.0)\nRequirement already satisfied: pexpect; sys_platform != \"win32\" in /opt/conda/envs/Python-3.7-main/lib/python3.7/site-packages (from ipython>=4.0.0; python_version >= \"3.3\"->ipywidgets>=7.0.0->pydeck>=0.1.dev5->streamlit) (4.8.0)\nRequirement already satisfied: notebook>=4.4.1 in /opt/conda/envs/Python-3.7-main/lib/python3.7/site-packages (from widgetsnbextension~=3.5.0->ipywidgets>=7.0.0->pydeck>=0.1.dev5->streamlit) (6.0.3)\nRequirement already satisfied: jupyter-core in /opt/conda/envs/Python-3.7-main/lib/python3.7/site-packages (from nbformat>=4.2.0->ipywidgets>=7.0.0->pydeck>=0.1.dev5->streamlit) (4.6.3)\n",
                    "name": "stdout"
                },
                {
                    "output_type": "stream",
                    "text": "Requirement already satisfied: pyzmq>=13 in /opt/conda/envs/Python-3.7-main/lib/python3.7/site-packages (from jupyter-client->ipykernel>=5.1.2; python_version >= \"3.4\"->pydeck>=0.1.dev5->streamlit) (19.0.1)\nRequirement already satisfied: parso<0.8.0,>=0.7.0 in /opt/conda/envs/Python-3.7-main/lib/python3.7/site-packages (from jedi>=0.10->ipython>=4.0.0; python_version >= \"3.3\"->ipywidgets>=7.0.0->pydeck>=0.1.dev5->streamlit) (0.7.0)\nRequirement already satisfied: wcwidth in /opt/conda/envs/Python-3.7-main/lib/python3.7/site-packages (from prompt-toolkit!=3.0.0,!=3.0.1,<3.1.0,>=2.0.0->ipython>=4.0.0; python_version >= \"3.3\"->ipywidgets>=7.0.0->pydeck>=0.1.dev5->streamlit) (0.2.4)\nRequirement already satisfied: ptyprocess>=0.5 in /opt/conda/envs/Python-3.7-main/lib/python3.7/site-packages (from pexpect; sys_platform != \"win32\"->ipython>=4.0.0; python_version >= \"3.3\"->ipywidgets>=7.0.0->pydeck>=0.1.dev5->streamlit) (0.6.0)\nRequirement already satisfied: Send2Trash in /opt/conda/envs/Python-3.7-main/lib/python3.7/site-packages (from notebook>=4.4.1->widgetsnbextension~=3.5.0->ipywidgets>=7.0.0->pydeck>=0.1.dev5->streamlit) (1.5.0)\nRequirement already satisfied: nbconvert in /opt/conda/envs/Python-3.7-main/lib/python3.7/site-packages (from notebook>=4.4.1->widgetsnbextension~=3.5.0->ipywidgets>=7.0.0->pydeck>=0.1.dev5->streamlit) (5.6.1)\nRequirement already satisfied: terminado>=0.8.1 in /opt/conda/envs/Python-3.7-main/lib/python3.7/site-packages (from notebook>=4.4.1->widgetsnbextension~=3.5.0->ipywidgets>=7.0.0->pydeck>=0.1.dev5->streamlit) (0.8.3)\nRequirement already satisfied: prometheus-client in /opt/conda/envs/Python-3.7-main/lib/python3.7/site-packages (from notebook>=4.4.1->widgetsnbextension~=3.5.0->ipywidgets>=7.0.0->pydeck>=0.1.dev5->streamlit) (0.8.0)\nRequirement already satisfied: defusedxml in /opt/conda/envs/Python-3.7-main/lib/python3.7/site-packages (from nbconvert->notebook>=4.4.1->widgetsnbextension~=3.5.0->ipywidgets>=7.0.0->pydeck>=0.1.dev5->streamlit) (0.6.0)\nRequirement already satisfied: bleach in /opt/conda/envs/Python-3.7-main/lib/python3.7/site-packages (from nbconvert->notebook>=4.4.1->widgetsnbextension~=3.5.0->ipywidgets>=7.0.0->pydeck>=0.1.dev5->streamlit) (3.1.5)\nRequirement already satisfied: testpath in /opt/conda/envs/Python-3.7-main/lib/python3.7/site-packages (from nbconvert->notebook>=4.4.1->widgetsnbextension~=3.5.0->ipywidgets>=7.0.0->pydeck>=0.1.dev5->streamlit) (0.4.4)\nRequirement already satisfied: mistune<2,>=0.8.1 in /opt/conda/envs/Python-3.7-main/lib/python3.7/site-packages (from nbconvert->notebook>=4.4.1->widgetsnbextension~=3.5.0->ipywidgets>=7.0.0->pydeck>=0.1.dev5->streamlit) (0.8.4)\nRequirement already satisfied: pandocfilters>=1.4.1 in /opt/conda/envs/Python-3.7-main/lib/python3.7/site-packages (from nbconvert->notebook>=4.4.1->widgetsnbextension~=3.5.0->ipywidgets>=7.0.0->pydeck>=0.1.dev5->streamlit) (1.4.2)\nRequirement already satisfied: webencodings in /opt/conda/envs/Python-3.7-main/lib/python3.7/site-packages (from bleach->nbconvert->notebook>=4.4.1->widgetsnbextension~=3.5.0->ipywidgets>=7.0.0->pydeck>=0.1.dev5->streamlit) (0.5.1)\n",
                    "name": "stdout"
                }
            ]
        },
        {
            "metadata": {},
            "cell_type": "code",
            "source": "ord2 = OrdinalEncoder(categories = [[\"Fair\", \"Good\", \"Very Good\", \"Premium\", \"Ideal\"],\n                                    ['D', 'E', 'F', 'G', 'H', 'I', 'J'],\n                                    ['I1', 'SI2', 'SI1', 'VS2', 'VS1', 'VVS2', 'VVS1', 'IF']])",
            "execution_count": 5,
            "outputs": []
        },
        {
            "metadata": {},
            "cell_type": "code",
            "source": "std = StandardScaler()",
            "execution_count": 6,
            "outputs": []
        },
        {
            "metadata": {},
            "cell_type": "code",
            "source": "column_pipeline = ColumnTransformer([(\"ord\", ord2, [\"cut\", \"color\", \"clarity\"]), (\"std\", std, [\"carat\", \"x\", \"y\", \"z\"])])",
            "execution_count": 7,
            "outputs": []
        },
        {
            "metadata": {},
            "cell_type": "code",
            "source": "full_pipeline = make_pipeline(column_pipeline, RFECV(Ridge(alpha = 1.0), cv = 5), RandomForestRegressor(max_features=4, n_estimators=46))",
            "execution_count": 8,
            "outputs": []
        },
        {
            "metadata": {},
            "cell_type": "code",
            "source": "X = diamond[[\"carat\",\"cut\", \"color\", \"clarity\", \"x\", \"y\", \"z\"]]\nX_new = diamond[[\"carat\", \"x\", \"y\", \"z\"]]\ny = diamond[\"price\"]",
            "execution_count": 9,
            "outputs": []
        },
        {
            "metadata": {},
            "cell_type": "code",
            "source": "x_train, x_test, y_train, y_test = train_test_split(X, y, train_size = 0.8, random_state = 42069)\nx_train1, x_test1, y_train1, y_test1 = train_test_split(X_new, y, train_size = 0.8, random_state = 42069)",
            "execution_count": 10,
            "outputs": []
        },
        {
            "metadata": {},
            "cell_type": "code",
            "source": "model = RandomForestRegressor(max_features = 4, n_estimators = 46)",
            "execution_count": 11,
            "outputs": []
        },
        {
            "metadata": {},
            "cell_type": "code",
            "source": "model.fit(x_train1, y_train1)",
            "execution_count": 12,
            "outputs": [
                {
                    "output_type": "execute_result",
                    "execution_count": 12,
                    "data": {
                        "text/plain": "RandomForestRegressor(max_features=4, n_estimators=46)"
                    },
                    "metadata": {}
                }
            ]
        },
        {
            "metadata": {},
            "cell_type": "code",
            "source": "model.predict([[2.6, 3.5, 10.2, 9.0]])",
            "execution_count": 13,
            "outputs": [
                {
                    "output_type": "execute_result",
                    "execution_count": 13,
                    "data": {
                        "text/plain": "array([13467.67391304])"
                    },
                    "metadata": {}
                }
            ]
        },
        {
            "metadata": {},
            "cell_type": "code",
            "source": "new_df = pd.DataFrame({\"carat\":[2.6], \"cut\": [\"Fair\"], \"color\": [\"H\"], \"clarity\": [\"VVS1\"], \"x\": [3.5], \"y\": [10.2], \"z\": [9.0]})",
            "execution_count": 14,
            "outputs": []
        },
        {
            "metadata": {},
            "cell_type": "code",
            "source": "new_df.head()",
            "execution_count": 15,
            "outputs": [
                {
                    "output_type": "execute_result",
                    "execution_count": 15,
                    "data": {
                        "text/plain": "   carat   cut color clarity    x     y    z\n0    2.6  Fair     H    VVS1  3.5  10.2  9.0",
                        "text/html": "<div>\n<style scoped>\n    .dataframe tbody tr th:only-of-type {\n        vertical-align: middle;\n    }\n\n    .dataframe tbody tr th {\n        vertical-align: top;\n    }\n\n    .dataframe thead th {\n        text-align: right;\n    }\n</style>\n<table border=\"1\" class=\"dataframe\">\n  <thead>\n    <tr style=\"text-align: right;\">\n      <th></th>\n      <th>carat</th>\n      <th>cut</th>\n      <th>color</th>\n      <th>clarity</th>\n      <th>x</th>\n      <th>y</th>\n      <th>z</th>\n    </tr>\n  </thead>\n  <tbody>\n    <tr>\n      <th>0</th>\n      <td>2.6</td>\n      <td>Fair</td>\n      <td>H</td>\n      <td>VVS1</td>\n      <td>3.5</td>\n      <td>10.2</td>\n      <td>9.0</td>\n    </tr>\n  </tbody>\n</table>\n</div>"
                    },
                    "metadata": {}
                }
            ]
        },
        {
            "metadata": {},
            "cell_type": "code",
            "source": "full_pipeline.fit(x_train, y_train)",
            "execution_count": 16,
            "outputs": [
                {
                    "output_type": "execute_result",
                    "execution_count": 16,
                    "data": {
                        "text/plain": "Pipeline(steps=[('columntransformer',\n                 ColumnTransformer(transformers=[('ord',\n                                                  OrdinalEncoder(categories=[['Fair',\n                                                                              'Good',\n                                                                              'Very '\n                                                                              'Good',\n                                                                              'Premium',\n                                                                              'Ideal'],\n                                                                             ['D',\n                                                                              'E',\n                                                                              'F',\n                                                                              'G',\n                                                                              'H',\n                                                                              'I',\n                                                                              'J'],\n                                                                             ['I1',\n                                                                              'SI2',\n                                                                              'SI1',\n                                                                              'VS2',\n                                                                              'VS1',\n                                                                              'VVS2',\n                                                                              'VVS1',\n                                                                              'IF']]),\n                                                  ['cut', 'color', 'clarity']),\n                                                 ('std', StandardScaler(),\n                                                  ['carat', 'x', 'y', 'z'])])),\n                ('rfecv', RFECV(cv=5, estimator=Ridge())),\n                ('randomforestregressor',\n                 RandomForestRegressor(max_features=4, n_estimators=46))])"
                    },
                    "metadata": {}
                }
            ]
        },
        {
            "metadata": {},
            "cell_type": "code",
            "source": "full_pipeline.predict(new_df)",
            "execution_count": 17,
            "outputs": [
                {
                    "output_type": "execute_result",
                    "execution_count": 17,
                    "data": {
                        "text/plain": "array([13427.39130435])"
                    },
                    "metadata": {}
                }
            ]
        },
        {
            "metadata": {},
            "cell_type": "code",
            "source": "",
            "execution_count": null,
            "outputs": []
        }
    ],
    "metadata": {
        "kernelspec": {
            "name": "python3",
            "display_name": "Python 3.7",
            "language": "python"
        },
        "language_info": {
            "name": "python",
            "version": "3.7.9",
            "mimetype": "text/x-python",
            "codemirror_mode": {
                "name": "ipython",
                "version": 3
            },
            "pygments_lexer": "ipython3",
            "nbconvert_exporter": "python",
            "file_extension": ".py"
        }
    },
    "nbformat": 4,
    "nbformat_minor": 1
}