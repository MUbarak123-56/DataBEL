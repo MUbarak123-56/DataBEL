{
  "nbformat": 4,
  "nbformat_minor": 0,
  "metadata": {
    "colab": {
      "name": "Untitled2.ipynb",
      "provenance": [],
      "authorship_tag": "ABX9TyNHch63cvThNisQStsjdJRn",
      "include_colab_link": true
    },
    "kernelspec": {
      "name": "python3",
      "display_name": "Python 3"
    },
    "language_info": {
      "name": "python"
    }
  },
  "cells": [
    {
      "cell_type": "markdown",
      "metadata": {
        "id": "view-in-github",
        "colab_type": "text"
      },
      "source": [
        "<a href=\"https://colab.research.google.com/github/MUbarak123-56/DataBEL/blob/master/labeling.ipynb\" target=\"_parent\"><img src=\"https://colab.research.google.com/assets/colab-badge.svg\" alt=\"Open In Colab\"/></a>"
      ]
    },
    {
      "cell_type": "code",
      "metadata": {
        "colab": {
          "base_uri": "https://localhost:8080/"
        },
        "id": "1by2_veJekJC",
        "outputId": "acefc5a6-4b63-4652-f365-7433086b9ca7"
      },
      "source": [
        "! pip install -Uqq fastbook\n",
        "import fastbook\n",
        "fastbook.setup_book()"
      ],
      "execution_count": 1,
      "outputs": [
        {
          "output_type": "stream",
          "text": [
            "\u001b[K     |████████████████████████████████| 727kB 7.3MB/s \n",
            "\u001b[K     |████████████████████████████████| 51kB 6.4MB/s \n",
            "\u001b[K     |████████████████████████████████| 1.2MB 16.0MB/s \n",
            "\u001b[K     |████████████████████████████████| 204kB 38.7MB/s \n",
            "\u001b[K     |████████████████████████████████| 61kB 8.4MB/s \n",
            "\u001b[K     |████████████████████████████████| 61kB 8.1MB/s \n",
            "\u001b[?25hMounted at /content/gdrive\n"
          ],
          "name": "stdout"
        }
      ]
    },
    {
      "cell_type": "code",
      "metadata": {
        "id": "vd_HaDsGeuMY"
      },
      "source": [
        "from fastbook import *\n",
        "from fastai.vision.widgets import *"
      ],
      "execution_count": 2,
      "outputs": []
    },
    {
      "cell_type": "code",
      "metadata": {
        "id": "etdMXNoQe8F4"
      },
      "source": [
        "path = Path('/content/gdrive/MyDrive/segment')"
      ],
      "execution_count": 65,
      "outputs": []
    },
    {
      "cell_type": "code",
      "metadata": {
        "colab": {
          "base_uri": "https://localhost:8080/"
        },
        "id": "KSxlHO8ZHbSk",
        "outputId": "d945aff8-6ff4-4fc7-ed28-b5c957fe146e"
      },
      "source": [
        "path"
      ],
      "execution_count": 66,
      "outputs": [
        {
          "output_type": "execute_result",
          "data": {
            "text/plain": [
              "Path('/content/gdrive/MyDrive/segment')"
            ]
          },
          "metadata": {
            "tags": []
          },
          "execution_count": 66
        }
      ]
    },
    {
      "cell_type": "code",
      "metadata": {
        "id": "Ej0pVORmovyv"
      },
      "source": [
        "fnames = get_image_files(path)\n",
        "label = ['-'.join(x.name.split('-')[:1]) + '-'.join(x.name.split('-')[-1]) for x in fnames]\n",
        "labels = []\n",
        "for l in label:\n",
        "  labels.append(l[:-8])\n",
        "dls = ImageDataLoaders.from_lists(path, fnames, labels)"
      ],
      "execution_count": 96,
      "outputs": []
    },
    {
      "cell_type": "code",
      "metadata": {
        "colab": {
          "base_uri": "https://localhost:8080/"
        },
        "id": "bXz7smK4fHyL",
        "outputId": "907b39cf-e28b-47c3-c353-d949c3e0aee3"
      },
      "source": [
        "dls.valid_ds.items[:3]"
      ],
      "execution_count": 97,
      "outputs": [
        {
          "output_type": "execute_result",
          "data": {
            "text/plain": [
              "[(Path('/content/gdrive/MyDrive/segment/457657550-790-316-42-F.jpg'),\n",
              "  '457657550F'),\n",
              " (Path('/content/gdrive/MyDrive/segment/457657550-632-158-50-F.jpg'),\n",
              "  '457657550F'),\n",
              " (Path('/content/gdrive/MyDrive/segment/457657550-474-316-55-F.jpg'),\n",
              "  '457657550F')]"
            ]
          },
          "metadata": {
            "tags": []
          },
          "execution_count": 97
        }
      ]
    },
    {
      "cell_type": "code",
      "metadata": {
        "id": "FHlURUN0LPh8"
      },
      "source": [
        ""
      ],
      "execution_count": null,
      "outputs": []
    }
  ]
}