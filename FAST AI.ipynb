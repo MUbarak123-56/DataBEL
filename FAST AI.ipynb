{
    "cells": [
        {
            "cell_type": "code",
            "execution_count": 1,
            "metadata": {},
            "outputs": [
                {
                    "name": "stdout",
                    "output_type": "stream",
                    "text": "/opt/conda/envs/Python-3.7-main/lib/python3.7/site-packages/secretstorage/dhcrypto.py:16: CryptographyDeprecationWarning: int_from_bytes is deprecated, use int.from_bytes instead\r\n  from cryptography.utils import int_from_bytes\r\n/opt/conda/envs/Python-3.7-main/lib/python3.7/site-packages/secretstorage/util.py:25: CryptographyDeprecationWarning: int_from_bytes is deprecated, use int.from_bytes instead\r\n  from cryptography.utils import int_from_bytes\r\n"
                },
                {
                    "name": "stderr",
                    "output_type": "stream",
                    "text": "/opt/conda/envs/Python-3.7-main/lib/python3.7/site-packages/fastbook/__init__.py:18: UserWarning: Missing `graphviz` - please run `conda install fastbook`\n  except ModuleNotFoundError: warn(\"Missing `graphviz` - please run `conda install fastbook`\")\n"
                }
            ],
            "source": "!pip install -Uqq fastbook\nimport fastbook\nfastbook.setup_book()"
        },
        {
            "cell_type": "code",
            "execution_count": 2,
            "metadata": {},
            "outputs": [],
            "source": "from fastbook import *"
        },
        {
            "cell_type": "code",
            "execution_count": 20,
            "metadata": {},
            "outputs": [
                {
                    "data": {
                        "text/html": "<div>\n<style scoped>\n    .dataframe tbody tr th:only-of-type {\n        vertical-align: middle;\n    }\n\n    .dataframe tbody tr th {\n        vertical-align: top;\n    }\n\n    .dataframe thead th {\n        text-align: right;\n    }\n</style>\n<table border=\"1\" class=\"dataframe\">\n  <thead>\n    <tr style=\"text-align: right;\">\n      <th></th>\n      <th>name</th>\n      <th>label</th>\n    </tr>\n  </thead>\n  <tbody>\n    <tr>\n      <th>0</th>\n      <td>train/3/7463.png</td>\n      <td>3</td>\n    </tr>\n    <tr>\n      <th>1</th>\n      <td>train/3/9829.png</td>\n      <td>3</td>\n    </tr>\n    <tr>\n      <th>2</th>\n      <td>train/3/7881.png</td>\n      <td>3</td>\n    </tr>\n    <tr>\n      <th>3</th>\n      <td>train/3/8065.png</td>\n      <td>3</td>\n    </tr>\n    <tr>\n      <th>4</th>\n      <td>train/3/7046.png</td>\n      <td>3</td>\n    </tr>\n  </tbody>\n</table>\n</div>",
                        "text/plain": "               name  label\n0  train/3/7463.png      3\n1  train/3/9829.png      3\n2  train/3/7881.png      3\n3  train/3/8065.png      3\n4  train/3/7046.png      3"
                    },
                    "execution_count": 20,
                    "metadata": {},
                    "output_type": "execute_result"
                }
            ],
            "source": "path = untar_data(URLs.MNIST_TINY)\ndf = pd.read_csv(path/'labels.csv')\ndf.head()"
        },
        {
            "cell_type": "code",
            "execution_count": 24,
            "metadata": {},
            "outputs": [],
            "source": "dls = ImageDataLoaders.from_df(df, path)"
        },
        {
            "cell_type": "code",
            "execution_count": 23,
            "metadata": {},
            "outputs": [],
            "source": "fnames = get_image_files(path)\ndef label_func(x): return x.parent.name\ndls = ImageDataLoaders.from_path_func(path, fnames, label_func)"
        },
        {
            "cell_type": "markdown",
            "metadata": {},
            "source": "### The one we could use for the digital connoirseurship is the one below"
        },
        {
            "cell_type": "code",
            "execution_count": 25,
            "metadata": {},
            "outputs": [
                {
                    "data": {
                        "text/html": "",
                        "text/plain": "<IPython.core.display.HTML object>"
                    },
                    "metadata": {},
                    "output_type": "display_data"
                }
            ],
            "source": "path = untar_data(URLs.PETS)\nfnames = get_image_files(path/\"images\")\nlabels = ['_'.join(x.name.split('_')[:-1]) for x in fnames]\ndls = ImageDataLoaders.from_lists(path, fnames, labels)"
        },
        {
            "cell_type": "code",
            "execution_count": 28,
            "metadata": {},
            "outputs": [
                {
                    "data": {
                        "text/plain": "[(Path('/home/wsuser/.fastai/data/oxford-iiit-pet/images/Abyssinian_196.jpg'),\n  'Abyssinian'),\n (Path('/home/wsuser/.fastai/data/oxford-iiit-pet/images/beagle_116.jpg'),\n  'beagle'),\n (Path('/home/wsuser/.fastai/data/oxford-iiit-pet/images/basset_hound_166.jpg'),\n  'basset_hound')]"
                    },
                    "execution_count": 28,
                    "metadata": {},
                    "output_type": "execute_result"
                }
            ],
            "source": "dls.valid_ds.items[:3]"
        },
        {
            "cell_type": "markdown",
            "metadata": {},
            "source": "### Other approaches"
        },
        {
            "cell_type": "code",
            "execution_count": 29,
            "metadata": {},
            "outputs": [
                {
                    "data": {
                        "text/html": "",
                        "text/plain": "<IPython.core.display.HTML object>"
                    },
                    "metadata": {},
                    "output_type": "display_data"
                },
                {
                    "data": {
                        "text/html": "<div>\n<style scoped>\n    .dataframe tbody tr th:only-of-type {\n        vertical-align: middle;\n    }\n\n    .dataframe tbody tr th {\n        vertical-align: top;\n    }\n\n    .dataframe thead th {\n        text-align: right;\n    }\n</style>\n<table border=\"1\" class=\"dataframe\">\n  <thead>\n    <tr style=\"text-align: right;\">\n      <th></th>\n      <th>fname</th>\n      <th>labels</th>\n      <th>is_valid</th>\n    </tr>\n  </thead>\n  <tbody>\n    <tr>\n      <th>0</th>\n      <td>000005.jpg</td>\n      <td>chair</td>\n      <td>True</td>\n    </tr>\n    <tr>\n      <th>1</th>\n      <td>000007.jpg</td>\n      <td>car</td>\n      <td>True</td>\n    </tr>\n    <tr>\n      <th>2</th>\n      <td>000009.jpg</td>\n      <td>horse person</td>\n      <td>True</td>\n    </tr>\n    <tr>\n      <th>3</th>\n      <td>000012.jpg</td>\n      <td>car</td>\n      <td>False</td>\n    </tr>\n    <tr>\n      <th>4</th>\n      <td>000016.jpg</td>\n      <td>bicycle</td>\n      <td>True</td>\n    </tr>\n  </tbody>\n</table>\n</div>",
                        "text/plain": "        fname        labels  is_valid\n0  000005.jpg         chair      True\n1  000007.jpg           car      True\n2  000009.jpg  horse person      True\n3  000012.jpg           car     False\n4  000016.jpg       bicycle      True"
                    },
                    "execution_count": 29,
                    "metadata": {},
                    "output_type": "execute_result"
                }
            ],
            "source": "path2 = untar_data(URLs.PASCAL_2007)\ndf = pd.read_csv(path2/'train.csv')\ndf.head()"
        },
        {
            "cell_type": "code",
            "execution_count": 30,
            "metadata": {},
            "outputs": [],
            "source": "dls = ImageDataLoaders.from_df(df, path2, folder='train', valid_col='is_valid')"
        },
        {
            "cell_type": "code",
            "execution_count": 32,
            "metadata": {},
            "outputs": [],
            "source": "## or we could use the function below\ndls = ImageDataLoaders.from_csv(path2, 'train.csv', folder='train', valid_col='is_valid')"
        },
        {
            "cell_type": "code",
            "execution_count": null,
            "metadata": {},
            "outputs": [],
            "source": ""
        }
    ],
    "metadata": {
        "kernelspec": {
            "display_name": "Python 3.7",
            "language": "python",
            "name": "python3"
        },
        "language_info": {
            "codemirror_mode": {
                "name": "ipython",
                "version": 3
            },
            "file_extension": ".py",
            "mimetype": "text/x-python",
            "name": "python",
            "nbconvert_exporter": "python",
            "pygments_lexer": "ipython3",
            "version": "3.7.10"
        }
    },
    "nbformat": 4,
    "nbformat_minor": 1
}