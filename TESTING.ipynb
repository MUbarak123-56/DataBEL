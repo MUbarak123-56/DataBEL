{
    "cells": [
        {
            "metadata": {},
            "cell_type": "code",
            "source": "bright = ['1','34', 'boo', True, 'Avocado']",
            "execution_count": 2,
            "outputs": []
        },
        {
            "metadata": {},
            "cell_type": "code",
            "source": "print(bright)",
            "execution_count": 3,
            "outputs": [
                {
                    "output_type": "stream",
                    "text": "['1', '34', 'boo', True, 'Avocado']\n",
                    "name": "stdout"
                }
            ]
        },
        {
            "metadata": {},
            "cell_type": "code",
            "source": "bright[0]",
            "execution_count": 4,
            "outputs": [
                {
                    "output_type": "execute_result",
                    "execution_count": 4,
                    "data": {
                        "text/plain": "'1'"
                    },
                    "metadata": {}
                }
            ]
        },
        {
            "metadata": {},
            "cell_type": "code",
            "source": "bright[3] = False",
            "execution_count": 5,
            "outputs": []
        },
        {
            "metadata": {},
            "cell_type": "code",
            "source": "print(bright)",
            "execution_count": 6,
            "outputs": [
                {
                    "output_type": "stream",
                    "text": "['1', '34', 'boo', False, 'Avocado']\n",
                    "name": "stdout"
                }
            ]
        },
        {
            "metadata": {},
            "cell_type": "code",
            "source": "bright.append(69)",
            "execution_count": 7,
            "outputs": []
        },
        {
            "metadata": {},
            "cell_type": "code",
            "source": "print(bright)",
            "execution_count": 8,
            "outputs": [
                {
                    "output_type": "stream",
                    "text": "['1', '34', 'boo', False, 'Avocado', 69]\n",
                    "name": "stdout"
                }
            ]
        },
        {
            "metadata": {},
            "cell_type": "code",
            "source": "dict1 = {1:'Maker', 2: \"Staff\", 3:\"Ambassador\"}",
            "execution_count": 10,
            "outputs": []
        },
        {
            "metadata": {},
            "cell_type": "code",
            "source": "dict1[1]",
            "execution_count": 11,
            "outputs": [
                {
                    "output_type": "execute_result",
                    "execution_count": 11,
                    "data": {
                        "text/plain": "'Maker'"
                    },
                    "metadata": {}
                }
            ]
        },
        {
            "metadata": {},
            "cell_type": "code",
            "source": "dict1[4] = \"Mentor\"",
            "execution_count": 12,
            "outputs": []
        },
        {
            "metadata": {},
            "cell_type": "code",
            "source": "print(dict1)",
            "execution_count": 13,
            "outputs": [
                {
                    "output_type": "stream",
                    "text": "{1: 'Maker', 2: 'Staff', 3: 'Ambassador', 4: 'Mentor'}\n",
                    "name": "stdout"
                }
            ]
        },
        {
            "metadata": {},
            "cell_type": "code",
            "source": "for j in range(5):\n    print(j)",
            "execution_count": 14,
            "outputs": [
                {
                    "output_type": "stream",
                    "text": "0\n1\n2\n3\n4\n",
                    "name": "stdout"
                }
            ]
        },
        {
            "metadata": {},
            "cell_type": "code",
            "source": "for j in bright:\n    print(j)",
            "execution_count": 15,
            "outputs": [
                {
                    "output_type": "stream",
                    "text": "1\n34\nboo\nFalse\nAvocado\n69\n",
                    "name": "stdout"
                }
            ]
        },
        {
            "metadata": {},
            "cell_type": "code",
            "source": "for key in dict1:\n    value = dict1[key]\n    print('key =', key)\n    print('value', value)\n    print()",
            "execution_count": 18,
            "outputs": [
                {
                    "output_type": "stream",
                    "text": "key = 1\nvalue Maker\n\nkey = 2\nvalue Staff\n\nkey = 3\nvalue Ambassador\n\nkey = 4\nvalue Mentor\n\n",
                    "name": "stdout"
                }
            ]
        },
        {
            "metadata": {},
            "cell_type": "code",
            "source": "if 'banana' in bright:\n    print('We have a banana')\nelif bright[5]== 69:\n    print('We have 69')\nelse:\n    print('Not much fun here')",
            "execution_count": 19,
            "outputs": [
                {
                    "output_type": "stream",
                    "text": "We have 69\n",
                    "name": "stdout"
                }
            ]
        },
        {
            "metadata": {},
            "cell_type": "code",
            "source": "import numpy",
            "execution_count": 20,
            "outputs": []
        },
        {
            "metadata": {},
            "cell_type": "code",
            "source": "import numpy as np\nnp.sin(np.pi/2)",
            "execution_count": 22,
            "outputs": [
                {
                    "output_type": "execute_result",
                    "execution_count": 22,
                    "data": {
                        "text/plain": "1.0"
                    },
                    "metadata": {}
                }
            ]
        },
        {
            "metadata": {},
            "cell_type": "code",
            "source": "from numpy import *",
            "execution_count": 23,
            "outputs": []
        },
        {
            "metadata": {},
            "cell_type": "code",
            "source": "sin(pi/2)",
            "execution_count": 24,
            "outputs": [
                {
                    "output_type": "execute_result",
                    "execution_count": 24,
                    "data": {
                        "text/plain": "1.0"
                    },
                    "metadata": {}
                }
            ]
        },
        {
            "metadata": {},
            "cell_type": "code",
            "source": "def maths (m1,m2):\n    result = m1 + m2\n    return result",
            "execution_count": 25,
            "outputs": []
        },
        {
            "metadata": {},
            "cell_type": "code",
            "source": "x = maths(2,4)\nprint(x)",
            "execution_count": 26,
            "outputs": [
                {
                    "output_type": "stream",
                    "text": "6\n",
                    "name": "stdout"
                }
            ]
        },
        {
            "metadata": {},
            "cell_type": "code",
            "source": "def add_new(input2,input1):\n    if input2 not in input1:\n        input1.append(input2)",
            "execution_count": 27,
            "outputs": []
        },
        {
            "metadata": {},
            "cell_type": "code",
            "source": "add_new('sausage',bright)",
            "execution_count": 28,
            "outputs": []
        },
        {
            "metadata": {},
            "cell_type": "code",
            "source": "print(bright)",
            "execution_count": 29,
            "outputs": [
                {
                    "output_type": "stream",
                    "text": "['1', '34', 'boo', False, 'Avocado', 69, 'sausage']\n",
                    "name": "stdout"
                }
            ]
        },
        {
            "metadata": {},
            "cell_type": "code",
            "source": "print('List before function: \\n', bright)\nadd_new('Suarez', bright)\nprint('List after function: \\n', bright)",
            "execution_count": 31,
            "outputs": [
                {
                    "output_type": "stream",
                    "text": "List before function: \n ['1', '34', 'boo', False, 'Avocado', 69, 'sausage', 'Gerrard']\nList after function: \n ['1', '34', 'boo', False, 'Avocado', 69, 'sausage', 'Gerrard', 'Suarez']\n",
                    "name": "stdout"
                }
            ]
        },
        {
            "metadata": {},
            "cell_type": "code",
            "source": "import random",
            "execution_count": 32,
            "outputs": []
        },
        {
            "metadata": {},
            "cell_type": "code",
            "source": "for j in range(5):\n    print('* Result from sample', j + 1)\n    print('\\n Random number from 0 to 1', random.random())\n    print('\\n Random choice from our list', random.choice(bright))\n    print('\\n')",
            "execution_count": 33,
            "outputs": [
                {
                    "output_type": "stream",
                    "text": "* Result from sample 1\n\n Random number from 0 to 1 0.518316500671176\n\n Random choice from our list 1\n\n\n* Result from sample 2\n\n Random number from 0 to 1 0.37276781508778034\n\n Random choice from our list sausage\n\n\n* Result from sample 3\n\n Random number from 0 to 1 0.4600202597391918\n\n Random choice from our list Avocado\n\n\n* Result from sample 4\n\n Random number from 0 to 1 0.4440230827963819\n\n Random choice from our list Suarez\n\n\n* Result from sample 5\n\n Random number from 0 to 1 0.9275351668307262\n\n Random choice from our list sausage\n\n\n",
                    "name": "stdout"
                }
            ]
        },
        {
            "metadata": {},
            "cell_type": "code",
            "source": "# Install a pip package in the current Jupyter kernel\nimport sys\n!{sys.executable} -m pip install qiskit",
            "execution_count": 46,
            "outputs": [
                {
                    "output_type": "stream",
                    "text": "Collecting qiskit\n  Downloading https://files.pythonhosted.org/packages/ce/b0/4b2879d9c397ccad443ad4bf5b050555f8234cac016d1de0902d19173757/qiskit-0.16.0.tar.gz\nCollecting qiskit-terra==0.12.0 (from qiskit)\n\u001b[?25l  Downloading https://files.pythonhosted.org/packages/30/6e/3aada46aa05013279b918002a6123d9cf5d4014d65cef90f7f5306969ccc/qiskit_terra-0.12.0-cp36-cp36m-manylinux2010_x86_64.whl (2.9MB)\n\u001b[K     |\u2588\u2588\u2588\u2588\u2588\u2588\u2588\u2588\u2588\u2588\u2588\u2588\u2588\u2588\u2588\u2588\u2588\u2588\u2588\u2588\u2588\u2588\u2588\u2588\u2588\u2588\u2588\u2588\u2588\u2588\u2588\u2588| 2.9MB 19.7MB/s eta 0:00:01\n\u001b[?25hCollecting qiskit-aer==0.4.0 (from qiskit)\n\u001b[?25l  Downloading https://files.pythonhosted.org/packages/7c/79/847813214c363cd8d5486abafc8dd370c5f17f27e0e6c2eeeeb7582d34f0/qiskit_aer-0.4.0-cp36-cp36m-manylinux2010_x86_64.whl (23.0MB)\n\u001b[K     |\u2588\u2588\u2588\u2588\u2588\u2588\u2588\u2588\u2588\u2588\u2588\u2588\u2588\u2588\u2588\u2588\u2588\u2588\u2588\u2588\u2588\u2588\u2588\u2588\u2588\u2588\u2588\u2588\u2588\u2588\u2588\u2588| 23.1MB 45.9MB/s eta 0:00:01\n\u001b[?25hCollecting qiskit-ibmq-provider==0.5.0 (from qiskit)\n\u001b[?25l  Downloading https://files.pythonhosted.org/packages/18/4f/49911087def9ba45406f18d10cc64e4ee73d8921e8d3fa2e5bf2abee3b71/qiskit_ibmq_provider-0.5.0-py3-none-any.whl (140kB)\n\u001b[K     |\u2588\u2588\u2588\u2588\u2588\u2588\u2588\u2588\u2588\u2588\u2588\u2588\u2588\u2588\u2588\u2588\u2588\u2588\u2588\u2588\u2588\u2588\u2588\u2588\u2588\u2588\u2588\u2588\u2588\u2588\u2588\u2588| 143kB 49.3MB/s eta 0:00:01\n\u001b[?25hCollecting qiskit-ignis==0.2.0 (from qiskit)\n\u001b[?25l  Downloading https://files.pythonhosted.org/packages/78/f2/f4f89c65d2c13f473092f7e800519836611ddeeaab8d4591a70555b26a37/qiskit_ignis-0.2.0-py3-none-any.whl (100kB)\n\u001b[K     |\u2588\u2588\u2588\u2588\u2588\u2588\u2588\u2588\u2588\u2588\u2588\u2588\u2588\u2588\u2588\u2588\u2588\u2588\u2588\u2588\u2588\u2588\u2588\u2588\u2588\u2588\u2588\u2588\u2588\u2588\u2588\u2588| 102kB 34.1MB/s ta 0:00:01\n\u001b[?25hCollecting qiskit-aqua==0.6.4 (from qiskit)\n\u001b[?25l  Downloading https://files.pythonhosted.org/packages/f0/7f/5d66a7d2f90a95e5bf34717adeaaee6bc330ed2b38df240a37034f9749af/qiskit_aqua-0.6.4-py3-none-any.whl (1.8MB)\n\u001b[K     |\u2588\u2588\u2588\u2588\u2588\u2588\u2588\u2588\u2588\u2588\u2588\u2588\u2588\u2588\u2588\u2588\u2588\u2588\u2588\u2588\u2588\u2588\u2588\u2588\u2588\u2588\u2588\u2588\u2588\u2588\u2588\u2588| 1.8MB 5.0MB/s eta 0:00:01\n\u001b[?25hRequirement already satisfied: networkx>=2.2; python_version > \"3.5\" in /opt/conda/envs/Python36/lib/python3.6/site-packages (from qiskit-terra==0.12.0->qiskit) (2.2)\nCollecting marshmallow-polyfield<6,>=5.7 (from qiskit-terra==0.12.0->qiskit)\n  Downloading https://files.pythonhosted.org/packages/b5/9a/8c303051f9d0f844c06b8d607f7578a2ac9aec2ffe02947fea5d5ba589d8/marshmallow_polyfield-5.8-py3-none-any.whl\nRequirement already satisfied: jsonschema>=2.6 in /opt/conda/envs/Python36/lib/python3.6/site-packages (from qiskit-terra==0.12.0->qiskit) (2.6.0)\nCollecting dill>=0.3 (from qiskit-terra==0.12.0->qiskit)\n\u001b[?25l  Downloading https://files.pythonhosted.org/packages/c7/11/345f3173809cea7f1a193bfbf02403fff250a3360e0e118a1630985e547d/dill-0.3.1.1.tar.gz (151kB)\n\u001b[K     |\u2588\u2588\u2588\u2588\u2588\u2588\u2588\u2588\u2588\u2588\u2588\u2588\u2588\u2588\u2588\u2588\u2588\u2588\u2588\u2588\u2588\u2588\u2588\u2588\u2588\u2588\u2588\u2588\u2588\u2588\u2588\u2588| 153kB 51.3MB/s eta 0:00:01\n\u001b[?25hRequirement already satisfied: scipy>=1.0 in /opt/conda/envs/Python36/lib/python3.6/site-packages (from qiskit-terra==0.12.0->qiskit) (1.2.0)\nRequirement already satisfied: sympy>=1.3 in /opt/conda/envs/Python36/lib/python3.6/site-packages (from qiskit-terra==0.12.0->qiskit) (1.3)\nRequirement already satisfied: ply>=3.10 in /opt/conda/envs/Python36/lib/python3.6/site-packages (from qiskit-terra==0.12.0->qiskit) (3.11)\nRequirement already satisfied: psutil>=5 in /opt/conda/envs/Python36/lib/python3.6/site-packages (from qiskit-terra==0.12.0->qiskit) (5.5.0)\nCollecting marshmallow<4,>=3 (from qiskit-terra==0.12.0->qiskit)\n\u001b[?25l  Downloading https://files.pythonhosted.org/packages/54/b5/d10256349371486f195edce0bb5cf53aeb757e887a251cf98286eda8b4ec/marshmallow-3.5.0-py2.py3-none-any.whl (45kB)\n\u001b[K     |\u2588\u2588\u2588\u2588\u2588\u2588\u2588\u2588\u2588\u2588\u2588\u2588\u2588\u2588\u2588\u2588\u2588\u2588\u2588\u2588\u2588\u2588\u2588\u2588\u2588\u2588\u2588\u2588\u2588\u2588\u2588\u2588| 51kB 22.9MB/s eta 0:00:01\n\u001b[?25hRequirement already satisfied: numpy>=1.13 in /opt/conda/envs/Python36/lib/python3.6/site-packages (from qiskit-terra==0.12.0->qiskit) (1.15.4)\nCollecting pybind11>=2.4 (from qiskit-aer==0.4.0->qiskit)\n\u001b[?25l  Downloading https://files.pythonhosted.org/packages/4b/4d/ae1c4d8e8b139afa9682054dd42df3b0e3b5c1731287933021b9fd7e9cc4/pybind11-2.4.3-py2.py3-none-any.whl (150kB)\n\u001b[K     |\u2588\u2588\u2588\u2588\u2588\u2588\u2588\u2588\u2588\u2588\u2588\u2588\u2588\u2588\u2588\u2588\u2588\u2588\u2588\u2588\u2588\u2588\u2588\u2588\u2588\u2588\u2588\u2588\u2588\u2588\u2588\u2588| 153kB 50.4MB/s eta 0:00:01\n\u001b[?25hRequirement already satisfied: cython>=0.27.1 in /opt/conda/envs/Python36/lib/python3.6/site-packages (from qiskit-aer==0.4.0->qiskit) (0.29.5)\nCollecting nest-asyncio!=1.1.0,>=1.0.0 (from qiskit-ibmq-provider==0.5.0->qiskit)\n  Downloading https://files.pythonhosted.org/packages/ad/05/a511d3c77850879409ca8a5f73257da50b97c28e030a82cdf8b0d359dedf/nest_asyncio-1.2.3-py3-none-any.whl\nCollecting requests-ntlm>=1.1.0 (from qiskit-ibmq-provider==0.5.0->qiskit)\n  Downloading https://files.pythonhosted.org/packages/03/4b/8b9a1afde8072c4d5710d9fa91433d504325821b038e00237dc8d6d833dc/requests_ntlm-1.1.0-py2.py3-none-any.whl\nRequirement already satisfied: requests>=2.19 in /opt/conda/envs/Python36/lib/python3.6/site-packages (from qiskit-ibmq-provider==0.5.0->qiskit) (2.21.0)\nCollecting arrow>=0.15.5 (from qiskit-ibmq-provider==0.5.0->qiskit)\n\u001b[?25l  Downloading https://files.pythonhosted.org/packages/92/fa/f84896dede5decf284e6922134bf03fd26c90870bbf8015f4e8ee2a07bcc/arrow-0.15.5-py2.py3-none-any.whl (46kB)\n\u001b[K     |\u2588\u2588\u2588\u2588\u2588\u2588\u2588\u2588\u2588\u2588\u2588\u2588\u2588\u2588\u2588\u2588\u2588\u2588\u2588\u2588\u2588\u2588\u2588\u2588\u2588\u2588\u2588\u2588\u2588\u2588\u2588\u2588| 51kB 24.2MB/s eta 0:00:01\n\u001b[?25hCollecting websockets<8,>=7 (from qiskit-ibmq-provider==0.5.0->qiskit)\n\u001b[?25l  Downloading https://files.pythonhosted.org/packages/43/71/8bfa882b9c502c36e5c9ef6732969533670d2b039cbf95a82ced8f762b80/websockets-7.0-cp36-cp36m-manylinux1_x86_64.whl (63kB)\n\u001b[K     |\u2588\u2588\u2588\u2588\u2588\u2588\u2588\u2588\u2588\u2588\u2588\u2588\u2588\u2588\u2588\u2588\u2588\u2588\u2588\u2588\u2588\u2588\u2588\u2588\u2588\u2588\u2588\u2588\u2588\u2588\u2588\u2588| 71kB 29.8MB/s eta 0:00:01\n\u001b[?25hRequirement already satisfied: setuptools>=40.1.0 in /opt/conda/envs/Python36/lib/python3.6/site-packages (from qiskit-ignis==0.2.0->qiskit) (40.8.0)\nCollecting fastdtw (from qiskit-aqua==0.6.4->qiskit)\n\u001b[?25l  Downloading https://files.pythonhosted.org/packages/99/43/30f2d8db076f216b15c10db663b46e22d1750b1ebacd7af6e62b83d6ab98/fastdtw-0.3.4.tar.gz (133kB)\n\u001b[K     |\u2588\u2588\u2588\u2588\u2588\u2588\u2588\u2588\u2588\u2588\u2588\u2588\u2588\u2588\u2588\u2588\u2588\u2588\u2588\u2588\u2588\u2588\u2588\u2588\u2588\u2588\u2588\u2588\u2588\u2588\u2588\u2588| 143kB 51.6MB/s eta 0:00:01\n\u001b[?25hRequirement already satisfied: docplex in /opt/conda/envs/Python36/lib/python3.6/site-packages (from qiskit-aqua==0.6.4->qiskit) (2.12.182)\nCollecting dlx (from qiskit-aqua==0.6.4->qiskit)\n  Downloading https://files.pythonhosted.org/packages/54/c0/b8fb5bb727e983b6f5251433ef941b48f38c65bb0bd6ec509e9185bcd406/dlx-1.0.4.tar.gz\nRequirement already satisfied: scikit-learn>=0.20.0 in /opt/conda/envs/Python36/lib/python3.6/site-packages (from qiskit-aqua==0.6.4->qiskit) (0.20.3)\nCollecting cvxopt; python_version < \"3.8\" or sys_platform != \"win32\" (from qiskit-aqua==0.6.4->qiskit)\n\u001b[?25l  Downloading https://files.pythonhosted.org/packages/9b/99/e95f164a0c94725921b784814a239479035db8459162bf1335ce764d64ed/cvxopt-1.2.4-cp36-cp36m-manylinux1_x86_64.whl (11.6MB)\n\u001b[K     |\u2588\u2588\u2588\u2588\u2588\u2588\u2588\u2588\u2588\u2588\u2588\u2588\u2588\u2588\u2588\u2588\u2588\u2588\u2588\u2588\u2588\u2588\u2588\u2588\u2588\u2588\u2588\u2588\u2588\u2588\u2588\u2588| 11.6MB 42.3MB/s eta 0:00:01\n\u001b[?25hCollecting pyscf; sys_platform == \"linux\" or (python_version < \"3.8\" and sys_platform != \"win32\") (from qiskit-aqua==0.6.4->qiskit)\n\u001b[?25l  Downloading https://files.pythonhosted.org/packages/7a/ea/8ebe88368935dcc9a1a309764846e0bf5d04352d44067741aab3626ceb7f/pyscf-1.7.1-cp36-cp36m-manylinux1_x86_64.whl (24.3MB)\n\u001b[K     |\u2588\u2588\u2588\u2588\u2588\u2588\u2588\u2588\u2588\u2588\u2588\u2588\u2588\u2588\u2588\u2588\u2588\u2588\u2588\u2588\u2588\u2588\u2588\u2588\u2588\u2588\u2588\u2588\u2588\u2588\u2588\u2588| 24.3MB 30.7MB/s eta 0:00:01\n\u001b[?25hCollecting quandl (from qiskit-aqua==0.6.4->qiskit)\n  Downloading https://files.pythonhosted.org/packages/07/ab/8cd479fba8a9b197a43a0d55dd534b066fb8e5a0a04b5c0384cbc5d663aa/Quandl-3.5.0-py2.py3-none-any.whl\nRequirement already satisfied: h5py in /opt/conda/envs/Python36/lib/python3.6/site-packages (from qiskit-aqua==0.6.4->qiskit) (2.9.0)\nRequirement already satisfied: decorator>=4.3.0 in /opt/conda/envs/Python36/lib/python3.6/site-packages (from networkx>=2.2; python_version > \"3.5\"->qiskit-terra==0.12.0->qiskit) (4.3.2)\nRequirement already satisfied: cryptography>=1.3 in /opt/conda/envs/Python36/lib/python3.6/site-packages (from requests-ntlm>=1.1.0->qiskit-ibmq-provider==0.5.0->qiskit) (2.5)\nCollecting ntlm-auth>=1.0.2 (from requests-ntlm>=1.1.0->qiskit-ibmq-provider==0.5.0->qiskit)\n  Downloading https://files.pythonhosted.org/packages/50/09/5e397eb18685b14fd8b209e26cdb4fa6451c82c1bcc651fef05fa73e7b27/ntlm_auth-1.4.0-py2.py3-none-any.whl\nRequirement already satisfied: urllib3<1.25,>=1.21.1 in /opt/conda/envs/Python36/lib/python3.6/site-packages (from requests>=2.19->qiskit-ibmq-provider==0.5.0->qiskit) (1.24.1)\nRequirement already satisfied: chardet<3.1.0,>=3.0.2 in /opt/conda/envs/Python36/lib/python3.6/site-packages (from requests>=2.19->qiskit-ibmq-provider==0.5.0->qiskit) (3.0.4)\nRequirement already satisfied: idna<2.9,>=2.5 in /opt/conda/envs/Python36/lib/python3.6/site-packages (from requests>=2.19->qiskit-ibmq-provider==0.5.0->qiskit) (2.8)\nRequirement already satisfied: certifi>=2017.4.17 in /opt/conda/envs/Python36/lib/python3.6/site-packages (from requests>=2.19->qiskit-ibmq-provider==0.5.0->qiskit) (2019.11.28)\nRequirement already satisfied: python-dateutil in /opt/conda/envs/Python36/lib/python3.6/site-packages (from arrow>=0.15.5->qiskit-ibmq-provider==0.5.0->qiskit) (2.7.5)\nRequirement already satisfied: six in /opt/conda/envs/Python36/lib/python3.6/site-packages (from docplex->qiskit-aqua==0.6.4->qiskit) (1.12.0)\nRequirement already satisfied: docloud>=1.0.375 in /opt/conda/envs/Python36/lib/python3.6/site-packages (from docplex->qiskit-aqua==0.6.4->qiskit) (1.0.375)\nRequirement already satisfied: pandas>=0.14 in /opt/conda/envs/Python36/lib/python3.6/site-packages (from quandl->qiskit-aqua==0.6.4->qiskit) (0.24.1)\n",
                    "name": "stdout"
                },
                {
                    "output_type": "stream",
                    "text": "Collecting inflection>=0.3.1 (from quandl->qiskit-aqua==0.6.4->qiskit)\n  Downloading https://files.pythonhosted.org/packages/d5/35/a6eb45b4e2356fe688b21570864d4aa0d0a880ce387defe9c589112077f8/inflection-0.3.1.tar.gz\nRequirement already satisfied: more-itertools in /opt/conda/envs/Python36/lib/python3.6/site-packages (from quandl->qiskit-aqua==0.6.4->qiskit) (5.0.0)\nRequirement already satisfied: cffi!=1.11.3,>=1.8 in /opt/conda/envs/Python36/lib/python3.6/site-packages (from cryptography>=1.3->requests-ntlm>=1.1.0->qiskit-ibmq-provider==0.5.0->qiskit) (1.11.5)\nRequirement already satisfied: asn1crypto>=0.21.0 in /opt/conda/envs/Python36/lib/python3.6/site-packages (from cryptography>=1.3->requests-ntlm>=1.1.0->qiskit-ibmq-provider==0.5.0->qiskit) (0.24.0)\nRequirement already satisfied: pytz>=2011k in /opt/conda/envs/Python36/lib/python3.6/site-packages (from pandas>=0.14->quandl->qiskit-aqua==0.6.4->qiskit) (2018.9)\nRequirement already satisfied: pycparser in /opt/conda/envs/Python36/lib/python3.6/site-packages (from cffi!=1.11.3,>=1.8->cryptography>=1.3->requests-ntlm>=1.1.0->qiskit-ibmq-provider==0.5.0->qiskit) (2.19)\nBuilding wheels for collected packages: qiskit, dill, fastdtw, dlx, inflection\n  Building wheel for qiskit (setup.py) ... \u001b[?25ldone\n\u001b[?25h  Stored in directory: /home/dsxuser/.cache/pip/wheels/b4/a0/e5/38c49b038739c1ff3c31658759b643ca30f3d18fa36f133956\n  Building wheel for dill (setup.py) ... \u001b[?25ldone\n\u001b[?25h  Stored in directory: /home/dsxuser/.cache/pip/wheels/59/b1/91/f02e76c732915c4015ab4010f3015469866c1eb9b14058d8e7\n  Building wheel for fastdtw (setup.py) ... \u001b[?25ldone\n\u001b[?25h  Stored in directory: /home/dsxuser/.cache/pip/wheels/7e/95/df/935f19af51d6ab63d416c103c0d6eae7048a8c2ecb00a1497f\n  Building wheel for dlx (setup.py) ... \u001b[?25ldone\n\u001b[?25h  Stored in directory: /home/dsxuser/.cache/pip/wheels/bb/ba/15/fdd0deb104df3254912998150ba9245668db06b00af5912d1a\n  Building wheel for inflection (setup.py) ... \u001b[?25ldone\n\u001b[?25h  Stored in directory: /home/dsxuser/.cache/pip/wheels/9f/5a/d3/6fc3bf6516d2a3eb7e18f9f28b472110b59325f3f258fe9211\nSuccessfully built qiskit dill fastdtw dlx inflection\n\u001b[31mERROR: streamsx 1.13.14 has requirement dill<0.3.1,>=0.2.8.2, but you'll have dill 0.3.1.1 which is incompatible.\u001b[0m\nInstalling collected packages: marshmallow, marshmallow-polyfield, dill, qiskit-terra, pybind11, qiskit-aer, nest-asyncio, ntlm-auth, requests-ntlm, arrow, websockets, qiskit-ibmq-provider, qiskit-ignis, fastdtw, dlx, cvxopt, pyscf, inflection, quandl, qiskit-aqua, qiskit\n  Found existing installation: dill 0.2.8.2\n    Uninstalling dill-0.2.8.2:\n      Successfully uninstalled dill-0.2.8.2\nSuccessfully installed arrow-0.15.5 cvxopt-1.2.4 dill-0.3.1.1 dlx-1.0.4 fastdtw-0.3.4 inflection-0.3.1 marshmallow-3.5.0 marshmallow-polyfield-5.8 nest-asyncio-1.2.3 ntlm-auth-1.4.0 pybind11-2.4.3 pyscf-1.7.1 qiskit-0.16.0 qiskit-aer-0.4.0 qiskit-aqua-0.6.4 qiskit-ibmq-provider-0.5.0 qiskit-ignis-0.2.0 qiskit-terra-0.12.0 quandl-3.5.0 requests-ntlm-1.1.0 websockets-7.0\n",
                    "name": "stdout"
                }
            ]
        },
        {
            "metadata": {},
            "cell_type": "code",
            "source": "pip install qiskit-terra[visualization]",
            "execution_count": 47,
            "outputs": [
                {
                    "output_type": "stream",
                    "text": "\nThe following command must be run outside of the IPython shell:\n\n    $ pip install qiskit-terra[visualization]\n\nThe Python package manager (pip) can only be used from outside of IPython.\nPlease reissue the `pip` command in a separate terminal or command prompt.\n\nSee the Python documentation for more information on how to install packages:\n\n    https://docs.python.org/3/installing/\n",
                    "name": "stdout"
                }
            ]
        },
        {
            "metadata": {},
            "cell_type": "code",
            "source": "# Install a pip package in the current Jupyter kernel\nimport sys\n!{sys.executable} -m pip install qiskit-terra[visualization]",
            "execution_count": 49,
            "outputs": [
                {
                    "output_type": "stream",
                    "text": "Requirement already satisfied: qiskit-terra[visualization] in /opt/conda/envs/Python36/lib/python3.6/site-packages (0.12.0)\nRequirement already satisfied: sympy>=1.3 in /opt/conda/envs/Python36/lib/python3.6/site-packages (from qiskit-terra[visualization]) (1.3)\nRequirement already satisfied: marshmallow-polyfield<6,>=5.7 in /opt/conda/envs/Python36/lib/python3.6/site-packages (from qiskit-terra[visualization]) (5.8)\nRequirement already satisfied: dill>=0.3 in /opt/conda/envs/Python36/lib/python3.6/site-packages (from qiskit-terra[visualization]) (0.3.1.1)\nRequirement already satisfied: scipy>=1.0 in /opt/conda/envs/Python36/lib/python3.6/site-packages (from qiskit-terra[visualization]) (1.2.0)\nRequirement already satisfied: jsonschema>=2.6 in /opt/conda/envs/Python36/lib/python3.6/site-packages (from qiskit-terra[visualization]) (2.6.0)\nRequirement already satisfied: numpy>=1.13 in /opt/conda/envs/Python36/lib/python3.6/site-packages (from qiskit-terra[visualization]) (1.15.4)\nRequirement already satisfied: psutil>=5 in /opt/conda/envs/Python36/lib/python3.6/site-packages (from qiskit-terra[visualization]) (5.5.0)\nRequirement already satisfied: marshmallow<4,>=3 in /opt/conda/envs/Python36/lib/python3.6/site-packages (from qiskit-terra[visualization]) (3.5.0)\nRequirement already satisfied: networkx>=2.2; python_version > \"3.5\" in /opt/conda/envs/Python36/lib/python3.6/site-packages (from qiskit-terra[visualization]) (2.2)\nRequirement already satisfied: ply>=3.10 in /opt/conda/envs/Python36/lib/python3.6/site-packages (from qiskit-terra[visualization]) (3.11)\nRequirement already satisfied: matplotlib>=2.1; extra == \"visualization\" in /opt/conda/envs/Python36/lib/python3.6/site-packages (from qiskit-terra[visualization]) (3.0.2)\nRequirement already satisfied: pillow>=4.2.1; extra == \"visualization\" in /opt/conda/envs/Python36/lib/python3.6/site-packages (from qiskit-terra[visualization]) (5.4.1)\nRequirement already satisfied: seaborn>=0.9.0; extra == \"visualization\" in /opt/conda/envs/Python36/lib/python3.6/site-packages (from qiskit-terra[visualization]) (0.9.0)\nCollecting pylatexenc>=1.4; extra == \"visualization\" (from qiskit-terra[visualization])\n\u001b[?25l  Downloading https://files.pythonhosted.org/packages/bd/6d/148934130b53fdccc7f9b35926e883bbe635f8873c3ddcb5c8503b0d018d/pylatexenc-2.1.tar.gz (119kB)\n\u001b[K     |\u2588\u2588\u2588\u2588\u2588\u2588\u2588\u2588\u2588\u2588\u2588\u2588\u2588\u2588\u2588\u2588\u2588\u2588\u2588\u2588\u2588\u2588\u2588\u2588\u2588\u2588\u2588\u2588\u2588\u2588\u2588\u2588| 122kB 4.3MB/s eta 0:00:01\n\u001b[?25hRequirement already satisfied: ipywidgets>=7.3.0; extra == \"visualization\" in /opt/conda/envs/Python36/lib/python3.6/site-packages (from qiskit-terra[visualization]) (7.4.2)\nCollecting pydot; extra == \"visualization\" (from qiskit-terra[visualization])\n  Downloading https://files.pythonhosted.org/packages/33/d1/b1479a770f66d962f545c2101630ce1d5592d90cb4f083d38862e93d16d2/pydot-1.4.1-py2.py3-none-any.whl\nRequirement already satisfied: decorator>=4.3.0 in /opt/conda/envs/Python36/lib/python3.6/site-packages (from networkx>=2.2; python_version > \"3.5\"->qiskit-terra[visualization]) (4.3.2)\nRequirement already satisfied: cycler>=0.10 in /opt/conda/envs/Python36/lib/python3.6/site-packages (from matplotlib>=2.1; extra == \"visualization\"->qiskit-terra[visualization]) (0.10.0)\nRequirement already satisfied: kiwisolver>=1.0.1 in /opt/conda/envs/Python36/lib/python3.6/site-packages (from matplotlib>=2.1; extra == \"visualization\"->qiskit-terra[visualization]) (1.0.1)\nRequirement already satisfied: pyparsing!=2.0.4,!=2.1.2,!=2.1.6,>=2.0.1 in /opt/conda/envs/Python36/lib/python3.6/site-packages (from matplotlib>=2.1; extra == \"visualization\"->qiskit-terra[visualization]) (2.3.1)\nRequirement already satisfied: python-dateutil>=2.1 in /opt/conda/envs/Python36/lib/python3.6/site-packages (from matplotlib>=2.1; extra == \"visualization\"->qiskit-terra[visualization]) (2.7.5)\nRequirement already satisfied: pandas>=0.15.2 in /opt/conda/envs/Python36/lib/python3.6/site-packages (from seaborn>=0.9.0; extra == \"visualization\"->qiskit-terra[visualization]) (0.24.1)\nRequirement already satisfied: widgetsnbextension~=3.4.0 in /opt/conda/envs/Python36/lib/python3.6/site-packages (from ipywidgets>=7.3.0; extra == \"visualization\"->qiskit-terra[visualization]) (3.4.2)\nRequirement already satisfied: traitlets>=4.3.1 in /opt/conda/envs/Python36/lib/python3.6/site-packages (from ipywidgets>=7.3.0; extra == \"visualization\"->qiskit-terra[visualization]) (4.3.2)\nRequirement already satisfied: ipython>=4.0.0; python_version >= \"3.3\" in /opt/conda/envs/Python36/lib/python3.6/site-packages (from ipywidgets>=7.3.0; extra == \"visualization\"->qiskit-terra[visualization]) (7.2.0)\nRequirement already satisfied: nbformat>=4.2.0 in /opt/conda/envs/Python36/lib/python3.6/site-packages (from ipywidgets>=7.3.0; extra == \"visualization\"->qiskit-terra[visualization]) (4.4.0)\nRequirement already satisfied: ipykernel>=4.5.1 in /opt/conda/envs/Python36/lib/python3.6/site-packages (from ipywidgets>=7.3.0; extra == \"visualization\"->qiskit-terra[visualization]) (5.1.0)\nRequirement already satisfied: six in /opt/conda/envs/Python36/lib/python3.6/site-packages (from cycler>=0.10->matplotlib>=2.1; extra == \"visualization\"->qiskit-terra[visualization]) (1.12.0)\nRequirement already satisfied: setuptools in /opt/conda/envs/Python36/lib/python3.6/site-packages (from kiwisolver>=1.0.1->matplotlib>=2.1; extra == \"visualization\"->qiskit-terra[visualization]) (40.8.0)\nRequirement already satisfied: pytz>=2011k in /opt/conda/envs/Python36/lib/python3.6/site-packages (from pandas>=0.15.2->seaborn>=0.9.0; extra == \"visualization\"->qiskit-terra[visualization]) (2018.9)\nRequirement already satisfied: notebook>=4.4.1 in /opt/conda/envs/Python36/lib/python3.6/site-packages (from widgetsnbextension~=3.4.0->ipywidgets>=7.3.0; extra == \"visualization\"->qiskit-terra[visualization]) (5.7.8)\nRequirement already satisfied: ipython-genutils in /opt/conda/envs/Python36/lib/python3.6/site-packages (from traitlets>=4.3.1->ipywidgets>=7.3.0; extra == \"visualization\"->qiskit-terra[visualization]) (0.2.0)\nRequirement already satisfied: pygments in /opt/conda/envs/Python36/lib/python3.6/site-packages (from ipython>=4.0.0; python_version >= \"3.3\"->ipywidgets>=7.3.0; extra == \"visualization\"->qiskit-terra[visualization]) (2.3.1)\nRequirement already satisfied: prompt-toolkit<2.1.0,>=2.0.0 in /opt/conda/envs/Python36/lib/python3.6/site-packages (from ipython>=4.0.0; python_version >= \"3.3\"->ipywidgets>=7.3.0; extra == \"visualization\"->qiskit-terra[visualization]) (2.0.8)\nRequirement already satisfied: backcall in /opt/conda/envs/Python36/lib/python3.6/site-packages (from ipython>=4.0.0; python_version >= \"3.3\"->ipywidgets>=7.3.0; extra == \"visualization\"->qiskit-terra[visualization]) (0.1.0)\nRequirement already satisfied: pexpect; sys_platform != \"win32\" in /opt/conda/envs/Python36/lib/python3.6/site-packages (from ipython>=4.0.0; python_version >= \"3.3\"->ipywidgets>=7.3.0; extra == \"visualization\"->qiskit-terra[visualization]) (4.6.0)\nRequirement already satisfied: pickleshare in /opt/conda/envs/Python36/lib/python3.6/site-packages (from ipython>=4.0.0; python_version >= \"3.3\"->ipywidgets>=7.3.0; extra == \"visualization\"->qiskit-terra[visualization]) (0.7.5)\nRequirement already satisfied: jedi>=0.10 in /opt/conda/envs/Python36/lib/python3.6/site-packages (from ipython>=4.0.0; python_version >= \"3.3\"->ipywidgets>=7.3.0; extra == \"visualization\"->qiskit-terra[visualization]) (0.13.2)\nRequirement already satisfied: jupyter-core in /opt/conda/envs/Python36/lib/python3.6/site-packages (from nbformat>=4.2.0->ipywidgets>=7.3.0; extra == \"visualization\"->qiskit-terra[visualization]) (4.4.0)\nRequirement already satisfied: jupyter-client in /opt/conda/envs/Python36/lib/python3.6/site-packages (from ipykernel>=4.5.1->ipywidgets>=7.3.0; extra == \"visualization\"->qiskit-terra[visualization]) (5.2.4)\nRequirement already satisfied: tornado>=4.2 in /opt/conda/envs/Python36/lib/python3.6/site-packages (from ipykernel>=4.5.1->ipywidgets>=7.3.0; extra == \"visualization\"->qiskit-terra[visualization]) (5.1.1)\nRequirement already satisfied: jinja2 in /opt/conda/envs/Python36/lib/python3.6/site-packages (from notebook>=4.4.1->widgetsnbextension~=3.4.0->ipywidgets>=7.3.0; extra == \"visualization\"->qiskit-terra[visualization]) (2.10)\nRequirement already satisfied: pyzmq>=17 in /opt/conda/envs/Python36/lib/python3.6/site-packages (from notebook>=4.4.1->widgetsnbextension~=3.4.0->ipywidgets>=7.3.0; extra == \"visualization\"->qiskit-terra[visualization]) (17.1.2)\n",
                    "name": "stdout"
                },
                {
                    "output_type": "stream",
                    "text": "Requirement already satisfied: nbconvert in /opt/conda/envs/Python36/lib/python3.6/site-packages (from notebook>=4.4.1->widgetsnbextension~=3.4.0->ipywidgets>=7.3.0; extra == \"visualization\"->qiskit-terra[visualization]) (5.4.0)\nRequirement already satisfied: terminado>=0.8.1 in /opt/conda/envs/Python36/lib/python3.6/site-packages (from notebook>=4.4.1->widgetsnbextension~=3.4.0->ipywidgets>=7.3.0; extra == \"visualization\"->qiskit-terra[visualization]) (0.8.1)\nRequirement already satisfied: prometheus-client in /opt/conda/envs/Python36/lib/python3.6/site-packages (from notebook>=4.4.1->widgetsnbextension~=3.4.0->ipywidgets>=7.3.0; extra == \"visualization\"->qiskit-terra[visualization]) (0.5.0)\nRequirement already satisfied: Send2Trash in /opt/conda/envs/Python36/lib/python3.6/site-packages (from notebook>=4.4.1->widgetsnbextension~=3.4.0->ipywidgets>=7.3.0; extra == \"visualization\"->qiskit-terra[visualization]) (1.5.0)\nRequirement already satisfied: wcwidth in /opt/conda/envs/Python36/lib/python3.6/site-packages (from prompt-toolkit<2.1.0,>=2.0.0->ipython>=4.0.0; python_version >= \"3.3\"->ipywidgets>=7.3.0; extra == \"visualization\"->qiskit-terra[visualization]) (0.1.7)\nRequirement already satisfied: ptyprocess>=0.5 in /opt/conda/envs/Python36/lib/python3.6/site-packages (from pexpect; sys_platform != \"win32\"->ipython>=4.0.0; python_version >= \"3.3\"->ipywidgets>=7.3.0; extra == \"visualization\"->qiskit-terra[visualization]) (0.6.0)\nRequirement already satisfied: parso>=0.3.0 in /opt/conda/envs/Python36/lib/python3.6/site-packages (from jedi>=0.10->ipython>=4.0.0; python_version >= \"3.3\"->ipywidgets>=7.3.0; extra == \"visualization\"->qiskit-terra[visualization]) (0.3.2)\nRequirement already satisfied: MarkupSafe>=0.23 in /opt/conda/envs/Python36/lib/python3.6/site-packages (from jinja2->notebook>=4.4.1->widgetsnbextension~=3.4.0->ipywidgets>=7.3.0; extra == \"visualization\"->qiskit-terra[visualization]) (1.1.0)\nRequirement already satisfied: mistune>=0.8.1 in /opt/conda/envs/Python36/lib/python3.6/site-packages (from nbconvert->notebook>=4.4.1->widgetsnbextension~=3.4.0->ipywidgets>=7.3.0; extra == \"visualization\"->qiskit-terra[visualization]) (0.8.4)\nRequirement already satisfied: entrypoints>=0.2.2 in /opt/conda/envs/Python36/lib/python3.6/site-packages (from nbconvert->notebook>=4.4.1->widgetsnbextension~=3.4.0->ipywidgets>=7.3.0; extra == \"visualization\"->qiskit-terra[visualization]) (0.3)\nRequirement already satisfied: bleach in /opt/conda/envs/Python36/lib/python3.6/site-packages (from nbconvert->notebook>=4.4.1->widgetsnbextension~=3.4.0->ipywidgets>=7.3.0; extra == \"visualization\"->qiskit-terra[visualization]) (3.1.0)\nRequirement already satisfied: pandocfilters>=1.4.1 in /opt/conda/envs/Python36/lib/python3.6/site-packages (from nbconvert->notebook>=4.4.1->widgetsnbextension~=3.4.0->ipywidgets>=7.3.0; extra == \"visualization\"->qiskit-terra[visualization]) (1.4.2)\nRequirement already satisfied: testpath in /opt/conda/envs/Python36/lib/python3.6/site-packages (from nbconvert->notebook>=4.4.1->widgetsnbextension~=3.4.0->ipywidgets>=7.3.0; extra == \"visualization\"->qiskit-terra[visualization]) (0.4.2)\nRequirement already satisfied: defusedxml in /opt/conda/envs/Python36/lib/python3.6/site-packages (from nbconvert->notebook>=4.4.1->widgetsnbextension~=3.4.0->ipywidgets>=7.3.0; extra == \"visualization\"->qiskit-terra[visualization]) (0.5.0)\nRequirement already satisfied: webencodings in /opt/conda/envs/Python36/lib/python3.6/site-packages (from bleach->nbconvert->notebook>=4.4.1->widgetsnbextension~=3.4.0->ipywidgets>=7.3.0; extra == \"visualization\"->qiskit-terra[visualization]) (0.5.1)\nBuilding wheels for collected packages: pylatexenc\n  Building wheel for pylatexenc (setup.py) ... \u001b[?25ldone\n\u001b[?25h  Stored in directory: /home/dsxuser/.cache/pip/wheels/1f/96/37/af1deb0b5942a2f4a7a895f49fc8431f6999721f00be42c3b6\nSuccessfully built pylatexenc\nInstalling collected packages: pylatexenc, pydot\nSuccessfully installed pydot-1.4.1 pylatexenc-2.1\n",
                    "name": "stdout"
                }
            ]
        },
        {
            "metadata": {},
            "cell_type": "code",
            "source": "import qiskit",
            "execution_count": 51,
            "outputs": [
                {
                    "output_type": "error",
                    "ename": "AttributeError",
                    "evalue": "type object 'qiskit.providers.aer.pulse.qutip_lite.cy.spmath.ar' has no attribute '__reduce_cython__'",
                    "traceback": [
                        "\u001b[0;31m---------------------------------------------------------------------------\u001b[0m",
                        "\u001b[0;31mAttributeError\u001b[0m                            Traceback (most recent call last)",
                        "\u001b[0;32m<ipython-input-51-578b7f7e9727>\u001b[0m in \u001b[0;36m<module>\u001b[0;34m\u001b[0m\n\u001b[0;32m----> 1\u001b[0;31m \u001b[0;32mimport\u001b[0m \u001b[0mqiskit\u001b[0m\u001b[0;34m\u001b[0m\u001b[0;34m\u001b[0m\u001b[0m\n\u001b[0m",
                        "\u001b[0;32m/opt/conda/envs/Python36/lib/python3.6/site-packages/qiskit/__init__.py\u001b[0m in \u001b[0;36m<module>\u001b[0;34m\u001b[0m\n\u001b[1;32m     49\u001b[0m \u001b[0;31m# Try to import the Aer provider if installed.\u001b[0m\u001b[0;34m\u001b[0m\u001b[0;34m\u001b[0m\u001b[0;34m\u001b[0m\u001b[0m\n\u001b[1;32m     50\u001b[0m \u001b[0;32mtry\u001b[0m\u001b[0;34m:\u001b[0m\u001b[0;34m\u001b[0m\u001b[0;34m\u001b[0m\u001b[0m\n\u001b[0;32m---> 51\u001b[0;31m     \u001b[0;32mfrom\u001b[0m \u001b[0mqiskit\u001b[0m\u001b[0;34m.\u001b[0m\u001b[0mproviders\u001b[0m\u001b[0;34m.\u001b[0m\u001b[0maer\u001b[0m \u001b[0;32mimport\u001b[0m \u001b[0mAer\u001b[0m\u001b[0;34m\u001b[0m\u001b[0;34m\u001b[0m\u001b[0m\n\u001b[0m\u001b[1;32m     52\u001b[0m \u001b[0;32mexcept\u001b[0m \u001b[0mImportError\u001b[0m\u001b[0;34m:\u001b[0m\u001b[0;34m\u001b[0m\u001b[0;34m\u001b[0m\u001b[0m\n\u001b[1;32m     53\u001b[0m     warnings.warn('Could not import the Aer provider from the qiskit-aer '\n",
                        "\u001b[0;32m/opt/conda/envs/Python36/lib/python3.6/site-packages/qiskit/providers/aer/__init__.py\u001b[0m in \u001b[0;36m<module>\u001b[0;34m\u001b[0m\n\u001b[1;32m     62\u001b[0m \u001b[0;34m\u001b[0m\u001b[0m\n\u001b[1;32m     63\u001b[0m \u001b[0;31m# pylint: disable=wrong-import-position\u001b[0m\u001b[0;34m\u001b[0m\u001b[0;34m\u001b[0m\u001b[0;34m\u001b[0m\u001b[0m\n\u001b[0;32m---> 64\u001b[0;31m \u001b[0;32mfrom\u001b[0m \u001b[0;34m.\u001b[0m\u001b[0maerprovider\u001b[0m \u001b[0;32mimport\u001b[0m \u001b[0mAerProvider\u001b[0m\u001b[0;34m\u001b[0m\u001b[0;34m\u001b[0m\u001b[0m\n\u001b[0m\u001b[1;32m     65\u001b[0m \u001b[0;32mfrom\u001b[0m \u001b[0;34m.\u001b[0m\u001b[0maerjob\u001b[0m \u001b[0;32mimport\u001b[0m \u001b[0mAerJob\u001b[0m\u001b[0;34m\u001b[0m\u001b[0;34m\u001b[0m\u001b[0m\n\u001b[1;32m     66\u001b[0m \u001b[0;32mfrom\u001b[0m \u001b[0;34m.\u001b[0m\u001b[0maererror\u001b[0m \u001b[0;32mimport\u001b[0m \u001b[0mAerError\u001b[0m\u001b[0;34m\u001b[0m\u001b[0;34m\u001b[0m\u001b[0m\n",
                        "\u001b[0;32m/opt/conda/envs/Python36/lib/python3.6/site-packages/qiskit/providers/aer/aerprovider.py\u001b[0m in \u001b[0;36m<module>\u001b[0;34m\u001b[0m\n\u001b[1;32m     21\u001b[0m \u001b[0;32mfrom\u001b[0m \u001b[0;34m.\u001b[0m\u001b[0mbackends\u001b[0m\u001b[0;34m.\u001b[0m\u001b[0mstatevector_simulator\u001b[0m \u001b[0;32mimport\u001b[0m \u001b[0mStatevectorSimulator\u001b[0m\u001b[0;34m\u001b[0m\u001b[0;34m\u001b[0m\u001b[0m\n\u001b[1;32m     22\u001b[0m \u001b[0;32mfrom\u001b[0m \u001b[0;34m.\u001b[0m\u001b[0mbackends\u001b[0m\u001b[0;34m.\u001b[0m\u001b[0munitary_simulator\u001b[0m \u001b[0;32mimport\u001b[0m \u001b[0mUnitarySimulator\u001b[0m\u001b[0;34m\u001b[0m\u001b[0;34m\u001b[0m\u001b[0m\n\u001b[0;32m---> 23\u001b[0;31m \u001b[0;32mfrom\u001b[0m \u001b[0;34m.\u001b[0m\u001b[0mbackends\u001b[0m\u001b[0;34m.\u001b[0m\u001b[0mpulse_simulator\u001b[0m \u001b[0;32mimport\u001b[0m \u001b[0mPulseSimulator\u001b[0m\u001b[0;34m\u001b[0m\u001b[0;34m\u001b[0m\u001b[0m\n\u001b[0m\u001b[1;32m     24\u001b[0m \u001b[0;34m\u001b[0m\u001b[0m\n\u001b[1;32m     25\u001b[0m \u001b[0;34m\u001b[0m\u001b[0m\n",
                        "\u001b[0;32m/opt/conda/envs/Python36/lib/python3.6/site-packages/qiskit/providers/aer/backends/__init__.py\u001b[0m in \u001b[0;36m<module>\u001b[0;34m\u001b[0m\n\u001b[1;32m     18\u001b[0m \u001b[0;32mfrom\u001b[0m \u001b[0;34m.\u001b[0m\u001b[0mstatevector_simulator\u001b[0m \u001b[0;32mimport\u001b[0m \u001b[0mStatevectorSimulator\u001b[0m\u001b[0;34m\u001b[0m\u001b[0;34m\u001b[0m\u001b[0m\n\u001b[1;32m     19\u001b[0m \u001b[0;32mfrom\u001b[0m \u001b[0;34m.\u001b[0m\u001b[0munitary_simulator\u001b[0m \u001b[0;32mimport\u001b[0m \u001b[0mUnitarySimulator\u001b[0m\u001b[0;34m\u001b[0m\u001b[0;34m\u001b[0m\u001b[0m\n\u001b[0;32m---> 20\u001b[0;31m \u001b[0;32mfrom\u001b[0m \u001b[0;34m.\u001b[0m\u001b[0mpulse_simulator\u001b[0m \u001b[0;32mimport\u001b[0m \u001b[0mPulseSimulator\u001b[0m\u001b[0;34m\u001b[0m\u001b[0;34m\u001b[0m\u001b[0m\n\u001b[0m",
                        "\u001b[0;32m/opt/conda/envs/Python36/lib/python3.6/site-packages/qiskit/providers/aer/backends/pulse_simulator.py\u001b[0m in \u001b[0;36m<module>\u001b[0;34m\u001b[0m\n\u001b[1;32m     26\u001b[0m \u001b[0;32mfrom\u001b[0m \u001b[0;34m.\u001b[0m\u001b[0;34m.\u001b[0m\u001b[0maerjob\u001b[0m \u001b[0;32mimport\u001b[0m \u001b[0mAerJob\u001b[0m\u001b[0;34m\u001b[0m\u001b[0;34m\u001b[0m\u001b[0m\n\u001b[1;32m     27\u001b[0m \u001b[0;32mfrom\u001b[0m \u001b[0;34m.\u001b[0m\u001b[0;34m.\u001b[0m\u001b[0mversion\u001b[0m \u001b[0;32mimport\u001b[0m \u001b[0m__version__\u001b[0m\u001b[0;34m\u001b[0m\u001b[0;34m\u001b[0m\u001b[0m\n\u001b[0;32m---> 28\u001b[0;31m \u001b[0;32mfrom\u001b[0m \u001b[0;34m.\u001b[0m\u001b[0;34m.\u001b[0m\u001b[0mpulse\u001b[0m\u001b[0;34m.\u001b[0m\u001b[0mqobj\u001b[0m\u001b[0;34m.\u001b[0m\u001b[0mdigest\u001b[0m \u001b[0;32mimport\u001b[0m \u001b[0mdigest_pulse_obj\u001b[0m\u001b[0;34m\u001b[0m\u001b[0;34m\u001b[0m\u001b[0m\n\u001b[0m\u001b[1;32m     29\u001b[0m \u001b[0;32mfrom\u001b[0m \u001b[0;34m.\u001b[0m\u001b[0;34m.\u001b[0m\u001b[0mpulse\u001b[0m\u001b[0;34m.\u001b[0m\u001b[0msolver\u001b[0m\u001b[0;34m.\u001b[0m\u001b[0mopsolve\u001b[0m \u001b[0;32mimport\u001b[0m \u001b[0mopsolve\u001b[0m\u001b[0;34m\u001b[0m\u001b[0;34m\u001b[0m\u001b[0m\n\u001b[1;32m     30\u001b[0m \u001b[0;34m\u001b[0m\u001b[0m\n",
                        "\u001b[0;32m/opt/conda/envs/Python36/lib/python3.6/site-packages/qiskit/providers/aer/pulse/qobj/digest.py\u001b[0m in \u001b[0;36m<module>\u001b[0;34m\u001b[0m\n\u001b[1;32m     23\u001b[0m \u001b[0;32mfrom\u001b[0m \u001b[0mqiskit\u001b[0m\u001b[0;34m.\u001b[0m\u001b[0mproviders\u001b[0m\u001b[0;34m.\u001b[0m\u001b[0maer\u001b[0m\u001b[0;34m.\u001b[0m\u001b[0maererror\u001b[0m \u001b[0;32mimport\u001b[0m \u001b[0mAerError\u001b[0m\u001b[0;34m\u001b[0m\u001b[0;34m\u001b[0m\u001b[0m\n\u001b[1;32m     24\u001b[0m \u001b[0;32mfrom\u001b[0m \u001b[0;34m.\u001b[0m\u001b[0mop_system\u001b[0m \u001b[0;32mimport\u001b[0m \u001b[0mOPSystem\u001b[0m\u001b[0;34m\u001b[0m\u001b[0;34m\u001b[0m\u001b[0m\n\u001b[0;32m---> 25\u001b[0;31m \u001b[0;32mfrom\u001b[0m \u001b[0;34m.\u001b[0m\u001b[0mopparse\u001b[0m \u001b[0;32mimport\u001b[0m \u001b[0mNoiseParser\u001b[0m\u001b[0;34m\u001b[0m\u001b[0;34m\u001b[0m\u001b[0m\n\u001b[0m\u001b[1;32m     26\u001b[0m \u001b[0;32mfrom\u001b[0m \u001b[0;34m.\u001b[0m\u001b[0moperators\u001b[0m \u001b[0;32mimport\u001b[0m \u001b[0mqubit_occ_oper_dressed\u001b[0m\u001b[0;34m\u001b[0m\u001b[0;34m\u001b[0m\u001b[0m\n\u001b[1;32m     27\u001b[0m \u001b[0;32mfrom\u001b[0m \u001b[0;34m.\u001b[0m\u001b[0;34m.\u001b[0m\u001b[0msolver\u001b[0m\u001b[0;34m.\u001b[0m\u001b[0moptions\u001b[0m \u001b[0;32mimport\u001b[0m \u001b[0mOPoptions\u001b[0m\u001b[0;34m\u001b[0m\u001b[0;34m\u001b[0m\u001b[0m\n",
                        "\u001b[0;32m/opt/conda/envs/Python36/lib/python3.6/site-packages/qiskit/providers/aer/pulse/qobj/opparse.py\u001b[0m in \u001b[0;36m<module>\u001b[0;34m\u001b[0m\n\u001b[1;32m     20\u001b[0m \u001b[0;32mfrom\u001b[0m \u001b[0mcollections\u001b[0m \u001b[0;32mimport\u001b[0m \u001b[0mnamedtuple\u001b[0m\u001b[0;34m,\u001b[0m \u001b[0mOrderedDict\u001b[0m\u001b[0;34m\u001b[0m\u001b[0;34m\u001b[0m\u001b[0m\n\u001b[1;32m     21\u001b[0m \u001b[0;32mimport\u001b[0m \u001b[0mnumpy\u001b[0m \u001b[0;32mas\u001b[0m \u001b[0mnp\u001b[0m\u001b[0;34m\u001b[0m\u001b[0;34m\u001b[0m\u001b[0m\n\u001b[0;32m---> 22\u001b[0;31m \u001b[0;32mfrom\u001b[0m \u001b[0;34m.\u001b[0m\u001b[0mop_qobj\u001b[0m \u001b[0;32mimport\u001b[0m \u001b[0mget_func\u001b[0m\u001b[0;34m\u001b[0m\u001b[0;34m\u001b[0m\u001b[0m\n\u001b[0m\u001b[1;32m     23\u001b[0m \u001b[0;32mfrom\u001b[0m \u001b[0;34m.\u001b[0m\u001b[0moperators\u001b[0m \u001b[0;32mimport\u001b[0m \u001b[0mgen_oper\u001b[0m\u001b[0;34m\u001b[0m\u001b[0;34m\u001b[0m\u001b[0m\n\u001b[1;32m     24\u001b[0m \u001b[0;34m\u001b[0m\u001b[0m\n",
                        "\u001b[0;32m/opt/conda/envs/Python36/lib/python3.6/site-packages/qiskit/providers/aer/pulse/qobj/op_qobj.py\u001b[0m in \u001b[0;36m<module>\u001b[0;34m\u001b[0m\n\u001b[1;32m     17\u001b[0m \u001b[0;34m\u001b[0m\u001b[0m\n\u001b[1;32m     18\u001b[0m \u001b[0;32mimport\u001b[0m \u001b[0mnumpy\u001b[0m \u001b[0;32mas\u001b[0m \u001b[0mnp\u001b[0m\u001b[0;34m\u001b[0m\u001b[0;34m\u001b[0m\u001b[0m\n\u001b[0;32m---> 19\u001b[0;31m \u001b[0;32mfrom\u001b[0m \u001b[0;34m.\u001b[0m\u001b[0;34m.\u001b[0m\u001b[0mqutip_lite\u001b[0m \u001b[0;32mimport\u001b[0m \u001b[0moperators\u001b[0m \u001b[0;32mas\u001b[0m \u001b[0mops\u001b[0m\u001b[0;34m\u001b[0m\u001b[0;34m\u001b[0m\u001b[0m\n\u001b[0m\u001b[1;32m     20\u001b[0m \u001b[0;32mfrom\u001b[0m \u001b[0;34m.\u001b[0m\u001b[0;34m.\u001b[0m\u001b[0mqutip_lite\u001b[0m \u001b[0;32mimport\u001b[0m \u001b[0mstates\u001b[0m \u001b[0;32mas\u001b[0m \u001b[0mst\u001b[0m\u001b[0;34m\u001b[0m\u001b[0;34m\u001b[0m\u001b[0m\n\u001b[1;32m     21\u001b[0m \u001b[0;32mfrom\u001b[0m \u001b[0;34m.\u001b[0m\u001b[0;34m.\u001b[0m\u001b[0mqutip_lite\u001b[0m \u001b[0;32mimport\u001b[0m \u001b[0mtensor\u001b[0m \u001b[0;32mas\u001b[0m \u001b[0mten\u001b[0m\u001b[0;34m\u001b[0m\u001b[0;34m\u001b[0m\u001b[0m\n",
                        "\u001b[0;32m/opt/conda/envs/Python36/lib/python3.6/site-packages/qiskit/providers/aer/pulse/qutip_lite/operators.py\u001b[0m in \u001b[0;36m<module>\u001b[0;34m\u001b[0m\n\u001b[1;32m     55\u001b[0m \u001b[0;32mimport\u001b[0m \u001b[0mnumpy\u001b[0m \u001b[0;32mas\u001b[0m \u001b[0mnp\u001b[0m\u001b[0;34m\u001b[0m\u001b[0;34m\u001b[0m\u001b[0m\n\u001b[1;32m     56\u001b[0m \u001b[0;32mimport\u001b[0m \u001b[0mscipy\u001b[0m\u001b[0;34m.\u001b[0m\u001b[0msparse\u001b[0m \u001b[0;32mas\u001b[0m \u001b[0msp\u001b[0m\u001b[0;34m\u001b[0m\u001b[0;34m\u001b[0m\u001b[0m\n\u001b[0;32m---> 57\u001b[0;31m \u001b[0;32mfrom\u001b[0m \u001b[0;34m.\u001b[0m\u001b[0mfastsparse\u001b[0m \u001b[0;32mimport\u001b[0m \u001b[0mfast_csr_matrix\u001b[0m\u001b[0;34m,\u001b[0m \u001b[0mfast_identity\u001b[0m\u001b[0;34m\u001b[0m\u001b[0;34m\u001b[0m\u001b[0m\n\u001b[0m\u001b[1;32m     58\u001b[0m \u001b[0;34m\u001b[0m\u001b[0m\n\u001b[1;32m     59\u001b[0m \u001b[0;31m# pylint: disable=no-member\u001b[0m\u001b[0;34m\u001b[0m\u001b[0;34m\u001b[0m\u001b[0;34m\u001b[0m\u001b[0m\n",
                        "\u001b[0;32m/opt/conda/envs/Python36/lib/python3.6/site-packages/qiskit/providers/aer/pulse/qutip_lite/fastsparse.py\u001b[0m in \u001b[0;36m<module>\u001b[0;34m\u001b[0m\n\u001b[1;32m    438\u001b[0m \u001b[0;31m# -------------------------------------\u001b[0m\u001b[0;34m\u001b[0m\u001b[0;34m\u001b[0m\u001b[0;34m\u001b[0m\u001b[0m\n\u001b[1;32m    439\u001b[0m \u001b[0;31m# pylint: disable=no-name-in-module, wrong-import-position, import-error\u001b[0m\u001b[0;34m\u001b[0m\u001b[0;34m\u001b[0m\u001b[0;34m\u001b[0m\u001b[0m\n\u001b[0;32m--> 440\u001b[0;31m \u001b[0;32mfrom\u001b[0m \u001b[0;34m.\u001b[0m\u001b[0mcy\u001b[0m\u001b[0;34m.\u001b[0m\u001b[0mspmath\u001b[0m \u001b[0;32mimport\u001b[0m \u001b[0;34m(\u001b[0m\u001b[0mzcsr_transpose\u001b[0m\u001b[0;34m,\u001b[0m \u001b[0mzcsr_adjoint\u001b[0m\u001b[0;34m,\u001b[0m \u001b[0mzcsr_mult\u001b[0m\u001b[0;34m)\u001b[0m\u001b[0;34m\u001b[0m\u001b[0;34m\u001b[0m\u001b[0m\n\u001b[0m",
                        "\u001b[0;32m/opt/conda/envs/Python36/lib/python3.6/site-packages/qiskit/providers/aer/pulse/qutip_lite/cy/spmath.cpython-36m-x86_64-linux-gnu.so\u001b[0m in \u001b[0;36minit qiskit.providers.aer.pulse.qutip_lite.cy.spmath\u001b[0;34m()\u001b[0m\n",
                        "\u001b[0;31mAttributeError\u001b[0m: type object 'qiskit.providers.aer.pulse.qutip_lite.cy.spmath.ar' has no attribute '__reduce_cython__'"
                    ]
                }
            ]
        },
        {
            "metadata": {},
            "cell_type": "code",
            "source": "",
            "execution_count": null,
            "outputs": []
        }
    ],
    "metadata": {
        "kernelspec": {
            "name": "python3",
            "display_name": "Python 3.6",
            "language": "python"
        },
        "language_info": {
            "name": "python",
            "version": "3.6.9",
            "mimetype": "text/x-python",
            "codemirror_mode": {
                "name": "ipython",
                "version": 3
            },
            "pygments_lexer": "ipython3",
            "nbconvert_exporter": "python",
            "file_extension": ".py"
        }
    },
    "nbformat": 4,
    "nbformat_minor": 1
}