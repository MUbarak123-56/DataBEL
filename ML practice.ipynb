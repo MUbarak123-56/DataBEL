{
    "cells": [
        {
            "metadata": {},
            "cell_type": "markdown",
            "source": "# Machine learning using scikit-learn\n> Best practices made simple with pipelines\n\nIn this notebook, we demonstrate the usage of pipelines to promote best practices in ML in python.  We'll make sure that all of our pre-processing steps are included within the cross validation training loop, measure performance using cross validation, and make sure to use literate programming practices to share our work.\n\n# Technical objective\nOur technical objective here is to predict the sex of a penguin given its other distinguishing features."
        },
        {
            "metadata": {},
            "cell_type": "code",
            "source": "#tables and visualizations\nimport pandas as pd\nimport numpy as np\nimport seaborn as sns\n\n#machine learning\nfrom sklearn.model_selection import train_test_split, GridSearchCV\nfrom sklearn.linear_model import LogisticRegression\nfrom sklearn.pipeline import Pipeline\nfrom sklearn.compose import ColumnTransformer, make_column_selector\nfrom sklearn.impute import SimpleImputer\nfrom sklearn.preprocessing import OneHotEncoder, LabelBinarizer, StandardScaler\nfrom sklearn import config_context\nfrom sklearn.metrics import classification_report",
            "execution_count": 1,
            "outputs": []
        },
        {
            "metadata": {},
            "cell_type": "markdown",
            "source": "# Load the data\nIn this example, we'll use Allison Horst's penguins dataset.  Although this is normally used in R, we grab the csv from the penguins [GitHub repo](https://github.com/allisonhorst/palmerpenguins).  More information on the dataset is available on the introduction page [here.](https://allisonhorst.github.io/palmerpenguins/articles/intro.html)"
        },
        {
            "metadata": {},
            "cell_type": "code",
            "source": "#load the data and learn a bit\npeng_data = pd.read_csv('https://raw.githubusercontent.com/allisonhorst/palmerpenguins/master/inst/extdata/penguins.csv')\ndisplay(peng_data.head())\npeng_data.info()",
            "execution_count": 2,
            "outputs": [
                {
                    "output_type": "display_data",
                    "data": {
                        "text/plain": "  species     island  bill_length_mm  bill_depth_mm  flipper_length_mm  \\\n0  Adelie  Torgersen            39.1           18.7              181.0   \n1  Adelie  Torgersen            39.5           17.4              186.0   \n2  Adelie  Torgersen            40.3           18.0              195.0   \n3  Adelie  Torgersen             NaN            NaN                NaN   \n4  Adelie  Torgersen            36.7           19.3              193.0   \n\n   body_mass_g     sex  year  \n0       3750.0    male  2007  \n1       3800.0  female  2007  \n2       3250.0  female  2007  \n3          NaN     NaN  2007  \n4       3450.0  female  2007  ",
                        "text/html": "<div>\n<style scoped>\n    .dataframe tbody tr th:only-of-type {\n        vertical-align: middle;\n    }\n\n    .dataframe tbody tr th {\n        vertical-align: top;\n    }\n\n    .dataframe thead th {\n        text-align: right;\n    }\n</style>\n<table border=\"1\" class=\"dataframe\">\n  <thead>\n    <tr style=\"text-align: right;\">\n      <th></th>\n      <th>species</th>\n      <th>island</th>\n      <th>bill_length_mm</th>\n      <th>bill_depth_mm</th>\n      <th>flipper_length_mm</th>\n      <th>body_mass_g</th>\n      <th>sex</th>\n      <th>year</th>\n    </tr>\n  </thead>\n  <tbody>\n    <tr>\n      <th>0</th>\n      <td>Adelie</td>\n      <td>Torgersen</td>\n      <td>39.1</td>\n      <td>18.7</td>\n      <td>181.0</td>\n      <td>3750.0</td>\n      <td>male</td>\n      <td>2007</td>\n    </tr>\n    <tr>\n      <th>1</th>\n      <td>Adelie</td>\n      <td>Torgersen</td>\n      <td>39.5</td>\n      <td>17.4</td>\n      <td>186.0</td>\n      <td>3800.0</td>\n      <td>female</td>\n      <td>2007</td>\n    </tr>\n    <tr>\n      <th>2</th>\n      <td>Adelie</td>\n      <td>Torgersen</td>\n      <td>40.3</td>\n      <td>18.0</td>\n      <td>195.0</td>\n      <td>3250.0</td>\n      <td>female</td>\n      <td>2007</td>\n    </tr>\n    <tr>\n      <th>3</th>\n      <td>Adelie</td>\n      <td>Torgersen</td>\n      <td>NaN</td>\n      <td>NaN</td>\n      <td>NaN</td>\n      <td>NaN</td>\n      <td>NaN</td>\n      <td>2007</td>\n    </tr>\n    <tr>\n      <th>4</th>\n      <td>Adelie</td>\n      <td>Torgersen</td>\n      <td>36.7</td>\n      <td>19.3</td>\n      <td>193.0</td>\n      <td>3450.0</td>\n      <td>female</td>\n      <td>2007</td>\n    </tr>\n  </tbody>\n</table>\n</div>"
                    },
                    "metadata": {}
                },
                {
                    "output_type": "stream",
                    "text": "<class 'pandas.core.frame.DataFrame'>\nRangeIndex: 344 entries, 0 to 343\nData columns (total 8 columns):\n #   Column             Non-Null Count  Dtype  \n---  ------             --------------  -----  \n 0   species            344 non-null    object \n 1   island             344 non-null    object \n 2   bill_length_mm     342 non-null    float64\n 3   bill_depth_mm      342 non-null    float64\n 4   flipper_length_mm  342 non-null    float64\n 5   body_mass_g        342 non-null    float64\n 6   sex                333 non-null    object \n 7   year               344 non-null    int64  \ndtypes: float64(4), int64(1), object(3)\nmemory usage: 21.6+ KB\n",
                    "name": "stdout"
                }
            ]
        },
        {
            "metadata": {},
            "cell_type": "markdown",
            "source": "# Data cleaning and EDA\nWe can now explore our data.  We leave this exercise to the reader.  For now, we can observe that there are a few NA values which will likely need imputation.  We'll wait for this step so that we can put it within our training loop.  For now, we'll just drop all of the sex NAs out of the dataframe."
        },
        {
            "metadata": {},
            "cell_type": "code",
            "source": "peng_data = peng_data.dropna(subset=['sex'])",
            "execution_count": 3,
            "outputs": []
        },
        {
            "metadata": {},
            "cell_type": "code",
            "source": "peng_data.shape",
            "execution_count": 4,
            "outputs": [
                {
                    "output_type": "execute_result",
                    "execution_count": 4,
                    "data": {
                        "text/plain": "(333, 8)"
                    },
                    "metadata": {}
                }
            ]
        },
        {
            "metadata": {},
            "cell_type": "markdown",
            "source": "This set of dimensions is expected."
        },
        {
            "metadata": {},
            "cell_type": "markdown",
            "source": "# Split the data\nHere, we employ the initial split to separate the training from the golden holdout test set."
        },
        {
            "metadata": {},
            "cell_type": "code",
            "source": "class_column = 'sex'\nrandom_seed = 2435\n\nX_train, X_test, y_train, y_test = train_test_split(peng_data.drop(columns=class_column), peng_data[class_column],\n                                                   test_size=0.25, random_state=random_seed, stratify=peng_data[class_column])",
            "execution_count": 5,
            "outputs": []
        },
        {
            "metadata": {},
            "cell_type": "markdown",
            "source": "Quick sanity check to make sure that everything seems OK:"
        },
        {
            "metadata": {},
            "cell_type": "code",
            "source": "# X Train\nprint('On X train: ')\nprint('X train dimensions: ', X_train.shape)\ndisplay(X_train.head())\n\n# X test\nprint('\\nOn X test: ')\nprint('X test dimensions: ', X_test.shape)\ndisplay(X_test.head())",
            "execution_count": 8,
            "outputs": [
                {
                    "output_type": "stream",
                    "text": "On X train: \nX train dimensions:  (249, 7)\n",
                    "name": "stdout"
                },
                {
                    "output_type": "display_data",
                    "data": {
                        "text/plain": "    species  island  bill_length_mm  bill_depth_mm  flipper_length_mm  \\\n101  Adelie  Biscoe            41.0           20.0              203.0   \n260  Gentoo  Biscoe            43.3           14.0              208.0   \n142  Adelie   Dream            32.1           15.5              188.0   \n155  Gentoo  Biscoe            50.0           15.2              218.0   \n136  Adelie   Dream            35.6           17.5              191.0   \n\n     body_mass_g  year  \n101       4725.0  2009  \n260       4575.0  2009  \n142       3050.0  2009  \n155       5700.0  2007  \n136       3175.0  2009  ",
                        "text/html": "<div>\n<style scoped>\n    .dataframe tbody tr th:only-of-type {\n        vertical-align: middle;\n    }\n\n    .dataframe tbody tr th {\n        vertical-align: top;\n    }\n\n    .dataframe thead th {\n        text-align: right;\n    }\n</style>\n<table border=\"1\" class=\"dataframe\">\n  <thead>\n    <tr style=\"text-align: right;\">\n      <th></th>\n      <th>species</th>\n      <th>island</th>\n      <th>bill_length_mm</th>\n      <th>bill_depth_mm</th>\n      <th>flipper_length_mm</th>\n      <th>body_mass_g</th>\n      <th>year</th>\n    </tr>\n  </thead>\n  <tbody>\n    <tr>\n      <th>101</th>\n      <td>Adelie</td>\n      <td>Biscoe</td>\n      <td>41.0</td>\n      <td>20.0</td>\n      <td>203.0</td>\n      <td>4725.0</td>\n      <td>2009</td>\n    </tr>\n    <tr>\n      <th>260</th>\n      <td>Gentoo</td>\n      <td>Biscoe</td>\n      <td>43.3</td>\n      <td>14.0</td>\n      <td>208.0</td>\n      <td>4575.0</td>\n      <td>2009</td>\n    </tr>\n    <tr>\n      <th>142</th>\n      <td>Adelie</td>\n      <td>Dream</td>\n      <td>32.1</td>\n      <td>15.5</td>\n      <td>188.0</td>\n      <td>3050.0</td>\n      <td>2009</td>\n    </tr>\n    <tr>\n      <th>155</th>\n      <td>Gentoo</td>\n      <td>Biscoe</td>\n      <td>50.0</td>\n      <td>15.2</td>\n      <td>218.0</td>\n      <td>5700.0</td>\n      <td>2007</td>\n    </tr>\n    <tr>\n      <th>136</th>\n      <td>Adelie</td>\n      <td>Dream</td>\n      <td>35.6</td>\n      <td>17.5</td>\n      <td>191.0</td>\n      <td>3175.0</td>\n      <td>2009</td>\n    </tr>\n  </tbody>\n</table>\n</div>"
                    },
                    "metadata": {}
                },
                {
                    "output_type": "stream",
                    "text": "\nOn X test: \nX test dimensions:  (84, 7)\n",
                    "name": "stdout"
                },
                {
                    "output_type": "display_data",
                    "data": {
                        "text/plain": "       species     island  bill_length_mm  bill_depth_mm  flipper_length_mm  \\\n308  Chinstrap      Dream            42.5           16.7              187.0   \n120     Adelie  Torgersen            36.2           17.2              187.0   \n206     Gentoo     Biscoe            46.5           14.4              217.0   \n106     Adelie     Biscoe            38.6           17.2              199.0   \n99      Adelie      Dream            43.2           18.5              192.0   \n\n     body_mass_g  year  \n308       3350.0  2008  \n120       3150.0  2009  \n206       4900.0  2008  \n106       3750.0  2009  \n99        4100.0  2008  ",
                        "text/html": "<div>\n<style scoped>\n    .dataframe tbody tr th:only-of-type {\n        vertical-align: middle;\n    }\n\n    .dataframe tbody tr th {\n        vertical-align: top;\n    }\n\n    .dataframe thead th {\n        text-align: right;\n    }\n</style>\n<table border=\"1\" class=\"dataframe\">\n  <thead>\n    <tr style=\"text-align: right;\">\n      <th></th>\n      <th>species</th>\n      <th>island</th>\n      <th>bill_length_mm</th>\n      <th>bill_depth_mm</th>\n      <th>flipper_length_mm</th>\n      <th>body_mass_g</th>\n      <th>year</th>\n    </tr>\n  </thead>\n  <tbody>\n    <tr>\n      <th>308</th>\n      <td>Chinstrap</td>\n      <td>Dream</td>\n      <td>42.5</td>\n      <td>16.7</td>\n      <td>187.0</td>\n      <td>3350.0</td>\n      <td>2008</td>\n    </tr>\n    <tr>\n      <th>120</th>\n      <td>Adelie</td>\n      <td>Torgersen</td>\n      <td>36.2</td>\n      <td>17.2</td>\n      <td>187.0</td>\n      <td>3150.0</td>\n      <td>2009</td>\n    </tr>\n    <tr>\n      <th>206</th>\n      <td>Gentoo</td>\n      <td>Biscoe</td>\n      <td>46.5</td>\n      <td>14.4</td>\n      <td>217.0</td>\n      <td>4900.0</td>\n      <td>2008</td>\n    </tr>\n    <tr>\n      <th>106</th>\n      <td>Adelie</td>\n      <td>Biscoe</td>\n      <td>38.6</td>\n      <td>17.2</td>\n      <td>199.0</td>\n      <td>3750.0</td>\n      <td>2009</td>\n    </tr>\n    <tr>\n      <th>99</th>\n      <td>Adelie</td>\n      <td>Dream</td>\n      <td>43.2</td>\n      <td>18.5</td>\n      <td>192.0</td>\n      <td>4100.0</td>\n      <td>2008</td>\n    </tr>\n  </tbody>\n</table>\n</div>"
                    },
                    "metadata": {}
                }
            ]
        },
        {
            "metadata": {},
            "cell_type": "code",
            "source": "# X Train\nprint('On y train: ')\nprint('y train dimensions: ', y_train.shape)\ndisplay(y_train.head())\n\n# X test\nprint('\\nOn y test: ')\nprint('y test dimensions: ', y_test.shape)\ndisplay(y_test.head())",
            "execution_count": 9,
            "outputs": [
                {
                    "output_type": "stream",
                    "text": "On y train: \ny train dimensions:  (249,)\n",
                    "name": "stdout"
                },
                {
                    "output_type": "display_data",
                    "data": {
                        "text/plain": "101      male\n260    female\n142    female\n155      male\n136    female\nName: sex, dtype: object"
                    },
                    "metadata": {}
                },
                {
                    "output_type": "stream",
                    "text": "\nOn y test: \ny test dimensions:  (84,)\n",
                    "name": "stdout"
                },
                {
                    "output_type": "display_data",
                    "data": {
                        "text/plain": "308    female\n120    female\n206    female\n106    female\n99       male\nName: sex, dtype: object"
                    },
                    "metadata": {}
                }
            ]
        },
        {
            "metadata": {},
            "cell_type": "markdown",
            "source": "I love a good sanity check.  Here, we can see that the ratios of the split are about correct.  We can also observe that the indices match (for example, between X and y train).  These are all good indicators."
        },
        {
            "metadata": {},
            "cell_type": "markdown",
            "source": "# Establish training pipeline\nIt looks like we first might need to do some imputation on some values within our rows.  Then, it looks like we have some categorical columns so those will need to be encoded.  However, this isn't all the columns since our column types are heterogeneous.  Let's see what transforming specific columns looks like here.\n\nNote that in the end, this will be methodology-specific.  Although we use logistic regression below, we also perform imputation to demonstrate the method."
        },
        {
            "metadata": {},
            "cell_type": "code",
            "source": "#individual pipelines for differing datatypes\ncat_pipeline = Pipeline(steps=[('cat_impute', SimpleImputer(missing_values=np.nan, strategy='most_frequent')),\n                               ('onehot_cat', OneHotEncoder(drop='if_binary'))])\nnum_pipeline = Pipeline(steps=[('impute_num', SimpleImputer(missing_values=np.nan, strategy='mean')),\n                               ('scale_num', StandardScaler())])     ",
            "execution_count": 10,
            "outputs": []
        },
        {
            "metadata": {},
            "cell_type": "code",
            "source": "#establish preprocessing pipeline by columns\npreproc = ColumnTransformer([('cat_pipe', cat_pipeline, make_column_selector(dtype_include=object)),\n                             ('num_pipe', num_pipeline, make_column_selector(dtype_include=np.number))],\n                             remainder='passthrough')",
            "execution_count": 11,
            "outputs": []
        },
        {
            "metadata": {},
            "cell_type": "code",
            "source": "#generate the whole modeling pipeline with preprocessing\npipe = Pipeline(steps=[('preproc', preproc),\n                       ('mdl', LogisticRegression(penalty='elasticnet', solver='saga', tol=0.01))])\n\n#visualization for steps\nwith config_context(display='diagram'):\n    display(pipe)",
            "execution_count": 12,
            "outputs": [
                {
                    "output_type": "display_data",
                    "data": {
                        "text/plain": "Pipeline(steps=[('preproc',\n                 ColumnTransformer(remainder='passthrough',\n                                   transformers=[('cat_pipe',\n                                                  Pipeline(steps=[('cat_impute',\n                                                                   SimpleImputer(strategy='most_frequent')),\n                                                                  ('onehot_cat',\n                                                                   OneHotEncoder(drop='if_binary'))]),\n                                                  <sklearn.compose._column_transformer.make_column_selector object at 0x7f520e3c54d0>),\n                                                 ('num_pipe',\n                                                  Pipeline(steps=[('impute_num',\n                                                                   SimpleImputer()),\n                                                                  ('scale_num',\n                                                                   StandardScaler())]),\n                                                  <sklearn.compose._column_transformer.make_column_selector object at 0x7f520e3c5310>)])),\n                ('mdl',\n                 LogisticRegression(penalty='elasticnet', solver='saga',\n                                    tol=0.01))])",
                        "text/html": "<style>div.sk-top-container {color: black;background-color: white;}div.sk-toggleable {background-color: white;}label.sk-toggleable__label {cursor: pointer;display: block;width: 100%;margin-bottom: 0;padding: 0.2em 0.3em;box-sizing: border-box;text-align: center;}div.sk-toggleable__content {max-height: 0;max-width: 0;overflow: hidden;text-align: left;background-color: #f0f8ff;}div.sk-toggleable__content pre {margin: 0.2em;color: black;border-radius: 0.25em;background-color: #f0f8ff;}input.sk-toggleable__control:checked~div.sk-toggleable__content {max-height: 200px;max-width: 100%;overflow: auto;}div.sk-estimator input.sk-toggleable__control:checked~label.sk-toggleable__label {background-color: #d4ebff;}div.sk-label input.sk-toggleable__control:checked~label.sk-toggleable__label {background-color: #d4ebff;}input.sk-hidden--visually {border: 0;clip: rect(1px 1px 1px 1px);clip: rect(1px, 1px, 1px, 1px);height: 1px;margin: -1px;overflow: hidden;padding: 0;position: absolute;width: 1px;}div.sk-estimator {font-family: monospace;background-color: #f0f8ff;margin: 0.25em 0.25em;border: 1px dotted black;border-radius: 0.25em;box-sizing: border-box;}div.sk-estimator:hover {background-color: #d4ebff;}div.sk-parallel-item::after {content: \"\";width: 100%;border-bottom: 1px solid gray;flex-grow: 1;}div.sk-label:hover label.sk-toggleable__label {background-color: #d4ebff;}div.sk-serial::before {content: \"\";position: absolute;border-left: 1px solid gray;box-sizing: border-box;top: 2em;bottom: 0;left: 50%;}div.sk-serial {display: flex;flex-direction: column;align-items: center;background-color: white;}div.sk-item {z-index: 1;}div.sk-parallel {display: flex;align-items: stretch;justify-content: center;background-color: white;}div.sk-parallel-item {display: flex;flex-direction: column;position: relative;background-color: white;}div.sk-parallel-item:first-child::after {align-self: flex-end;width: 50%;}div.sk-parallel-item:last-child::after {align-self: flex-start;width: 50%;}div.sk-parallel-item:only-child::after {width: 0;}div.sk-dashed-wrapped {border: 1px dashed gray;margin: 0.2em;box-sizing: border-box;padding-bottom: 0.1em;background-color: white;position: relative;}div.sk-label label {font-family: monospace;font-weight: bold;background-color: white;display: inline-block;line-height: 1.2em;}div.sk-label-container {position: relative;z-index: 2;text-align: center;}div.sk-container {display: inline-block;position: relative;}</style><div class=\"sk-top-container\"><div class=\"sk-container\"><div class=\"sk-item sk-dashed-wrapped\"><div class=\"sk-label-container\"><div class=\"sk-label sk-toggleable\"><input class=\"sk-toggleable__control sk-hidden--visually\" id=\"1e4cec04-956b-42df-a1b1-f9f51dc0c989\" type=\"checkbox\" ><label class=\"sk-toggleable__label\" for=\"1e4cec04-956b-42df-a1b1-f9f51dc0c989\">Pipeline</label><div class=\"sk-toggleable__content\"><pre>Pipeline(steps=[('preproc',\n                 ColumnTransformer(remainder='passthrough',\n                                   transformers=[('cat_pipe',\n                                                  Pipeline(steps=[('cat_impute',\n                                                                   SimpleImputer(strategy='most_frequent')),\n                                                                  ('onehot_cat',\n                                                                   OneHotEncoder(drop='if_binary'))]),\n                                                  <sklearn.compose._column_transformer.make_column_selector object at 0x7f520e3c54d0>),\n                                                 ('num_pipe',\n                                                  Pipeline(steps=[('impute_num',\n                                                                   SimpleImputer()),\n                                                                  ('scale_num',\n                                                                   StandardScaler())]),\n                                                  <sklearn.compose._column_transformer.make_column_selector object at 0x7f520e3c5310>)])),\n                ('mdl',\n                 LogisticRegression(penalty='elasticnet', solver='saga',\n                                    tol=0.01))])</pre></div></div></div><div class=\"sk-serial\"><div class=\"sk-item sk-dashed-wrapped\"><div class=\"sk-label-container\"><div class=\"sk-label sk-toggleable\"><input class=\"sk-toggleable__control sk-hidden--visually\" id=\"fc17f286-5a9d-49fb-8b4e-c5ae69dae6da\" type=\"checkbox\" ><label class=\"sk-toggleable__label\" for=\"fc17f286-5a9d-49fb-8b4e-c5ae69dae6da\">preproc: ColumnTransformer</label><div class=\"sk-toggleable__content\"><pre>ColumnTransformer(remainder='passthrough',\n                  transformers=[('cat_pipe',\n                                 Pipeline(steps=[('cat_impute',\n                                                  SimpleImputer(strategy='most_frequent')),\n                                                 ('onehot_cat',\n                                                  OneHotEncoder(drop='if_binary'))]),\n                                 <sklearn.compose._column_transformer.make_column_selector object at 0x7f520e3c54d0>),\n                                ('num_pipe',\n                                 Pipeline(steps=[('impute_num',\n                                                  SimpleImputer()),\n                                                 ('scale_num',\n                                                  StandardScaler())]),\n                                 <sklearn.compose._column_transformer.make_column_selector object at 0x7f520e3c5310>)])</pre></div></div></div><div class=\"sk-parallel\"><div class=\"sk-parallel-item\"><div class=\"sk-item\"><div class=\"sk-label-container\"><div class=\"sk-label sk-toggleable\"><input class=\"sk-toggleable__control sk-hidden--visually\" id=\"b0fe4231-0daa-4670-a965-6e467b04378b\" type=\"checkbox\" ><label class=\"sk-toggleable__label\" for=\"b0fe4231-0daa-4670-a965-6e467b04378b\">cat_pipe</label><div class=\"sk-toggleable__content\"><pre><sklearn.compose._column_transformer.make_column_selector object at 0x7f520e3c54d0></pre></div></div></div><div class=\"sk-serial\"><div class=\"sk-item\"><div class=\"sk-serial\"><div class=\"sk-item\"><div class=\"sk-estimator sk-toggleable\"><input class=\"sk-toggleable__control sk-hidden--visually\" id=\"d4ab9484-1957-4196-bf7c-662b98a80da5\" type=\"checkbox\" ><label class=\"sk-toggleable__label\" for=\"d4ab9484-1957-4196-bf7c-662b98a80da5\">SimpleImputer</label><div class=\"sk-toggleable__content\"><pre>SimpleImputer(strategy='most_frequent')</pre></div></div></div><div class=\"sk-item\"><div class=\"sk-estimator sk-toggleable\"><input class=\"sk-toggleable__control sk-hidden--visually\" id=\"4f26475c-dadf-444b-9306-35e58f5520e9\" type=\"checkbox\" ><label class=\"sk-toggleable__label\" for=\"4f26475c-dadf-444b-9306-35e58f5520e9\">OneHotEncoder</label><div class=\"sk-toggleable__content\"><pre>OneHotEncoder(drop='if_binary')</pre></div></div></div></div></div></div></div></div><div class=\"sk-parallel-item\"><div class=\"sk-item\"><div class=\"sk-label-container\"><div class=\"sk-label sk-toggleable\"><input class=\"sk-toggleable__control sk-hidden--visually\" id=\"e4eb0371-f0ef-4a3c-83f3-255de548076b\" type=\"checkbox\" ><label class=\"sk-toggleable__label\" for=\"e4eb0371-f0ef-4a3c-83f3-255de548076b\">num_pipe</label><div class=\"sk-toggleable__content\"><pre><sklearn.compose._column_transformer.make_column_selector object at 0x7f520e3c5310></pre></div></div></div><div class=\"sk-serial\"><div class=\"sk-item\"><div class=\"sk-serial\"><div class=\"sk-item\"><div class=\"sk-estimator sk-toggleable\"><input class=\"sk-toggleable__control sk-hidden--visually\" id=\"6d57740c-225c-41c8-bc45-78fb3990b216\" type=\"checkbox\" ><label class=\"sk-toggleable__label\" for=\"6d57740c-225c-41c8-bc45-78fb3990b216\">SimpleImputer</label><div class=\"sk-toggleable__content\"><pre>SimpleImputer()</pre></div></div></div><div class=\"sk-item\"><div class=\"sk-estimator sk-toggleable\"><input class=\"sk-toggleable__control sk-hidden--visually\" id=\"b0a99f39-a70d-4c96-bd9a-3e54c7176202\" type=\"checkbox\" ><label class=\"sk-toggleable__label\" for=\"b0a99f39-a70d-4c96-bd9a-3e54c7176202\">StandardScaler</label><div class=\"sk-toggleable__content\"><pre>StandardScaler()</pre></div></div></div></div></div></div></div></div></div></div><div class=\"sk-item\"><div class=\"sk-estimator sk-toggleable\"><input class=\"sk-toggleable__control sk-hidden--visually\" id=\"9b96c7c5-f8b9-4d94-9d61-bcaeb59eaa3b\" type=\"checkbox\" ><label class=\"sk-toggleable__label\" for=\"9b96c7c5-f8b9-4d94-9d61-bcaeb59eaa3b\">LogisticRegression</label><div class=\"sk-toggleable__content\"><pre>LogisticRegression(penalty='elasticnet', solver='saga', tol=0.01)</pre></div></div></div></div></div></div></div>"
                    },
                    "metadata": {}
                }
            ]
        },
        {
            "metadata": {},
            "cell_type": "markdown",
            "source": "# Cross-validation with hyperparameter tuning"
        },
        {
            "metadata": {},
            "cell_type": "code",
            "source": "tuning_grid = {'mdl__l1_ratio' : np.linspace(0,1,5),\n               'mdl__C': np.logspace(-1, 6, 3) }\ngrid_search = GridSearchCV(pipe, param_grid = tuning_grid, cv = 5, return_train_score=True)",
            "execution_count": 13,
            "outputs": []
        },
        {
            "metadata": {},
            "cell_type": "code",
            "source": "grid_search.fit(X_train, y_train)",
            "execution_count": 14,
            "outputs": [
                {
                    "output_type": "execute_result",
                    "execution_count": 14,
                    "data": {
                        "text/plain": "GridSearchCV(cv=5,\n             estimator=Pipeline(steps=[('preproc',\n                                        ColumnTransformer(remainder='passthrough',\n                                                          transformers=[('cat_pipe',\n                                                                         Pipeline(steps=[('cat_impute',\n                                                                                          SimpleImputer(strategy='most_frequent')),\n                                                                                         ('onehot_cat',\n                                                                                          OneHotEncoder(drop='if_binary'))]),\n                                                                         <sklearn.compose._column_transformer.make_column_selector object at 0x7f520e3c54d0>),\n                                                                        ('num_pipe',\n                                                                         Pipeline(step...\n                                                                                          SimpleImputer()),\n                                                                                         ('scale_num',\n                                                                                          StandardScaler())]),\n                                                                         <sklearn.compose._column_transformer.make_column_selector object at 0x7f520e3c5310>)])),\n                                       ('mdl',\n                                        LogisticRegression(penalty='elasticnet',\n                                                           solver='saga',\n                                                           tol=0.01))]),\n             param_grid={'mdl__C': array([1.00000000e-01, 3.16227766e+02, 1.00000000e+06]),\n                         'mdl__l1_ratio': array([0.  , 0.25, 0.5 , 0.75, 1.  ])},\n             return_train_score=True)"
                    },
                    "metadata": {}
                }
            ]
        },
        {
            "metadata": {},
            "cell_type": "code",
            "source": "print(grid_search.best_score_)\ngrid_search.best_params_",
            "execution_count": 15,
            "outputs": [
                {
                    "output_type": "stream",
                    "text": "0.9158367346938775\n",
                    "name": "stdout"
                },
                {
                    "output_type": "execute_result",
                    "execution_count": 15,
                    "data": {
                        "text/plain": "{'mdl__C': 316.22776601683796, 'mdl__l1_ratio': 0.0}"
                    },
                    "metadata": {}
                }
            ]
        },
        {
            "metadata": {},
            "cell_type": "code",
            "source": "pd.DataFrame(grid_search.cv_results_)",
            "execution_count": 16,
            "outputs": [
                {
                    "output_type": "execute_result",
                    "execution_count": 16,
                    "data": {
                        "text/plain": "    mean_fit_time  std_fit_time  mean_score_time  std_score_time param_mdl__C  \\\n0        0.016588      0.005057         0.005555        0.000361          0.1   \n1        0.013714      0.000071         0.005265        0.000035          0.1   \n2        0.013737      0.000044         0.005247        0.000019          0.1   \n3        0.013735      0.000097         0.005238        0.000017          0.1   \n4        0.013891      0.000283         0.005261        0.000030          0.1   \n5        0.014558      0.000189         0.005249        0.000019      316.228   \n6        0.014817      0.000184         0.005244        0.000015      316.228   \n7        0.014813      0.000292         0.005269        0.000023      316.228   \n8        0.014853      0.000197         0.005252        0.000029      316.228   \n9        0.014816      0.000195         0.005258        0.000024      316.228   \n10       0.014573      0.000197         0.005272        0.000025        1e+06   \n11       0.014865      0.000161         0.005269        0.000014        1e+06   \n12       0.014784      0.000198         0.005249        0.000015        1e+06   \n13       0.014818      0.000159         0.005261        0.000028        1e+06   \n14       0.014824      0.000250         0.005251        0.000008        1e+06   \n\n   param_mdl__l1_ratio                                             params  \\\n0                    0              {'mdl__C': 0.1, 'mdl__l1_ratio': 0.0}   \n1                 0.25             {'mdl__C': 0.1, 'mdl__l1_ratio': 0.25}   \n2                  0.5              {'mdl__C': 0.1, 'mdl__l1_ratio': 0.5}   \n3                 0.75             {'mdl__C': 0.1, 'mdl__l1_ratio': 0.75}   \n4                    1              {'mdl__C': 0.1, 'mdl__l1_ratio': 1.0}   \n5                    0  {'mdl__C': 316.22776601683796, 'mdl__l1_ratio'...   \n6                 0.25  {'mdl__C': 316.22776601683796, 'mdl__l1_ratio'...   \n7                  0.5  {'mdl__C': 316.22776601683796, 'mdl__l1_ratio'...   \n8                 0.75  {'mdl__C': 316.22776601683796, 'mdl__l1_ratio'...   \n9                    1  {'mdl__C': 316.22776601683796, 'mdl__l1_ratio'...   \n10                   0        {'mdl__C': 1000000.0, 'mdl__l1_ratio': 0.0}   \n11                0.25       {'mdl__C': 1000000.0, 'mdl__l1_ratio': 0.25}   \n12                 0.5        {'mdl__C': 1000000.0, 'mdl__l1_ratio': 0.5}   \n13                0.75       {'mdl__C': 1000000.0, 'mdl__l1_ratio': 0.75}   \n14                   1        {'mdl__C': 1000000.0, 'mdl__l1_ratio': 1.0}   \n\n    split0_test_score  split1_test_score  split2_test_score  ...  \\\n0                0.90               0.90               0.92  ...   \n1                0.90               0.90               0.92  ...   \n2                0.92               0.88               0.90  ...   \n3                0.92               0.88               0.90  ...   \n4                0.88               0.90               0.90  ...   \n5                0.90               0.90               0.92  ...   \n6                0.90               0.90               0.92  ...   \n7                0.90               0.90               0.92  ...   \n8                0.90               0.90               0.92  ...   \n9                0.90               0.90               0.92  ...   \n10               0.90               0.90               0.92  ...   \n11               0.90               0.90               0.92  ...   \n12               0.90               0.90               0.92  ...   \n13               0.90               0.90               0.92  ...   \n14               0.90               0.90               0.92  ...   \n\n    mean_test_score  std_test_score  rank_test_score  split0_train_score  \\\n0          0.903673        0.014628               11            0.899497   \n1          0.903673        0.014628               11            0.889447   \n2          0.899837        0.039756               13            0.894472   \n3          0.899673        0.017532               14            0.904523   \n4          0.895673        0.014448               15            0.899497   \n5          0.915837        0.023016                1            0.929648   \n6          0.915837        0.023016                1            0.929648   \n7          0.915837        0.023016                1            0.929648   \n8          0.915837        0.023016                1            0.929648   \n9          0.915837        0.023016                1            0.929648   \n10         0.915837        0.023016                1            0.929648   \n11         0.915837        0.023016                1            0.929648   \n12         0.915837        0.023016                1            0.929648   \n13         0.915837        0.023016                1            0.929648   \n14         0.915837        0.023016                1            0.929648   \n\n    split1_train_score  split2_train_score  split3_train_score  \\\n0             0.909548            0.909548            0.904523   \n1             0.904523            0.904523            0.919598   \n2             0.904523            0.884422            0.909548   \n3             0.914573            0.904523            0.909548   \n4             0.889447            0.899497            0.899497   \n5             0.929648            0.939698            0.939698   \n6             0.929648            0.939698            0.939698   \n7             0.929648            0.939698            0.939698   \n8             0.929648            0.939698            0.939698   \n9             0.929648            0.939698            0.939698   \n10            0.929648            0.939698            0.939698   \n11            0.929648            0.939698            0.939698   \n12            0.929648            0.939698            0.939698   \n13            0.929648            0.939698            0.939698   \n14            0.929648            0.939698            0.939698   \n\n    split4_train_score  mean_train_score  std_train_score  \n0                0.905          0.905623         0.003740  \n1                0.900          0.903618         0.009705  \n2                0.900          0.898593         0.008660  \n3                0.885          0.903633         0.010034  \n4                0.885          0.894588         0.006175  \n5                0.915          0.930739         0.009062  \n6                0.915          0.930739         0.009062  \n7                0.915          0.930739         0.009062  \n8                0.915          0.930739         0.009062  \n9                0.915          0.930739         0.009062  \n10               0.915          0.930739         0.009062  \n11               0.915          0.930739         0.009062  \n12               0.915          0.930739         0.009062  \n13               0.915          0.930739         0.009062  \n14               0.915          0.930739         0.009062  \n\n[15 rows x 22 columns]",
                        "text/html": "<div>\n<style scoped>\n    .dataframe tbody tr th:only-of-type {\n        vertical-align: middle;\n    }\n\n    .dataframe tbody tr th {\n        vertical-align: top;\n    }\n\n    .dataframe thead th {\n        text-align: right;\n    }\n</style>\n<table border=\"1\" class=\"dataframe\">\n  <thead>\n    <tr style=\"text-align: right;\">\n      <th></th>\n      <th>mean_fit_time</th>\n      <th>std_fit_time</th>\n      <th>mean_score_time</th>\n      <th>std_score_time</th>\n      <th>param_mdl__C</th>\n      <th>param_mdl__l1_ratio</th>\n      <th>params</th>\n      <th>split0_test_score</th>\n      <th>split1_test_score</th>\n      <th>split2_test_score</th>\n      <th>...</th>\n      <th>mean_test_score</th>\n      <th>std_test_score</th>\n      <th>rank_test_score</th>\n      <th>split0_train_score</th>\n      <th>split1_train_score</th>\n      <th>split2_train_score</th>\n      <th>split3_train_score</th>\n      <th>split4_train_score</th>\n      <th>mean_train_score</th>\n      <th>std_train_score</th>\n    </tr>\n  </thead>\n  <tbody>\n    <tr>\n      <th>0</th>\n      <td>0.016588</td>\n      <td>0.005057</td>\n      <td>0.005555</td>\n      <td>0.000361</td>\n      <td>0.1</td>\n      <td>0</td>\n      <td>{'mdl__C': 0.1, 'mdl__l1_ratio': 0.0}</td>\n      <td>0.90</td>\n      <td>0.90</td>\n      <td>0.92</td>\n      <td>...</td>\n      <td>0.903673</td>\n      <td>0.014628</td>\n      <td>11</td>\n      <td>0.899497</td>\n      <td>0.909548</td>\n      <td>0.909548</td>\n      <td>0.904523</td>\n      <td>0.905</td>\n      <td>0.905623</td>\n      <td>0.003740</td>\n    </tr>\n    <tr>\n      <th>1</th>\n      <td>0.013714</td>\n      <td>0.000071</td>\n      <td>0.005265</td>\n      <td>0.000035</td>\n      <td>0.1</td>\n      <td>0.25</td>\n      <td>{'mdl__C': 0.1, 'mdl__l1_ratio': 0.25}</td>\n      <td>0.90</td>\n      <td>0.90</td>\n      <td>0.92</td>\n      <td>...</td>\n      <td>0.903673</td>\n      <td>0.014628</td>\n      <td>11</td>\n      <td>0.889447</td>\n      <td>0.904523</td>\n      <td>0.904523</td>\n      <td>0.919598</td>\n      <td>0.900</td>\n      <td>0.903618</td>\n      <td>0.009705</td>\n    </tr>\n    <tr>\n      <th>2</th>\n      <td>0.013737</td>\n      <td>0.000044</td>\n      <td>0.005247</td>\n      <td>0.000019</td>\n      <td>0.1</td>\n      <td>0.5</td>\n      <td>{'mdl__C': 0.1, 'mdl__l1_ratio': 0.5}</td>\n      <td>0.92</td>\n      <td>0.88</td>\n      <td>0.90</td>\n      <td>...</td>\n      <td>0.899837</td>\n      <td>0.039756</td>\n      <td>13</td>\n      <td>0.894472</td>\n      <td>0.904523</td>\n      <td>0.884422</td>\n      <td>0.909548</td>\n      <td>0.900</td>\n      <td>0.898593</td>\n      <td>0.008660</td>\n    </tr>\n    <tr>\n      <th>3</th>\n      <td>0.013735</td>\n      <td>0.000097</td>\n      <td>0.005238</td>\n      <td>0.000017</td>\n      <td>0.1</td>\n      <td>0.75</td>\n      <td>{'mdl__C': 0.1, 'mdl__l1_ratio': 0.75}</td>\n      <td>0.92</td>\n      <td>0.88</td>\n      <td>0.90</td>\n      <td>...</td>\n      <td>0.899673</td>\n      <td>0.017532</td>\n      <td>14</td>\n      <td>0.904523</td>\n      <td>0.914573</td>\n      <td>0.904523</td>\n      <td>0.909548</td>\n      <td>0.885</td>\n      <td>0.903633</td>\n      <td>0.010034</td>\n    </tr>\n    <tr>\n      <th>4</th>\n      <td>0.013891</td>\n      <td>0.000283</td>\n      <td>0.005261</td>\n      <td>0.000030</td>\n      <td>0.1</td>\n      <td>1</td>\n      <td>{'mdl__C': 0.1, 'mdl__l1_ratio': 1.0}</td>\n      <td>0.88</td>\n      <td>0.90</td>\n      <td>0.90</td>\n      <td>...</td>\n      <td>0.895673</td>\n      <td>0.014448</td>\n      <td>15</td>\n      <td>0.899497</td>\n      <td>0.889447</td>\n      <td>0.899497</td>\n      <td>0.899497</td>\n      <td>0.885</td>\n      <td>0.894588</td>\n      <td>0.006175</td>\n    </tr>\n    <tr>\n      <th>5</th>\n      <td>0.014558</td>\n      <td>0.000189</td>\n      <td>0.005249</td>\n      <td>0.000019</td>\n      <td>316.228</td>\n      <td>0</td>\n      <td>{'mdl__C': 316.22776601683796, 'mdl__l1_ratio'...</td>\n      <td>0.90</td>\n      <td>0.90</td>\n      <td>0.92</td>\n      <td>...</td>\n      <td>0.915837</td>\n      <td>0.023016</td>\n      <td>1</td>\n      <td>0.929648</td>\n      <td>0.929648</td>\n      <td>0.939698</td>\n      <td>0.939698</td>\n      <td>0.915</td>\n      <td>0.930739</td>\n      <td>0.009062</td>\n    </tr>\n    <tr>\n      <th>6</th>\n      <td>0.014817</td>\n      <td>0.000184</td>\n      <td>0.005244</td>\n      <td>0.000015</td>\n      <td>316.228</td>\n      <td>0.25</td>\n      <td>{'mdl__C': 316.22776601683796, 'mdl__l1_ratio'...</td>\n      <td>0.90</td>\n      <td>0.90</td>\n      <td>0.92</td>\n      <td>...</td>\n      <td>0.915837</td>\n      <td>0.023016</td>\n      <td>1</td>\n      <td>0.929648</td>\n      <td>0.929648</td>\n      <td>0.939698</td>\n      <td>0.939698</td>\n      <td>0.915</td>\n      <td>0.930739</td>\n      <td>0.009062</td>\n    </tr>\n    <tr>\n      <th>7</th>\n      <td>0.014813</td>\n      <td>0.000292</td>\n      <td>0.005269</td>\n      <td>0.000023</td>\n      <td>316.228</td>\n      <td>0.5</td>\n      <td>{'mdl__C': 316.22776601683796, 'mdl__l1_ratio'...</td>\n      <td>0.90</td>\n      <td>0.90</td>\n      <td>0.92</td>\n      <td>...</td>\n      <td>0.915837</td>\n      <td>0.023016</td>\n      <td>1</td>\n      <td>0.929648</td>\n      <td>0.929648</td>\n      <td>0.939698</td>\n      <td>0.939698</td>\n      <td>0.915</td>\n      <td>0.930739</td>\n      <td>0.009062</td>\n    </tr>\n    <tr>\n      <th>8</th>\n      <td>0.014853</td>\n      <td>0.000197</td>\n      <td>0.005252</td>\n      <td>0.000029</td>\n      <td>316.228</td>\n      <td>0.75</td>\n      <td>{'mdl__C': 316.22776601683796, 'mdl__l1_ratio'...</td>\n      <td>0.90</td>\n      <td>0.90</td>\n      <td>0.92</td>\n      <td>...</td>\n      <td>0.915837</td>\n      <td>0.023016</td>\n      <td>1</td>\n      <td>0.929648</td>\n      <td>0.929648</td>\n      <td>0.939698</td>\n      <td>0.939698</td>\n      <td>0.915</td>\n      <td>0.930739</td>\n      <td>0.009062</td>\n    </tr>\n    <tr>\n      <th>9</th>\n      <td>0.014816</td>\n      <td>0.000195</td>\n      <td>0.005258</td>\n      <td>0.000024</td>\n      <td>316.228</td>\n      <td>1</td>\n      <td>{'mdl__C': 316.22776601683796, 'mdl__l1_ratio'...</td>\n      <td>0.90</td>\n      <td>0.90</td>\n      <td>0.92</td>\n      <td>...</td>\n      <td>0.915837</td>\n      <td>0.023016</td>\n      <td>1</td>\n      <td>0.929648</td>\n      <td>0.929648</td>\n      <td>0.939698</td>\n      <td>0.939698</td>\n      <td>0.915</td>\n      <td>0.930739</td>\n      <td>0.009062</td>\n    </tr>\n    <tr>\n      <th>10</th>\n      <td>0.014573</td>\n      <td>0.000197</td>\n      <td>0.005272</td>\n      <td>0.000025</td>\n      <td>1e+06</td>\n      <td>0</td>\n      <td>{'mdl__C': 1000000.0, 'mdl__l1_ratio': 0.0}</td>\n      <td>0.90</td>\n      <td>0.90</td>\n      <td>0.92</td>\n      <td>...</td>\n      <td>0.915837</td>\n      <td>0.023016</td>\n      <td>1</td>\n      <td>0.929648</td>\n      <td>0.929648</td>\n      <td>0.939698</td>\n      <td>0.939698</td>\n      <td>0.915</td>\n      <td>0.930739</td>\n      <td>0.009062</td>\n    </tr>\n    <tr>\n      <th>11</th>\n      <td>0.014865</td>\n      <td>0.000161</td>\n      <td>0.005269</td>\n      <td>0.000014</td>\n      <td>1e+06</td>\n      <td>0.25</td>\n      <td>{'mdl__C': 1000000.0, 'mdl__l1_ratio': 0.25}</td>\n      <td>0.90</td>\n      <td>0.90</td>\n      <td>0.92</td>\n      <td>...</td>\n      <td>0.915837</td>\n      <td>0.023016</td>\n      <td>1</td>\n      <td>0.929648</td>\n      <td>0.929648</td>\n      <td>0.939698</td>\n      <td>0.939698</td>\n      <td>0.915</td>\n      <td>0.930739</td>\n      <td>0.009062</td>\n    </tr>\n    <tr>\n      <th>12</th>\n      <td>0.014784</td>\n      <td>0.000198</td>\n      <td>0.005249</td>\n      <td>0.000015</td>\n      <td>1e+06</td>\n      <td>0.5</td>\n      <td>{'mdl__C': 1000000.0, 'mdl__l1_ratio': 0.5}</td>\n      <td>0.90</td>\n      <td>0.90</td>\n      <td>0.92</td>\n      <td>...</td>\n      <td>0.915837</td>\n      <td>0.023016</td>\n      <td>1</td>\n      <td>0.929648</td>\n      <td>0.929648</td>\n      <td>0.939698</td>\n      <td>0.939698</td>\n      <td>0.915</td>\n      <td>0.930739</td>\n      <td>0.009062</td>\n    </tr>\n    <tr>\n      <th>13</th>\n      <td>0.014818</td>\n      <td>0.000159</td>\n      <td>0.005261</td>\n      <td>0.000028</td>\n      <td>1e+06</td>\n      <td>0.75</td>\n      <td>{'mdl__C': 1000000.0, 'mdl__l1_ratio': 0.75}</td>\n      <td>0.90</td>\n      <td>0.90</td>\n      <td>0.92</td>\n      <td>...</td>\n      <td>0.915837</td>\n      <td>0.023016</td>\n      <td>1</td>\n      <td>0.929648</td>\n      <td>0.929648</td>\n      <td>0.939698</td>\n      <td>0.939698</td>\n      <td>0.915</td>\n      <td>0.930739</td>\n      <td>0.009062</td>\n    </tr>\n    <tr>\n      <th>14</th>\n      <td>0.014824</td>\n      <td>0.000250</td>\n      <td>0.005251</td>\n      <td>0.000008</td>\n      <td>1e+06</td>\n      <td>1</td>\n      <td>{'mdl__C': 1000000.0, 'mdl__l1_ratio': 1.0}</td>\n      <td>0.90</td>\n      <td>0.90</td>\n      <td>0.92</td>\n      <td>...</td>\n      <td>0.915837</td>\n      <td>0.023016</td>\n      <td>1</td>\n      <td>0.929648</td>\n      <td>0.929648</td>\n      <td>0.939698</td>\n      <td>0.939698</td>\n      <td>0.915</td>\n      <td>0.930739</td>\n      <td>0.009062</td>\n    </tr>\n  </tbody>\n</table>\n<p>15 rows \u00d7 22 columns</p>\n</div>"
                    },
                    "metadata": {}
                }
            ]
        },
        {
            "metadata": {},
            "cell_type": "markdown",
            "source": "# Final fit\nThe final fit here is already present in the generated model due to the way we set our parameters in the grid search.  If we want to look at the performance, we can do so.  Here is a non-helpful description of the best model:"
        },
        {
            "metadata": {},
            "cell_type": "code",
            "source": "grid_search.best_estimator_",
            "execution_count": 17,
            "outputs": [
                {
                    "output_type": "execute_result",
                    "execution_count": 17,
                    "data": {
                        "text/plain": "Pipeline(steps=[('preproc',\n                 ColumnTransformer(remainder='passthrough',\n                                   transformers=[('cat_pipe',\n                                                  Pipeline(steps=[('cat_impute',\n                                                                   SimpleImputer(strategy='most_frequent')),\n                                                                  ('onehot_cat',\n                                                                   OneHotEncoder(drop='if_binary'))]),\n                                                  <sklearn.compose._column_transformer.make_column_selector object at 0x7f520e343450>),\n                                                 ('num_pipe',\n                                                  Pipeline(steps=[('impute_num',\n                                                                   SimpleImputer()),\n                                                                  ('scale_num',\n                                                                   StandardScaler())]),\n                                                  <sklearn.compose._column_transformer.make_column_selector object at 0x7f520e343fd0>)])),\n                ('mdl',\n                 LogisticRegression(C=316.22776601683796, l1_ratio=0.0,\n                                    penalty='elasticnet', solver='saga',\n                                    tol=0.01))])"
                    },
                    "metadata": {}
                }
            ]
        },
        {
            "metadata": {},
            "cell_type": "markdown",
            "source": "# Variable importance\nNow we assess the importance in the selected model to reveal any potential insights."
        },
        {
            "metadata": {},
            "cell_type": "code",
            "source": "grid_search.classes_",
            "execution_count": 18,
            "outputs": [
                {
                    "output_type": "execute_result",
                    "execution_count": 18,
                    "data": {
                        "text/plain": "array(['female', 'male'], dtype=object)"
                    },
                    "metadata": {}
                }
            ]
        },
        {
            "metadata": {},
            "cell_type": "code",
            "source": "vip = grid_search.best_estimator_['mdl'].coef_[0]\nvip",
            "execution_count": 19,
            "outputs": [
                {
                    "output_type": "execute_result",
                    "execution_count": 19,
                    "data": {
                        "text/plain": "array([ 3.52020146, -2.4271977 , -1.41470056, -0.40313129,  0.36575343,\n       -0.28431893,  2.6081427 ,  3.13992321, -0.14778583,  3.99226341,\n        0.1646457 ])"
                    },
                    "metadata": {}
                }
            ]
        },
        {
            "metadata": {},
            "cell_type": "code",
            "source": "#get names in correct preproc order\ncat_names = grid_search.best_estimator_.named_steps['preproc'].transformers_[0][1].named_steps['onehot_cat'].get_feature_names()\nnum_names = grid_search.best_estimator_.named_steps['preproc'].transformers_[1][2]\n\n#create df with vip info\ncoef_info = pd.DataFrame({'feat_names':np.hstack([cat_names, num_names]), 'vip': vip})\n\n#get sign and magnitude information\ncoef_info = coef_info.assign(coef_mag = abs(coef_info['vip']),\n                             coef_sign = np.sign(coef_info['vip']))\n\n#sort and plot\ncoef_info = coef_info.set_index('feat_names').sort_values(by='coef_mag', ascending=False)\nsns.barplot(y=coef_info.index, x='coef_mag', hue='coef_sign', data=coef_info, orient='h', dodge=False);",
            "execution_count": 20,
            "outputs": [
                {
                    "output_type": "display_data",
                    "data": {
                        "text/plain": "<Figure size 432x288 with 1 Axes>",
                        "image/png": "[encoded data removed]"
                    },
                    "metadata": {
                        "needs_background": "light"
                    }
                }
            ]
        },
        {
            "metadata": {},
            "cell_type": "markdown",
            "source": "# Performance metrics on test data"
        },
        {
            "metadata": {},
            "cell_type": "code",
            "source": "print(classification_report(y_test, grid_search.best_estimator_.predict(X_test)))",
            "execution_count": 21,
            "outputs": [
                {
                    "output_type": "stream",
                    "text": "              precision    recall  f1-score   support\n\n      female       0.89      0.93      0.91        42\n        male       0.93      0.88      0.90        42\n\n    accuracy                           0.90        84\n   macro avg       0.91      0.90      0.90        84\nweighted avg       0.91      0.90      0.90        84\n\n",
                    "name": "stdout"
                }
            ]
        },
        {
            "metadata": {},
            "cell_type": "markdown",
            "source": "Here, we can see the performance of the model, which is pretty nice!  We can also look into different scores specifically for more insight into the performance."
        }
    ],
    "metadata": {
        "kernelspec": {
            "name": "python3",
            "display_name": "Python 3.7",
            "language": "python"
        },
        "language_info": {
            "name": "python",
            "version": "3.7.10",
            "mimetype": "text/x-python",
            "codemirror_mode": {
                "name": "ipython",
                "version": 3
            },
            "pygments_lexer": "ipython3",
            "nbconvert_exporter": "python",
            "file_extension": ".py"
        }
    },
    "nbformat": 4,
    "nbformat_minor": 4
}