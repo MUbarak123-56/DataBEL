{
  "nbformat": 4,
  "nbformat_minor": 0,
  "metadata": {
    "colab": {
      "name": "Labeling.ipynb",
      "provenance": [],
      "authorship_tag": "ABX9TyOabhHidkcJ9iXiZt3FQ075",
      "include_colab_link": true
    },
    "kernelspec": {
      "name": "python3",
      "display_name": "Python 3"
    },
    "language_info": {
      "name": "python"
    }
  },
  "cells": [
    {
      "cell_type": "markdown",
      "metadata": {
        "id": "view-in-github",
        "colab_type": "text"
      },
      "source": [
        "<a href=\"https://colab.research.google.com/github/MUbarak123-56/DataBEL/blob/master/Labeling.ipynb\" target=\"_parent\"><img src=\"https://colab.research.google.com/assets/colab-badge.svg\" alt=\"Open In Colab\"/></a>"
      ]
    },
    {
      "cell_type": "code",
      "metadata": {
        "colab": {
          "base_uri": "https://localhost:8080/"
        },
        "id": "1by2_veJekJC",
        "outputId": "acefc5a6-4b63-4652-f365-7433086b9ca7"
      },
      "source": [
        "! pip install -Uqq fastbook\n",
        "import fastbook\n",
        "fastbook.setup_book()"
      ],
      "execution_count": 1,
      "outputs": [
        {
          "output_type": "stream",
          "text": [
            "\u001b[K     |████████████████████████████████| 727kB 7.3MB/s \n",
            "\u001b[K     |████████████████████████████████| 51kB 6.4MB/s \n",
            "\u001b[K     |████████████████████████████████| 1.2MB 16.0MB/s \n",
            "\u001b[K     |████████████████████████████████| 204kB 38.7MB/s \n",
            "\u001b[K     |████████████████████████████████| 61kB 8.4MB/s \n",
            "\u001b[K     |████████████████████████████████| 61kB 8.1MB/s \n",
            "\u001b[?25hMounted at /content/gdrive\n"
          ],
          "name": "stdout"
        }
      ]
    },
    {
      "cell_type": "code",
      "metadata": {
        "id": "vd_HaDsGeuMY"
      },
      "source": [
        "from fastbook import *\n",
        "from fastai.vision.widgets import *"
      ],
      "execution_count": 2,
      "outputs": []
    },
    {
      "cell_type": "code",
      "metadata": {
        "id": "etdMXNoQe8F4"
      },
      "source": [
        "path = Path('/content/gdrive/MyDrive/Digital Connoisseurship/segment sample')"
      ],
      "execution_count": 98,
      "outputs": []
    },
    {
      "cell_type": "code",
      "metadata": {
        "colab": {
          "base_uri": "https://localhost:8080/"
        },
        "id": "KSxlHO8ZHbSk",
        "outputId": "ab117328-aeb8-4636-eed2-4e80a80165ae"
      },
      "source": [
        "path"
      ],
      "execution_count": 99,
      "outputs": [
        {
          "output_type": "execute_result",
          "data": {
            "text/plain": [
              "Path('/content/gdrive/MyDrive/Digital Connoisseurship/segment sample')"
            ]
          },
          "metadata": {
            "tags": []
          },
          "execution_count": 99
        }
      ]
    },
    {
      "cell_type": "code",
      "metadata": {
        "id": "Ej0pVORmovyv"
      },
      "source": [
        "fnames = get_image_files(path)\n",
        "label = ['-'.join(x.name.split('-')[:1]) + '-'.join(x.name.split('-')[-1]) for x in fnames]\n",
        "labels = []\n",
        "for l in label:\n",
        "  labels.append(l[:-8])\n",
        "dls = ImageDataLoaders.from_lists(path, fnames, labels)"
      ],
      "execution_count": 100,
      "outputs": []
    },
    {
      "cell_type": "code",
      "metadata": {
        "colab": {
          "base_uri": "https://localhost:8080/"
        },
        "id": "bXz7smK4fHyL",
        "outputId": "13fbf97a-a7c8-466a-f9d8-cc8bd7ff93d0"
      },
      "source": [
        "dls.valid_ds.items[:3]"
      ],
      "execution_count": 101,
      "outputs": [
        {
          "output_type": "execute_result",
          "data": {
            "text/plain": [
              "[(Path('/content/gdrive/MyDrive/Digital Connoisseurship/segment sample/457658074-0-316-53-D.jpg'),\n",
              "  '457658074D'),\n",
              " (Path('/content/gdrive/MyDrive/Digital Connoisseurship/segment sample/457658242-474-0-75-J.jpg'),\n",
              "  '457658242J'),\n",
              " (Path('/content/gdrive/MyDrive/Digital Connoisseurship/segment sample/457657822-474-474-57-A.jpg'),\n",
              "  '457657822A')]"
            ]
          },
          "metadata": {
            "tags": []
          },
          "execution_count": 101
        }
      ]
    },
    {
      "cell_type": "code",
      "metadata": {
        "id": "FHlURUN0LPh8"
      },
      "source": [
        ""
      ],
      "execution_count": null,
      "outputs": []
    }
  ]
}