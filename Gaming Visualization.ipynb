{
 "cells": [
  {
   "cell_type": "markdown",
   "metadata": {},
   "source": [
    "## GAMING WEBSITES VS. GAMERS"
   ]
  },
  {
   "cell_type": "markdown",
   "metadata": {
    "collapsed": true
   },
   "source": [
    "## CREATING A COMPARISON BETWEEN USER RATING AND WEBSITE RATING"
   ]
  },
  {
   "cell_type": "code",
   "execution_count": 1,
   "metadata": {},
   "outputs": [
    {
     "data": {
      "text/html": [
       "<div>\n",
       "<style scoped>\n",
       "    .dataframe tbody tr th:only-of-type {\n",
       "        vertical-align: middle;\n",
       "    }\n",
       "\n",
       "    .dataframe tbody tr th {\n",
       "        vertical-align: top;\n",
       "    }\n",
       "\n",
       "    .dataframe thead th {\n",
       "        text-align: right;\n",
       "    }\n",
       "</style>\n",
       "<table border=\"1\" class=\"dataframe\">\n",
       "  <thead>\n",
       "    <tr style=\"text-align: right;\">\n",
       "      <th></th>\n",
       "      <th>id</th>\n",
       "      <th>game</th>\n",
       "      <th>platform</th>\n",
       "      <th>website_rating</th>\n",
       "      <th>user_rating</th>\n",
       "      <th>release</th>\n",
       "      <th>developer</th>\n",
       "      <th>classification</th>\n",
       "      <th>preview</th>\n",
       "      <th>url</th>\n",
       "    </tr>\n",
       "  </thead>\n",
       "  <tbody>\n",
       "    <tr>\n",
       "      <th>0</th>\n",
       "      <td>1</td>\n",
       "      <td>¡Has sido tú!</td>\n",
       "      <td>PS4</td>\n",
       "      <td>7.5</td>\n",
       "      <td>7.69</td>\n",
       "      <td>4/7/2017</td>\n",
       "      <td>Wish Studios &amp; Sony</td>\n",
       "      <td>PEGI +12</td>\n",
       "      <td>La razón por la que han existido las consolas ...</td>\n",
       "      <td>https://vandal.elespanol.com/analisis/ps4/has-...</td>\n",
       "    </tr>\n",
       "    <tr>\n",
       "      <th>1</th>\n",
       "      <td>2</td>\n",
       "      <td>#IDARB</td>\n",
       "      <td>Xbox One</td>\n",
       "      <td>8.2</td>\n",
       "      <td>7</td>\n",
       "      <td>3/2/2015</td>\n",
       "      <td>Other Ocean Interactive</td>\n",
       "      <td>PEGI +3</td>\n",
       "      <td>Es un fenómeno curioso, pero bien podríamos de...</td>\n",
       "      <td>https://vandal.elespanol.com/analisis/xbone/id...</td>\n",
       "    </tr>\n",
       "    <tr>\n",
       "      <th>2</th>\n",
       "      <td>3</td>\n",
       "      <td>007 Racing</td>\n",
       "      <td>PS One</td>\n",
       "      <td>6.9</td>\n",
       "      <td>4.88</td>\n",
       "      <td>Enero 2001</td>\n",
       "      <td>EA Games &amp; Electronic Arts</td>\n",
       "      <td>None</td>\n",
       "      <td>Bond, James BondCon la reciente tirada de títu...</td>\n",
       "      <td>https://vandal.elespanol.com/analisis/psx/007-...</td>\n",
       "    </tr>\n",
       "    <tr>\n",
       "      <th>3</th>\n",
       "      <td>4</td>\n",
       "      <td>007: Agente en Fuego Cruzado</td>\n",
       "      <td>GameCube</td>\n",
       "      <td>7.7</td>\n",
       "      <td>6.3</td>\n",
       "      <td>Año 2002</td>\n",
       "      <td>EA Games &amp; Electronic Arts</td>\n",
       "      <td>None</td>\n",
       "      <td>No podía ser de otra maneraBond vuelve, no pod...</td>\n",
       "      <td>https://vandal.elespanol.com/analisis/gcn/007-...</td>\n",
       "    </tr>\n",
       "    <tr>\n",
       "      <th>4</th>\n",
       "      <td>5</td>\n",
       "      <td>007: Nightfire</td>\n",
       "      <td>GameCube</td>\n",
       "      <td>8.7</td>\n",
       "      <td>6.93</td>\n",
       "      <td>29/11/2002</td>\n",
       "      <td>Eurocom &amp; EA Games</td>\n",
       "      <td>None</td>\n",
       "      <td>Licencia para matarAunque son muchos los jueg...</td>\n",
       "      <td>https://vandal.elespanol.com/analisis/gcn/007-...</td>\n",
       "    </tr>\n",
       "  </tbody>\n",
       "</table>\n",
       "</div>"
      ],
      "text/plain": [
       "   id                          game  platform website_rating user_rating  \\\n",
       "0   1                 ¡Has sido tú!       PS4            7.5        7.69   \n",
       "1   2                        #IDARB  Xbox One            8.2           7   \n",
       "2   3                    007 Racing    PS One            6.9        4.88   \n",
       "3   4  007: Agente en Fuego Cruzado  GameCube            7.7         6.3   \n",
       "4   5                007: Nightfire  GameCube            8.7        6.93   \n",
       "\n",
       "      release                   developer classification  \\\n",
       "0    4/7/2017         Wish Studios & Sony       PEGI +12   \n",
       "1    3/2/2015     Other Ocean Interactive        PEGI +3   \n",
       "2  Enero 2001  EA Games & Electronic Arts           None   \n",
       "3    Año 2002  EA Games & Electronic Arts           None   \n",
       "4  29/11/2002          Eurocom & EA Games           None   \n",
       "\n",
       "                                             preview  \\\n",
       "0  La razón por la que han existido las consolas ...   \n",
       "1  Es un fenómeno curioso, pero bien podríamos de...   \n",
       "2  Bond, James BondCon la reciente tirada de títu...   \n",
       "3  No podía ser de otra maneraBond vuelve, no pod...   \n",
       "4   Licencia para matarAunque son muchos los jueg...   \n",
       "\n",
       "                                                 url  \n",
       "0  https://vandal.elespanol.com/analisis/ps4/has-...  \n",
       "1  https://vandal.elespanol.com/analisis/xbone/id...  \n",
       "2  https://vandal.elespanol.com/analisis/psx/007-...  \n",
       "3  https://vandal.elespanol.com/analisis/gcn/007-...  \n",
       "4  https://vandal.elespanol.com/analisis/gcn/007-...  "
      ]
     },
     "execution_count": 1,
     "metadata": {},
     "output_type": "execute_result"
    }
   ],
   "source": [
    "## Loading the dataset\n",
    "import types\n",
    "import pandas as pd\n",
    "from botocore.client import Config\n",
    "import ibm_boto3\n",
    "\n",
    "def __iter__(self): return 0\n",
    "\n",
    "# @hidden_cell\n",
    "# The following code accesses a file in your IBM Cloud Object Storage. It includes your credentials.\n",
    "# You might want to remove those credentials before you share your notebook.\n",
    "client_e62b6c1bb76c4710b1d1cc5aeab9a929 = ibm_boto3.client(service_name='s3',\n",
    "    ibm_api_key_id='9ZymKSD_6E0Aw3YRO1fn1RBF95BmxW_zKvIslTE4CC4g',\n",
    "    ibm_auth_endpoint=\"https://iam.ng.bluemix.net/oidc/token\",\n",
    "    config=Config(signature_version='oauth'),\n",
    "    endpoint_url='https://s3-api.us-geo.objectstorage.service.networklayer.com')\n",
    "\n",
    "body = client_e62b6c1bb76c4710b1d1cc5aeab9a929.get_object(Bucket='databel-donotdelete-pr-d4qsbyzwywn9lq',Key='vandal.csv')['Body']\n",
    "# add missing __iter__ method, so pandas accepts body as file-like object\n",
    "if not hasattr(body, \"__iter__\"): body.__iter__ = types.MethodType( __iter__, body )\n",
    "\n",
    "df_data_1 = pd.read_csv(body)\n",
    "df_data_1.head()\n",
    "\n"
   ]
  },
  {
   "cell_type": "markdown",
   "metadata": {},
   "source": [
    "## DATA CLEANING"
   ]
  },
  {
   "cell_type": "code",
   "execution_count": 2,
   "metadata": {},
   "outputs": [],
   "source": [
    "df_game = df_data_1[['platform', 'website_rating', 'user_rating']]"
   ]
  },
  {
   "cell_type": "code",
   "execution_count": 3,
   "metadata": {},
   "outputs": [
    {
     "data": {
      "text/html": [
       "<div>\n",
       "<style scoped>\n",
       "    .dataframe tbody tr th:only-of-type {\n",
       "        vertical-align: middle;\n",
       "    }\n",
       "\n",
       "    .dataframe tbody tr th {\n",
       "        vertical-align: top;\n",
       "    }\n",
       "\n",
       "    .dataframe thead th {\n",
       "        text-align: right;\n",
       "    }\n",
       "</style>\n",
       "<table border=\"1\" class=\"dataframe\">\n",
       "  <thead>\n",
       "    <tr style=\"text-align: right;\">\n",
       "      <th></th>\n",
       "      <th>platform</th>\n",
       "      <th>website_rating</th>\n",
       "      <th>user_rating</th>\n",
       "    </tr>\n",
       "  </thead>\n",
       "  <tbody>\n",
       "    <tr>\n",
       "      <th>0</th>\n",
       "      <td>PS4</td>\n",
       "      <td>7.5</td>\n",
       "      <td>7.69</td>\n",
       "    </tr>\n",
       "    <tr>\n",
       "      <th>1</th>\n",
       "      <td>Xbox One</td>\n",
       "      <td>8.2</td>\n",
       "      <td>7</td>\n",
       "    </tr>\n",
       "    <tr>\n",
       "      <th>2</th>\n",
       "      <td>PS One</td>\n",
       "      <td>6.9</td>\n",
       "      <td>4.88</td>\n",
       "    </tr>\n",
       "    <tr>\n",
       "      <th>3</th>\n",
       "      <td>GameCube</td>\n",
       "      <td>7.7</td>\n",
       "      <td>6.3</td>\n",
       "    </tr>\n",
       "    <tr>\n",
       "      <th>4</th>\n",
       "      <td>GameCube</td>\n",
       "      <td>8.7</td>\n",
       "      <td>6.93</td>\n",
       "    </tr>\n",
       "  </tbody>\n",
       "</table>\n",
       "</div>"
      ],
      "text/plain": [
       "   platform website_rating user_rating\n",
       "0       PS4            7.5        7.69\n",
       "1  Xbox One            8.2           7\n",
       "2    PS One            6.9        4.88\n",
       "3  GameCube            7.7         6.3\n",
       "4  GameCube            8.7        6.93"
      ]
     },
     "execution_count": 3,
     "metadata": {},
     "output_type": "execute_result"
    }
   ],
   "source": [
    "df_game.head()"
   ]
  },
  {
   "cell_type": "code",
   "execution_count": 4,
   "metadata": {},
   "outputs": [
    {
     "data": {
      "text/plain": [
       "(11910, 3)"
      ]
     },
     "execution_count": 4,
     "metadata": {},
     "output_type": "execute_result"
    }
   ],
   "source": [
    "df_game.shape"
   ]
  },
  {
   "cell_type": "code",
   "execution_count": 5,
   "metadata": {},
   "outputs": [
    {
     "data": {
      "text/plain": [
       "Index(['platform', 'website_rating', 'user_rating'], dtype='object')"
      ]
     },
     "execution_count": 5,
     "metadata": {},
     "output_type": "execute_result"
    }
   ],
   "source": [
    "df_game.columns"
   ]
  },
  {
   "cell_type": "code",
   "execution_count": 6,
   "metadata": {},
   "outputs": [
    {
     "name": "stderr",
     "output_type": "stream",
     "text": [
      "/opt/conda/envs/Python36/lib/python3.6/site-packages/ipykernel/__main__.py:1: FutureWarning: convert_objects is deprecated.  To re-infer data dtypes for object columns, use DataFrame.infer_objects()\n",
      "For all other conversions use the data-type specific converters pd.to_datetime, pd.to_timedelta and pd.to_numeric.\n",
      "  if __name__ == '__main__':\n",
      "/opt/conda/envs/Python36/lib/python3.6/site-packages/pandas/core/frame.py:3391: SettingWithCopyWarning: \n",
      "A value is trying to be set on a copy of a slice from a DataFrame.\n",
      "Try using .loc[row_indexer,col_indexer] = value instead\n",
      "\n",
      "See the caveats in the documentation: http://pandas.pydata.org/pandas-docs/stable/indexing.html#indexing-view-versus-copy\n",
      "  self[k1] = value[k2]\n"
     ]
    }
   ],
   "source": [
    "df_game[['website_rating', 'user_rating']] = df_game[['website_rating','user_rating']].convert_objects(convert_numeric = True)"
   ]
  },
  {
   "cell_type": "code",
   "execution_count": 7,
   "metadata": {},
   "outputs": [
    {
     "data": {
      "text/html": [
       "<div>\n",
       "<style scoped>\n",
       "    .dataframe tbody tr th:only-of-type {\n",
       "        vertical-align: middle;\n",
       "    }\n",
       "\n",
       "    .dataframe tbody tr th {\n",
       "        vertical-align: top;\n",
       "    }\n",
       "\n",
       "    .dataframe thead th {\n",
       "        text-align: right;\n",
       "    }\n",
       "</style>\n",
       "<table border=\"1\" class=\"dataframe\">\n",
       "  <thead>\n",
       "    <tr style=\"text-align: right;\">\n",
       "      <th></th>\n",
       "      <th>website_rating</th>\n",
       "      <th>user_rating</th>\n",
       "    </tr>\n",
       "  </thead>\n",
       "  <tbody>\n",
       "    <tr>\n",
       "      <th>website_rating</th>\n",
       "      <td>1.000000</td>\n",
       "      <td>0.445945</td>\n",
       "    </tr>\n",
       "    <tr>\n",
       "      <th>user_rating</th>\n",
       "      <td>0.445945</td>\n",
       "      <td>1.000000</td>\n",
       "    </tr>\n",
       "  </tbody>\n",
       "</table>\n",
       "</div>"
      ],
      "text/plain": [
       "                website_rating  user_rating\n",
       "website_rating        1.000000     0.445945\n",
       "user_rating           0.445945     1.000000"
      ]
     },
     "execution_count": 7,
     "metadata": {},
     "output_type": "execute_result"
    }
   ],
   "source": [
    "df_game.corr()"
   ]
  },
  {
   "cell_type": "code",
   "execution_count": 8,
   "metadata": {},
   "outputs": [],
   "source": [
    "df_game = df_game[df_game['platform'] != 'Android']\n",
    "df_game = df_game[df_game['platform'] != 'iPhone']\n",
    "df_game = df_game[df_game['platform'] != 'PC']"
   ]
  },
  {
   "cell_type": "code",
   "execution_count": 9,
   "metadata": {},
   "outputs": [],
   "source": [
    "df_game = df_game.dropna().reset_index(drop = True)"
   ]
  },
  {
   "cell_type": "code",
   "execution_count": 10,
   "metadata": {},
   "outputs": [
    {
     "data": {
      "text/html": [
       "<div>\n",
       "<style scoped>\n",
       "    .dataframe tbody tr th:only-of-type {\n",
       "        vertical-align: middle;\n",
       "    }\n",
       "\n",
       "    .dataframe tbody tr th {\n",
       "        vertical-align: top;\n",
       "    }\n",
       "\n",
       "    .dataframe thead th {\n",
       "        text-align: right;\n",
       "    }\n",
       "</style>\n",
       "<table border=\"1\" class=\"dataframe\">\n",
       "  <thead>\n",
       "    <tr style=\"text-align: right;\">\n",
       "      <th></th>\n",
       "      <th>platform</th>\n",
       "      <th>website_rating</th>\n",
       "      <th>user_rating</th>\n",
       "    </tr>\n",
       "  </thead>\n",
       "  <tbody>\n",
       "    <tr>\n",
       "      <th>0</th>\n",
       "      <td>PS4</td>\n",
       "      <td>7.5</td>\n",
       "      <td>7.69</td>\n",
       "    </tr>\n",
       "    <tr>\n",
       "      <th>1</th>\n",
       "      <td>Xbox One</td>\n",
       "      <td>8.2</td>\n",
       "      <td>7.00</td>\n",
       "    </tr>\n",
       "    <tr>\n",
       "      <th>2</th>\n",
       "      <td>PS One</td>\n",
       "      <td>6.9</td>\n",
       "      <td>4.88</td>\n",
       "    </tr>\n",
       "    <tr>\n",
       "      <th>3</th>\n",
       "      <td>GameCube</td>\n",
       "      <td>7.7</td>\n",
       "      <td>6.30</td>\n",
       "    </tr>\n",
       "    <tr>\n",
       "      <th>4</th>\n",
       "      <td>GameCube</td>\n",
       "      <td>8.7</td>\n",
       "      <td>6.93</td>\n",
       "    </tr>\n",
       "  </tbody>\n",
       "</table>\n",
       "</div>"
      ],
      "text/plain": [
       "   platform  website_rating  user_rating\n",
       "0       PS4             7.5         7.69\n",
       "1  Xbox One             8.2         7.00\n",
       "2    PS One             6.9         4.88\n",
       "3  GameCube             7.7         6.30\n",
       "4  GameCube             8.7         6.93"
      ]
     },
     "execution_count": 10,
     "metadata": {},
     "output_type": "execute_result"
    }
   ],
   "source": [
    "df_game.head()"
   ]
  },
  {
   "cell_type": "code",
   "execution_count": 11,
   "metadata": {},
   "outputs": [],
   "source": [
    "df_game_x = df_game['website_rating'] \n",
    "df_game_y = df_game['user_rating']"
   ]
  },
  {
   "cell_type": "code",
   "execution_count": 12,
   "metadata": {},
   "outputs": [],
   "source": [
    "import matplotlib.pyplot as plt\n",
    "import pandas as pd\n",
    "import pylab as pl\n",
    "import numpy as np\n",
    "%matplotlib inline"
   ]
  },
  {
   "cell_type": "code",
   "execution_count": 13,
   "metadata": {},
   "outputs": [],
   "source": [
    "from sklearn import linear_model\n",
    "from sklearn.preprocessing import PolynomialFeatures\n",
    "from sklearn.metrics import r2_score\n",
    "from sklearn.metrics import mean_squared_error"
   ]
  },
  {
   "cell_type": "code",
   "execution_count": 14,
   "metadata": {},
   "outputs": [],
   "source": [
    "df_game1 = df_game.groupby(\"platform\").mean()"
   ]
  },
  {
   "cell_type": "code",
   "execution_count": 15,
   "metadata": {},
   "outputs": [
    {
     "data": {
      "text/html": [
       "<div>\n",
       "<style scoped>\n",
       "    .dataframe tbody tr th:only-of-type {\n",
       "        vertical-align: middle;\n",
       "    }\n",
       "\n",
       "    .dataframe tbody tr th {\n",
       "        vertical-align: top;\n",
       "    }\n",
       "\n",
       "    .dataframe thead th {\n",
       "        text-align: right;\n",
       "    }\n",
       "</style>\n",
       "<table border=\"1\" class=\"dataframe\">\n",
       "  <thead>\n",
       "    <tr style=\"text-align: right;\">\n",
       "      <th></th>\n",
       "      <th>website_rating</th>\n",
       "      <th>user_rating</th>\n",
       "    </tr>\n",
       "    <tr>\n",
       "      <th>platform</th>\n",
       "      <th></th>\n",
       "      <th></th>\n",
       "    </tr>\n",
       "  </thead>\n",
       "  <tbody>\n",
       "    <tr>\n",
       "      <th>Dreamcast</th>\n",
       "      <td>8.163725</td>\n",
       "      <td>7.282745</td>\n",
       "    </tr>\n",
       "    <tr>\n",
       "      <th>Game Boy Advance</th>\n",
       "      <td>8.319130</td>\n",
       "      <td>7.676783</td>\n",
       "    </tr>\n",
       "    <tr>\n",
       "      <th>GameCube</th>\n",
       "      <td>7.948701</td>\n",
       "      <td>7.397987</td>\n",
       "    </tr>\n",
       "    <tr>\n",
       "      <th>N-Gage</th>\n",
       "      <td>6.333333</td>\n",
       "      <td>7.523333</td>\n",
       "    </tr>\n",
       "    <tr>\n",
       "      <th>NDS</th>\n",
       "      <td>7.532571</td>\n",
       "      <td>7.191629</td>\n",
       "    </tr>\n",
       "    <tr>\n",
       "      <th>Nintendo 3DS</th>\n",
       "      <td>7.653053</td>\n",
       "      <td>7.665038</td>\n",
       "    </tr>\n",
       "    <tr>\n",
       "      <th>Nintendo 64</th>\n",
       "      <td>9.273684</td>\n",
       "      <td>8.136842</td>\n",
       "    </tr>\n",
       "    <tr>\n",
       "      <th>PS One</th>\n",
       "      <td>8.128646</td>\n",
       "      <td>7.231562</td>\n",
       "    </tr>\n",
       "    <tr>\n",
       "      <th>PS2</th>\n",
       "      <td>7.805396</td>\n",
       "      <td>7.245450</td>\n",
       "    </tr>\n",
       "    <tr>\n",
       "      <th>PS3</th>\n",
       "      <td>7.783918</td>\n",
       "      <td>7.602340</td>\n",
       "    </tr>\n",
       "    <tr>\n",
       "      <th>PS4</th>\n",
       "      <td>7.676603</td>\n",
       "      <td>7.620889</td>\n",
       "    </tr>\n",
       "    <tr>\n",
       "      <th>PSP</th>\n",
       "      <td>7.745778</td>\n",
       "      <td>7.545289</td>\n",
       "    </tr>\n",
       "    <tr>\n",
       "      <th>PSVITA</th>\n",
       "      <td>7.817040</td>\n",
       "      <td>7.838386</td>\n",
       "    </tr>\n",
       "    <tr>\n",
       "      <th>Switch</th>\n",
       "      <td>7.859236</td>\n",
       "      <td>7.914713</td>\n",
       "    </tr>\n",
       "    <tr>\n",
       "      <th>Wii</th>\n",
       "      <td>7.526765</td>\n",
       "      <td>7.270324</td>\n",
       "    </tr>\n",
       "    <tr>\n",
       "      <th>Wii U</th>\n",
       "      <td>7.798611</td>\n",
       "      <td>7.608264</td>\n",
       "    </tr>\n",
       "    <tr>\n",
       "      <th>Xbox</th>\n",
       "      <td>8.029577</td>\n",
       "      <td>7.780986</td>\n",
       "    </tr>\n",
       "    <tr>\n",
       "      <th>Xbox 360</th>\n",
       "      <td>7.751935</td>\n",
       "      <td>7.662179</td>\n",
       "    </tr>\n",
       "    <tr>\n",
       "      <th>Xbox One</th>\n",
       "      <td>7.841296</td>\n",
       "      <td>8.010000</td>\n",
       "    </tr>\n",
       "  </tbody>\n",
       "</table>\n",
       "</div>"
      ],
      "text/plain": [
       "                  website_rating  user_rating\n",
       "platform                                     \n",
       "Dreamcast               8.163725     7.282745\n",
       "Game Boy Advance        8.319130     7.676783\n",
       "GameCube                7.948701     7.397987\n",
       "N-Gage                  6.333333     7.523333\n",
       "NDS                     7.532571     7.191629\n",
       "Nintendo 3DS            7.653053     7.665038\n",
       "Nintendo 64             9.273684     8.136842\n",
       "PS One                  8.128646     7.231562\n",
       "PS2                     7.805396     7.245450\n",
       "PS3                     7.783918     7.602340\n",
       "PS4                     7.676603     7.620889\n",
       "PSP                     7.745778     7.545289\n",
       "PSVITA                  7.817040     7.838386\n",
       "Switch                  7.859236     7.914713\n",
       "Wii                     7.526765     7.270324\n",
       "Wii U                   7.798611     7.608264\n",
       "Xbox                    8.029577     7.780986\n",
       "Xbox 360                7.751935     7.662179\n",
       "Xbox One                7.841296     8.010000"
      ]
     },
     "execution_count": 15,
     "metadata": {},
     "output_type": "execute_result"
    }
   ],
   "source": [
    "df_game1"
   ]
  },
  {
   "cell_type": "code",
   "execution_count": 16,
   "metadata": {},
   "outputs": [
    {
     "data": {
      "text/plain": [
       "Index(['Dreamcast', 'Game Boy Advance', 'GameCube', 'N-Gage', 'NDS',\n",
       "       'Nintendo 3DS', 'Nintendo 64', 'PS One', 'PS2', 'PS3', 'PS4', 'PSP',\n",
       "       'PSVITA', 'Switch', 'Wii', 'Wii U', 'Xbox', 'Xbox 360', 'Xbox One'],\n",
       "      dtype='object', name='platform')"
      ]
     },
     "execution_count": 16,
     "metadata": {},
     "output_type": "execute_result"
    }
   ],
   "source": [
    "df_game1.index"
   ]
  },
  {
   "cell_type": "markdown",
   "metadata": {},
   "source": [
    "## EXPLORATORY ANALYSIS"
   ]
  },
  {
   "cell_type": "code",
   "execution_count": 17,
   "metadata": {},
   "outputs": [],
   "source": [
    "line = linear_model.LinearRegression() "
   ]
  },
  {
   "cell_type": "code",
   "execution_count": 18,
   "metadata": {},
   "outputs": [],
   "source": [
    "df_game1_x = df_game.loc[:, \"website_rating\"].values.reshape(-1, 1) \n",
    "df_game1_y = df_game.loc[:, \"user_rating\"].values.reshape(-1, 1) "
   ]
  },
  {
   "cell_type": "code",
   "execution_count": 19,
   "metadata": {},
   "outputs": [],
   "source": [
    "line.fit(df_game1_x, df_game1_y) \n",
    "pred = line.predict(df_game1_x)"
   ]
  },
  {
   "cell_type": "code",
   "execution_count": 20,
   "metadata": {},
   "outputs": [
    {
     "data": {
      "image/png": "[encoded data removed]",
      "text/plain": [
       "<Figure size 432x288 with 1 Axes>"
      ]
     },
     "metadata": {
      "needs_background": "light"
     },
     "output_type": "display_data"
    }
   ],
   "source": [
    "plt.scatter('website_rating', 'user_rating', data = df_game, marker = 'x', color = 'red')\n",
    "plt.xlabel(\"Website Rating\")\n",
    "plt.ylabel(\"User Rating\")\n",
    "plt.plot(df_game1_x,pred, color='black')\n",
    "plt.show()"
   ]
  },
  {
   "cell_type": "code",
   "execution_count": 21,
   "metadata": {},
   "outputs": [
    {
     "data": {
      "text/html": [
       "<div>\n",
       "<style scoped>\n",
       "    .dataframe tbody tr th:only-of-type {\n",
       "        vertical-align: middle;\n",
       "    }\n",
       "\n",
       "    .dataframe tbody tr th {\n",
       "        vertical-align: top;\n",
       "    }\n",
       "\n",
       "    .dataframe thead th {\n",
       "        text-align: right;\n",
       "    }\n",
       "</style>\n",
       "<table border=\"1\" class=\"dataframe\">\n",
       "  <thead>\n",
       "    <tr style=\"text-align: right;\">\n",
       "      <th></th>\n",
       "      <th>website_rating</th>\n",
       "      <th>user_rating</th>\n",
       "    </tr>\n",
       "  </thead>\n",
       "  <tbody>\n",
       "    <tr>\n",
       "      <th>website_rating</th>\n",
       "      <td>1.000000</td>\n",
       "      <td>0.476772</td>\n",
       "    </tr>\n",
       "    <tr>\n",
       "      <th>user_rating</th>\n",
       "      <td>0.476772</td>\n",
       "      <td>1.000000</td>\n",
       "    </tr>\n",
       "  </tbody>\n",
       "</table>\n",
       "</div>"
      ],
      "text/plain": [
       "                website_rating  user_rating\n",
       "website_rating        1.000000     0.476772\n",
       "user_rating           0.476772     1.000000"
      ]
     },
     "execution_count": 21,
     "metadata": {},
     "output_type": "execute_result"
    }
   ],
   "source": [
    "df_game.corr()"
   ]
  },
  {
   "cell_type": "code",
   "execution_count": 22,
   "metadata": {},
   "outputs": [],
   "source": [
    "df_game2 = df_game1['user_rating']"
   ]
  },
  {
   "cell_type": "code",
   "execution_count": 23,
   "metadata": {},
   "outputs": [
    {
     "data": {
      "text/plain": [
       "platform\n",
       "Dreamcast           7.282745\n",
       "Game Boy Advance    7.676783\n",
       "GameCube            7.397987\n",
       "N-Gage              7.523333\n",
       "NDS                 7.191629\n",
       "Name: user_rating, dtype: float64"
      ]
     },
     "execution_count": 23,
     "metadata": {},
     "output_type": "execute_result"
    }
   ],
   "source": [
    "df_game2.head()"
   ]
  },
  {
   "cell_type": "code",
   "execution_count": 24,
   "metadata": {},
   "outputs": [
    {
     "data": {
      "image/png": "[encoded data removed]",
      "text/plain": [
       "<Figure size 2304x1152 with 1 Axes>"
      ]
     },
     "metadata": {
      "needs_background": "light"
     },
     "output_type": "display_data"
    }
   ],
   "source": [
    "## A horizontal bar graph showing us the user ratings by platforms\n",
    "bar = df_game1.plot(kind='barh',figsize=(32, 16), color = [\"blue\",\"red\"])\n",
    "bar\n",
    "plt.yticks(fontsize = 24)\n",
    "plt.xticks(fontsize = 18)\n",
    "plt.xlim(6,9.5)\n",
    "plt.ylabel(\"\")\n",
    "plt.title(\"User ratings vs Website Ratings by platform\", fontsize=32)\n",
    "bar.spines['top'].set_visible(False)\n",
    "bar.spines['right'].set_visible(False)\n",
    "bar.spines['bottom'].set_linewidth(0.5)\n",
    "bar.spines['left'].set_visible(True)\n",
    "plt.legend(loc=\"upper right\", fontsize=18)\n",
    "plt.show()"
   ]
  },
  {
   "cell_type": "code",
   "execution_count": 25,
   "metadata": {},
   "outputs": [],
   "source": [
    "df_game_2 = df_data_1[['platform', 'user_rating', 'website_rating','game']]"
   ]
  },
  {
   "cell_type": "code",
   "execution_count": 26,
   "metadata": {},
   "outputs": [],
   "source": [
    "df_game_2 = df_game_2[df_game_2['platform'] != 'Android']\n",
    "df_game_2 = df_game_2[df_game_2['platform'] != 'iPhone']\n",
    "df_game_2 = df_game_2[df_game_2['platform'] != 'PC']"
   ]
  },
  {
   "cell_type": "code",
   "execution_count": 27,
   "metadata": {},
   "outputs": [],
   "source": [
    "df_game_2 = df_game_2[df_game_2['website_rating'] != 'None']\n",
    "df_game_2 = df_game_2[df_game_2['user_rating'] != 'None']"
   ]
  },
  {
   "cell_type": "code",
   "execution_count": 28,
   "metadata": {},
   "outputs": [],
   "source": [
    "df_game_2 = df_game_2.dropna().reset_index(drop = True)"
   ]
  },
  {
   "cell_type": "code",
   "execution_count": 29,
   "metadata": {},
   "outputs": [
    {
     "data": {
      "text/html": [
       "<div>\n",
       "<style scoped>\n",
       "    .dataframe tbody tr th:only-of-type {\n",
       "        vertical-align: middle;\n",
       "    }\n",
       "\n",
       "    .dataframe tbody tr th {\n",
       "        vertical-align: top;\n",
       "    }\n",
       "\n",
       "    .dataframe thead th {\n",
       "        text-align: right;\n",
       "    }\n",
       "</style>\n",
       "<table border=\"1\" class=\"dataframe\">\n",
       "  <thead>\n",
       "    <tr style=\"text-align: right;\">\n",
       "      <th></th>\n",
       "      <th>platform</th>\n",
       "      <th>user_rating</th>\n",
       "      <th>website_rating</th>\n",
       "      <th>game</th>\n",
       "    </tr>\n",
       "  </thead>\n",
       "  <tbody>\n",
       "    <tr>\n",
       "      <th>6226</th>\n",
       "      <td>Wii</td>\n",
       "      <td>9.2</td>\n",
       "      <td>9.9</td>\n",
       "      <td>Xenoblade Chronicles</td>\n",
       "    </tr>\n",
       "    <tr>\n",
       "      <th>2086</th>\n",
       "      <td>PS2</td>\n",
       "      <td>9.01</td>\n",
       "      <td>9.9</td>\n",
       "      <td>Grand Theft Auto: San Andreas</td>\n",
       "    </tr>\n",
       "    <tr>\n",
       "      <th>3207</th>\n",
       "      <td>Dreamcast</td>\n",
       "      <td>8.43</td>\n",
       "      <td>9.9</td>\n",
       "      <td>Metropolis Street Racer</td>\n",
       "    </tr>\n",
       "    <tr>\n",
       "      <th>4607</th>\n",
       "      <td>Dreamcast</td>\n",
       "      <td>9.18</td>\n",
       "      <td>9.9</td>\n",
       "      <td>ShenMue</td>\n",
       "    </tr>\n",
       "    <tr>\n",
       "      <th>6287</th>\n",
       "      <td>Nintendo 64</td>\n",
       "      <td>8.9</td>\n",
       "      <td>9.9</td>\n",
       "      <td>Zelda: Majora's Mask</td>\n",
       "    </tr>\n",
       "    <tr>\n",
       "      <th>3160</th>\n",
       "      <td>PS2</td>\n",
       "      <td>9.29</td>\n",
       "      <td>9.8</td>\n",
       "      <td>Metal Gear Solid 3: Snake Eater</td>\n",
       "    </tr>\n",
       "    <tr>\n",
       "      <th>5389</th>\n",
       "      <td>Xbox 360</td>\n",
       "      <td>9.21</td>\n",
       "      <td>9.8</td>\n",
       "      <td>The Elder Scrolls V: Skyrim</td>\n",
       "    </tr>\n",
       "    <tr>\n",
       "      <th>3196</th>\n",
       "      <td>GameCube</td>\n",
       "      <td>9.12</td>\n",
       "      <td>9.8</td>\n",
       "      <td>Metroid Prime</td>\n",
       "    </tr>\n",
       "    <tr>\n",
       "      <th>3195</th>\n",
       "      <td>Game Boy Advance</td>\n",
       "      <td>8.59</td>\n",
       "      <td>9.8</td>\n",
       "      <td>Metroid Fusion</td>\n",
       "    </tr>\n",
       "    <tr>\n",
       "      <th>5431</th>\n",
       "      <td>PS3</td>\n",
       "      <td>9.42</td>\n",
       "      <td>9.8</td>\n",
       "      <td>The Last of Us</td>\n",
       "    </tr>\n",
       "  </tbody>\n",
       "</table>\n",
       "</div>"
      ],
      "text/plain": [
       "              platform user_rating website_rating  \\\n",
       "6226               Wii         9.2            9.9   \n",
       "2086               PS2        9.01            9.9   \n",
       "3207         Dreamcast        8.43            9.9   \n",
       "4607         Dreamcast        9.18            9.9   \n",
       "6287       Nintendo 64         8.9            9.9   \n",
       "3160               PS2        9.29            9.8   \n",
       "5389          Xbox 360        9.21            9.8   \n",
       "3196          GameCube        9.12            9.8   \n",
       "3195  Game Boy Advance        8.59            9.8   \n",
       "5431               PS3        9.42            9.8   \n",
       "\n",
       "                                 game  \n",
       "6226             Xenoblade Chronicles  \n",
       "2086    Grand Theft Auto: San Andreas  \n",
       "3207          Metropolis Street Racer  \n",
       "4607                          ShenMue  \n",
       "6287             Zelda: Majora's Mask  \n",
       "3160  Metal Gear Solid 3: Snake Eater  \n",
       "5389      The Elder Scrolls V: Skyrim  \n",
       "3196                    Metroid Prime  \n",
       "3195                   Metroid Fusion  \n",
       "5431                   The Last of Us  "
      ]
     },
     "execution_count": 29,
     "metadata": {},
     "output_type": "execute_result"
    }
   ],
   "source": [
    "df_game_2.sort_values(by = \"website_rating\", ascending = False).head(10)"
   ]
  },
  {
   "cell_type": "code",
   "execution_count": 30,
   "metadata": {},
   "outputs": [
    {
     "data": {
      "text/html": [
       "<div>\n",
       "<style scoped>\n",
       "    .dataframe tbody tr th:only-of-type {\n",
       "        vertical-align: middle;\n",
       "    }\n",
       "\n",
       "    .dataframe tbody tr th {\n",
       "        vertical-align: top;\n",
       "    }\n",
       "\n",
       "    .dataframe thead th {\n",
       "        text-align: right;\n",
       "    }\n",
       "</style>\n",
       "<table border=\"1\" class=\"dataframe\">\n",
       "  <thead>\n",
       "    <tr style=\"text-align: right;\">\n",
       "      <th></th>\n",
       "      <th>platform</th>\n",
       "      <th>user_rating</th>\n",
       "      <th>website_rating</th>\n",
       "      <th>game</th>\n",
       "    </tr>\n",
       "  </thead>\n",
       "  <tbody>\n",
       "    <tr>\n",
       "      <th>6224</th>\n",
       "      <td>PS3</td>\n",
       "      <td>9.92</td>\n",
       "      <td>9</td>\n",
       "      <td>XCOM: Enemy Within</td>\n",
       "    </tr>\n",
       "    <tr>\n",
       "      <th>147</th>\n",
       "      <td>PS3</td>\n",
       "      <td>9.92</td>\n",
       "      <td>7</td>\n",
       "      <td>Angry Birds Trilogy</td>\n",
       "    </tr>\n",
       "    <tr>\n",
       "      <th>6276</th>\n",
       "      <td>PSVITA</td>\n",
       "      <td>9.91</td>\n",
       "      <td>8.8</td>\n",
       "      <td>Ys VIII: Lacrimosa of Dana</td>\n",
       "    </tr>\n",
       "    <tr>\n",
       "      <th>5384</th>\n",
       "      <td>PS4</td>\n",
       "      <td>9.9</td>\n",
       "      <td>7</td>\n",
       "      <td>The Elder Scrolls Online: Morrowind</td>\n",
       "    </tr>\n",
       "    <tr>\n",
       "      <th>6260</th>\n",
       "      <td>Switch</td>\n",
       "      <td>9.9</td>\n",
       "      <td>8</td>\n",
       "      <td>Yoku's Island Express</td>\n",
       "    </tr>\n",
       "    <tr>\n",
       "      <th>372</th>\n",
       "      <td>Xbox One</td>\n",
       "      <td>9.9</td>\n",
       "      <td>8</td>\n",
       "      <td>Battle Chasers: Nightwar</td>\n",
       "    </tr>\n",
       "    <tr>\n",
       "      <th>1218</th>\n",
       "      <td>Xbox 360</td>\n",
       "      <td>9.85</td>\n",
       "      <td>7</td>\n",
       "      <td>Disney Universe</td>\n",
       "    </tr>\n",
       "    <tr>\n",
       "      <th>2481</th>\n",
       "      <td>Wii</td>\n",
       "      <td>9.85</td>\n",
       "      <td>8</td>\n",
       "      <td>Just Dance 2015</td>\n",
       "    </tr>\n",
       "    <tr>\n",
       "      <th>6017</th>\n",
       "      <td>PS4</td>\n",
       "      <td>9.83</td>\n",
       "      <td>5.6</td>\n",
       "      <td>Warhammer 40.000: Inquisitor - Martyr</td>\n",
       "    </tr>\n",
       "    <tr>\n",
       "      <th>1135</th>\n",
       "      <td>Xbox One</td>\n",
       "      <td>9.83</td>\n",
       "      <td>8.5</td>\n",
       "      <td>Deus Ex: Mankind Divided</td>\n",
       "    </tr>\n",
       "  </tbody>\n",
       "</table>\n",
       "</div>"
      ],
      "text/plain": [
       "      platform user_rating website_rating  \\\n",
       "6224       PS3        9.92              9   \n",
       "147        PS3        9.92              7   \n",
       "6276    PSVITA        9.91            8.8   \n",
       "5384       PS4         9.9              7   \n",
       "6260    Switch         9.9              8   \n",
       "372   Xbox One         9.9              8   \n",
       "1218  Xbox 360        9.85              7   \n",
       "2481       Wii        9.85              8   \n",
       "6017       PS4        9.83            5.6   \n",
       "1135  Xbox One        9.83            8.5   \n",
       "\n",
       "                                       game  \n",
       "6224                     XCOM: Enemy Within  \n",
       "147                     Angry Birds Trilogy  \n",
       "6276             Ys VIII: Lacrimosa of Dana  \n",
       "5384    The Elder Scrolls Online: Morrowind  \n",
       "6260                  Yoku's Island Express  \n",
       "372                Battle Chasers: Nightwar  \n",
       "1218                        Disney Universe  \n",
       "2481                        Just Dance 2015  \n",
       "6017  Warhammer 40.000: Inquisitor - Martyr  \n",
       "1135               Deus Ex: Mankind Divided  "
      ]
     },
     "execution_count": 30,
     "metadata": {},
     "output_type": "execute_result"
    }
   ],
   "source": [
    "df_game_2.sort_values(by = \"user_rating\", ascending = False).head(10)"
   ]
  },
  {
   "cell_type": "code",
   "execution_count": null,
   "metadata": {},
   "outputs": [],
   "source": []
  }
 ],
 "metadata": {
  "kernelspec": {
   "display_name": "Python 3.6",
   "language": "python",
   "name": "python3"
  },
  "language_info": {
   "codemirror_mode": {
    "name": "ipython",
    "version": 3
   },
   "file_extension": ".py",
   "mimetype": "text/x-python",
   "name": "python",
   "nbconvert_exporter": "python",
   "pygments_lexer": "ipython3",
   "version": "3.6.8"
  }
 },
 "nbformat": 4,
 "nbformat_minor": 1
}
